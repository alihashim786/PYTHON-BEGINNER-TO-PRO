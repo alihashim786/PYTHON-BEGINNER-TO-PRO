{
 "cells": [
  {
   "cell_type": "markdown",
   "metadata": {
    "id": "0XMjAQtX0C3n"
   },
   "source": [
    "Notebook prepared by Muhammad Sohail Abbas"
   ]
  },
  {
   "cell_type": "markdown",
   "metadata": {
    "id": "9t1gKp9PL9eV"
   },
   "source": [
    "# PAI Lab 04\n",
    "\n",
    "## Outline\n",
    "* Numpy"
   ]
  },
  {
   "cell_type": "markdown",
   "metadata": {
    "id": "dlT8bB7v8J4j"
   },
   "source": [
    "## File Reading"
   ]
  },
  {
   "cell_type": "markdown",
   "metadata": {
    "id": "25G_Tdyg8bN4"
   },
   "source": [
    "The key function for working with files in Python is the open() function.\n",
    "\n",
    "The open() function takes two parameters; filename, and mode.\n",
    "\n",
    "In addition you can specify if the file should be handled as binary or text mode\n",
    "\n",
    "\"t\" - Text - Default value. Text mode\n"
   ]
  },
  {
   "cell_type": "code",
   "execution_count": 23,
   "metadata": {
    "id": "x6lW6iIf7-jZ"
   },
   "outputs": [],
   "source": [
    "f = open(\"Strings.txt\")"
   ]
  },
  {
   "cell_type": "code",
   "execution_count": 28,
   "metadata": {
    "id": "buzLZWAp8xAJ"
   },
   "outputs": [],
   "source": [
    "f = open(\"Strings.txt\", \"rt\")"
   ]
  },
  {
   "cell_type": "markdown",
   "metadata": {
    "id": "WtXAfP2C86YC"
   },
   "source": [
    "Because \"r\" for read, and \"t\" for text are the default values, you do not need to specify them."
   ]
  },
  {
   "cell_type": "code",
   "execution_count": 43,
   "metadata": {
    "id": "BmcDuloc_cK3"
   },
   "outputs": [
    {
     "name": "stdout",
     "output_type": "stream",
     "text": [
      "['A', '', '', '', 'A-  prefix (also an- before a vowel sound) not, without (amoral). [greek]']\n"
     ]
    }
   ],
   "source": [
    "f = open(\"Strings.txt\", \"rt\",encoding=\"utf-8\")\n",
    "text = []\n",
    "# loop through each line\n",
    "for line in f.readlines():\n",
    "    text.append(line.strip())\n",
    "    \n",
    "print(text[:5])"
   ]
  },
  {
   "cell_type": "markdown",
   "metadata": {
    "id": "YCyGmYPWAKVl"
   },
   "source": [
    "For File writing and deletion visit [Documentation](https://www.w3schools.com/python/python_file_write.asp)"
   ]
  },
  {
   "cell_type": "markdown",
   "metadata": {},
   "source": [
    "# Numpy"
   ]
  },
  {
   "cell_type": "markdown",
   "metadata": {},
   "source": [
    "Numpy is the core library for scientific computing in Python. It\n",
    "provides a high-performance multidimensional array object, and tools for\n",
    "working with these arrays.\n",
    "To use Numpy, we first need to import the `numpy` package. By\n",
    "convention, we import it using the alias `np`. Then, when we want to use\n",
    "modules or functions in this library, we preface them with `np.`"
   ]
  },
  {
   "cell_type": "code",
   "execution_count": 1,
   "metadata": {},
   "outputs": [
    {
     "name": "stdout",
     "output_type": "stream",
     "text": [
      "/usr/bin/python3: No module named pip\n",
      "Note: you may need to restart the kernel to use updated packages.\n"
     ]
    }
   ],
   "source": [
    "pip install numpy # conda install numpy"
   ]
  },
  {
   "cell_type": "code",
   "execution_count": 2,
   "metadata": {},
   "outputs": [],
   "source": [
    "import numpy as np"
   ]
  },
  {
   "cell_type": "markdown",
   "metadata": {},
   "source": [
    "## Numpy Arrays\n",
    "\n",
    "A numpy array is a grid of values, all of the same type, and is indexed\n",
    "by a tuple of nonnegative integers. The number of dimensions is the rank\n",
    "of the array; the shape of an array is a tuple of integers giving the\n",
    "size of the array along each dimension.\n",
    "We can create a `numpy` array by passing a Python list to `np.array()`."
   ]
  },
  {
   "cell_type": "code",
   "execution_count": 47,
   "metadata": {},
   "outputs": [
    {
     "data": {
      "text/plain": [
       "array([1, 2, 3])"
      ]
     },
     "execution_count": 47,
     "metadata": {},
     "output_type": "execute_result"
    }
   ],
   "source": [
    "a = np.array([1, 2, 3])  # Create a rank 1 array\n",
    "a"
   ]
  },
  {
   "cell_type": "markdown",
   "metadata": {},
   "source": [
    "This creates the array we can see on the right here:\n",
    "\n",
    "![](http://jalammar.github.io/images/numpy/create-numpy-array-1.png)"
   ]
  },
  {
   "cell_type": "code",
   "execution_count": 49,
   "metadata": {},
   "outputs": [
    {
     "name": "stdout",
     "output_type": "stream",
     "text": [
      "<class 'numpy.ndarray'> (3,) 1 2 3\n",
      "[5 2 3]\n"
     ]
    }
   ],
   "source": [
    "print(type(a), a.shape, a[0], a[1], a[2])\n",
    "a[0] = 5                 # Change an element of the array\n",
    "print(a)                  "
   ]
  },
  {
   "cell_type": "markdown",
   "metadata": {},
   "source": [
    "To create a `numpy` array with more dimensions, we can pass nested\n",
    "lists, like this:\n",
    "\n",
    "![](http://jalammar.github.io/images/numpy/numpy-array-create-2d.png)\n",
    "\n",
    "![](http://jalammar.github.io/images/numpy/numpy-3d-array.png)"
   ]
  },
  {
   "cell_type": "code",
   "execution_count": 51,
   "metadata": {},
   "outputs": [
    {
     "name": "stdout",
     "output_type": "stream",
     "text": [
      "[[1 2]\n",
      " [3 4]]\n"
     ]
    }
   ],
   "source": [
    "b = np.array([[1,2],[3,4]])   # Create a rank 2 array\n",
    "print(b)"
   ]
  },
  {
   "cell_type": "code",
   "execution_count": 52,
   "metadata": {},
   "outputs": [
    {
     "name": "stdout",
     "output_type": "stream",
     "text": [
      "(2, 2)\n"
     ]
    }
   ],
   "source": [
    "print(b.shape)"
   ]
  },
  {
   "cell_type": "markdown",
   "metadata": {},
   "source": [
    "There are often cases when we want numpy to initialize the values of the\n",
    "array for us. numpy provides methods like `ones()`, `zeros()`, and\n",
    "`random.random()` for these cases. We just pass them the number of\n",
    "elements we want it to generate:\n",
    "\n",
    "![](http://jalammar.github.io/images/numpy/create-numpy-array-ones-zeros-random.png)"
   ]
  },
  {
   "cell_type": "markdown",
   "metadata": {},
   "source": [
    "We can also use these methods to produce multi-dimensional arrays, as\n",
    "long as we pass them a tuple describing the dimensions of the matrix we\n",
    "want to create:\n",
    "\n",
    "![](http://jalammar.github.io/images/numpy/numpy-matrix-ones-zeros-random.png)\n",
    "\n",
    "![](http://jalammar.github.io/images/numpy/numpy-3d-array-creation.png)"
   ]
  },
  {
   "cell_type": "markdown",
   "metadata": {},
   "source": [
    "Sometimes, we need an array of a specific shape with “placeholder”\n",
    "values that we plan to fill in with the result of a computation. The\n",
    "`zeros` or `ones` functions are handy for this:"
   ]
  },
  {
   "cell_type": "code",
   "execution_count": 55,
   "metadata": {},
   "outputs": [
    {
     "name": "stdout",
     "output_type": "stream",
     "text": [
      "[[0. 0.]\n",
      " [0. 0.]]\n"
     ]
    }
   ],
   "source": [
    "a = np.zeros((2,2))  # Create an array of all zeros\n",
    "print(a)"
   ]
  },
  {
   "cell_type": "code",
   "execution_count": 57,
   "metadata": {},
   "outputs": [
    {
     "name": "stdout",
     "output_type": "stream",
     "text": [
      "[[[1. 1. 1.]\n",
      "  [1. 1. 1.]]]\n"
     ]
    }
   ],
   "source": [
    "b = np.ones((1,2,3))   # Create an array of all ones\n",
    "print(b)"
   ]
  },
  {
   "cell_type": "code",
   "execution_count": 59,
   "metadata": {},
   "outputs": [
    {
     "name": "stdout",
     "output_type": "stream",
     "text": [
      "[[[7 7 7 7]\n",
      "  [7 7 7 7]]\n",
      "\n",
      " [[7 7 7 7]\n",
      "  [7 7 7 7]]]\n"
     ]
    }
   ],
   "source": [
    "c = np.full((2,2,4), 7) # Create a constant array\n",
    "print(c)"
   ]
  },
  {
   "cell_type": "code",
   "execution_count": 61,
   "metadata": {},
   "outputs": [
    {
     "name": "stdout",
     "output_type": "stream",
     "text": [
      "[[1. 0. 0.]\n",
      " [0. 1. 0.]\n",
      " [0. 0. 1.]]\n"
     ]
    }
   ],
   "source": [
    "d = np.eye(3)        # Create a 2x2 identity matrix\n",
    "print(d)"
   ]
  },
  {
   "cell_type": "code",
   "execution_count": 67,
   "metadata": {},
   "outputs": [
    {
     "name": "stdout",
     "output_type": "stream",
     "text": [
      "[[0.72756775 0.30853502]\n",
      " [0.16648583 0.5358984 ]]\n"
     ]
    }
   ],
   "source": [
    "e = np.random.random((2,2)) # Create an array filled with random values\n",
    "print(e)"
   ]
  },
  {
   "cell_type": "markdown",
   "metadata": {},
   "source": [
    "Numpy also has two useful functions for creating sequences of numbers:\n",
    "`arange` and `linspace`.\n",
    "\n",
    "The `arange` function accepts three arguments, which define the start\n",
    "value, stop value of a half-open interval, and step size. (The default\n",
    "step size, if not explicitly specified, is 1; the default start value,\n",
    "if not explicitly specified, is 0.)\n",
    "\n",
    "The `linspace` function is similar, but we can specify the number of\n",
    "values instead of the step size, and it will create a sequence of evenly\n",
    "spaced values."
   ]
  },
  {
   "cell_type": "code",
   "execution_count": 68,
   "metadata": {},
   "outputs": [
    {
     "name": "stdout",
     "output_type": "stream",
     "text": [
      "[10 15 20 25 30 35 40 45]\n"
     ]
    }
   ],
   "source": [
    "f = np.arange(10,50,5)   # Create an array of values starting at 10 in increments of 5\n",
    "print(f)"
   ]
  },
  {
   "cell_type": "markdown",
   "metadata": {},
   "source": [
    "Note this ends on 45, not 50 (does not include the top end of the\n",
    "interval)."
   ]
  },
  {
   "cell_type": "code",
   "execution_count": 72,
   "metadata": {},
   "outputs": [
    {
     "name": "stdout",
     "output_type": "stream",
     "text": [
      "[0.   0.25 0.5  0.75 1.  ]\n"
     ]
    }
   ],
   "source": [
    "g = np.linspace(0., 1., num=5)\n",
    "print(g)"
   ]
  },
  {
   "cell_type": "markdown",
   "metadata": {},
   "source": [
    "Sometimes, we may want to construct an array from existing arrays by\n",
    "“stacking” the existing arrays, either vertically or horizontally. We\n",
    "can use `vstack()` (or `row_stack`) and `hstack()` (or `column_stack`),\n",
    "respectively."
   ]
  },
  {
   "cell_type": "code",
   "execution_count": 73,
   "metadata": {},
   "outputs": [
    {
     "data": {
      "text/plain": [
       "array([[1, 2, 3],\n",
       "       [4, 5, 6]])"
      ]
     },
     "execution_count": 73,
     "metadata": {},
     "output_type": "execute_result"
    }
   ],
   "source": [
    "a = np.array([1, 2, 3])\n",
    "b = np.array([4, 5, 6])\n",
    "np.vstack((a,b))"
   ]
  },
  {
   "cell_type": "code",
   "execution_count": 74,
   "metadata": {},
   "outputs": [
    {
     "data": {
      "text/plain": [
       "array([1, 2, 3, 4, 5, 6])"
      ]
     },
     "execution_count": 74,
     "metadata": {},
     "output_type": "execute_result"
    }
   ],
   "source": [
    "a = np.array([1, 2, 3])\n",
    "b = np.array([4, 5, 6])\n",
    "np.hstack((a,b))"
   ]
  },
  {
   "cell_type": "markdown",
   "metadata": {},
   "source": [
    "### Indexing and Slicing"
   ]
  },
  {
   "cell_type": "markdown",
   "metadata": {},
   "source": [
    "We can index and slice numpy arrays in all the ways we can slice Python\n",
    "lists:\n",
    "\n",
    "![](http://jalammar.github.io/images/numpy/numpy-array-slice.png)\n",
    "\n",
    "And you can index and slice numpy arrays in multiple dimensions. If\n",
    "slicing an array with more than one dimension, you should specify a\n",
    "slice for each dimension:\n",
    "\n",
    "![](http://jalammar.github.io/images/numpy/numpy-matrix-indexing.png)"
   ]
  },
  {
   "cell_type": "markdown",
   "metadata": {},
   "source": [
    "Slicing return values by reference"
   ]
  },
  {
   "cell_type": "code",
   "execution_count": 75,
   "metadata": {},
   "outputs": [
    {
     "name": "stdout",
     "output_type": "stream",
     "text": [
      "[[2 3]\n",
      " [6 7]]\n"
     ]
    }
   ],
   "source": [
    "# Create the following rank 2 array with shape (3, 4)\n",
    "# [[ 1  2  3  4]\n",
    "#  [ 5  6  7  8]\n",
    "#  [ 9 10 11 12]]\n",
    "a = np.array([[1,2,3,4], [5,6,7,8], [9,10,11,12]])\n",
    "\n",
    "# Use slicing to pull out the subarray consisting of the first 2 rows\n",
    "# and columns 1 and 2; b is the following array of shape (2, 2):\n",
    "# [[2 3]\n",
    "#  [6 7]]\n",
    "b = a[:2, 1:3]\n",
    "print(b)"
   ]
  },
  {
   "cell_type": "markdown",
   "metadata": {},
   "source": [
    "updating value of b will update value of a"
   ]
  },
  {
   "cell_type": "code",
   "execution_count": 76,
   "metadata": {},
   "outputs": [
    {
     "name": "stdout",
     "output_type": "stream",
     "text": [
      "2\n",
      "77\n"
     ]
    }
   ],
   "source": [
    "print(a[0, 1])\n",
    "b[0, 0] = 77    # b[0, 0] is the same piece of data as a[0, 1]\n",
    "print(a[0, 1]) "
   ]
  },
  {
   "cell_type": "code",
   "execution_count": 77,
   "metadata": {},
   "outputs": [
    {
     "name": "stdout",
     "output_type": "stream",
     "text": [
      "[5 6 7 8] (4,)\n",
      "[[ 5  6  7  8]\n",
      " [ 9 10 11 12]] (2, 4)\n"
     ]
    }
   ],
   "source": [
    "row_r1 = a[1, :]    # Rank 1 view of the second row of a  \n",
    "row_r2 = a[1:3, :]  # Rank 2 view of the second row of a\n",
    "print(row_r1, row_r1.shape)\n",
    "print(row_r2, row_r2.shape)"
   ]
  },
  {
   "cell_type": "markdown",
   "metadata": {},
   "source": [
    "Boolean array indexing: Boolean array indexing lets you pick out\n",
    "arbitrary elements of an array. Frequently this type of indexing is used\n",
    "to select the elements of an array that satisfy some condition. Here is\n",
    "an example:"
   ]
  },
  {
   "cell_type": "code",
   "execution_count": 79,
   "metadata": {},
   "outputs": [
    {
     "name": "stdout",
     "output_type": "stream",
     "text": [
      "[[False False]\n",
      " [ True  True]\n",
      " [ True  True]]\n"
     ]
    }
   ],
   "source": [
    "import numpy as np\n",
    "\n",
    "a = np.array([[1,2], [3, 4], [5, 6]])\n",
    "\n",
    "bool_idx = (a > 2)  # Find the elements of a that are bigger than 2;\n",
    "                    # this returns a numpy array of Booleans of the same\n",
    "                    # shape as a, where each slot of bool_idx tells\n",
    "                    # whether that element of a is > 2.\n",
    "\n",
    "print(bool_idx)"
   ]
  },
  {
   "cell_type": "markdown",
   "metadata": {},
   "source": [
    "### Math Functions"
   ]
  },
  {
   "cell_type": "markdown",
   "metadata": {},
   "source": [
    "What makes working with `numpy` so powerful and convenient is that it\n",
    "comes with many *vectorized* math functions for computation over\n",
    "elements of an array. These functions are highly optimized and are\n",
    "*very* fast - much, much faster than using an explicit `for` loop.\n",
    "\n",
    "For example, let’s create a large array of random values and then sum it\n",
    "both ways. We’ll use a `%%time` *cell magic* to time them."
   ]
  },
  {
   "cell_type": "code",
   "execution_count": 81,
   "metadata": {},
   "outputs": [
    {
     "data": {
      "text/plain": [
       "100000000"
      ]
     },
     "execution_count": 81,
     "metadata": {},
     "output_type": "execute_result"
    }
   ],
   "source": [
    "a = np.random.random(100000000)\n",
    "len(a)"
   ]
  },
  {
   "cell_type": "markdown",
   "metadata": {},
   "source": [
    "Look at the “Wall Time” in the output - note how much faster the\n",
    "vectorized version of the operation is! This type of fast computation is\n",
    "a major enabler of machine learning, which requires a *lot* of\n",
    "computation.\n",
    "\n",
    "Whenever possible, we will try to use these vectorized operations."
   ]
  },
  {
   "cell_type": "markdown",
   "metadata": {},
   "source": [
    "Some mathematic functions are available both as operator overloads and\n",
    "as functions in the numpy module."
   ]
  },
  {
   "cell_type": "markdown",
   "metadata": {},
   "source": [
    "For example, you can perform an elementwise sum on two arrays using\n",
    "either the + operator or the `add()` function.\n",
    "\n",
    "![](http://jalammar.github.io/images/numpy/numpy-arrays-adding-1.png)\n",
    "\n",
    "![](http://jalammar.github.io/images/numpy/numpy-matrix-arithmetic.png)"
   ]
  },
  {
   "cell_type": "code",
   "execution_count": 82,
   "metadata": {},
   "outputs": [
    {
     "name": "stdout",
     "output_type": "stream",
     "text": [
      "[[ 6.  8.]\n",
      " [10. 12.]]\n",
      "[[ 6.  8.]\n",
      " [10. 12.]]\n"
     ]
    }
   ],
   "source": [
    "x = np.array([[1,2],[3,4]], dtype=np.float64)\n",
    "y = np.array([[5,6],[7,8]], dtype=np.float64)\n",
    "\n",
    "# Elementwise sum; both produce the array\n",
    "print(x + y)\n",
    "print(np.add(x, y))"
   ]
  },
  {
   "cell_type": "markdown",
   "metadata": {},
   "source": [
    "And this works for other operations as well, not only addition:\n",
    "\n",
    "![](http://jalammar.github.io/images/numpy/numpy-array-subtract-multiply-divide.png)"
   ]
  },
  {
   "cell_type": "code",
   "execution_count": 84,
   "metadata": {},
   "outputs": [
    {
     "name": "stdout",
     "output_type": "stream",
     "text": [
      "[[-4. -4.]\n",
      " [-4. -4.]]\n",
      "[[-4. -4.]\n",
      " [-4. -4.]]\n"
     ]
    }
   ],
   "source": [
    "# Elementwise difference; both produce the array\n",
    "print(x - y)\n",
    "print(np.subtract(x, y))"
   ]
  },
  {
   "cell_type": "code",
   "execution_count": 85,
   "metadata": {},
   "outputs": [
    {
     "name": "stdout",
     "output_type": "stream",
     "text": [
      "[[1.         1.41421356]\n",
      " [1.73205081 2.        ]]\n"
     ]
    }
   ],
   "source": [
    "# Elementwise square root; produces the array\n",
    "# [[ 1.          1.41421356]\n",
    "#  [ 1.73205081  2.        ]]\n",
    "print(np.sqrt(x))"
   ]
  },
  {
   "cell_type": "markdown",
   "metadata": {},
   "source": [
    "We use the `dot()` function to compute inner\n",
    "products of vectors, to multiply a vector by a matrix, and to multiply\n",
    "matrices. `dot()` is available both as a function in the numpy module\n",
    "and as an instance method of array objects:\n",
    "\n",
    "![](http://jalammar.github.io/images/numpy/numpy-matrix-dot-product-1.png)"
   ]
  },
  {
   "cell_type": "code",
   "execution_count": 93,
   "metadata": {},
   "outputs": [
    {
     "name": "stdout",
     "output_type": "stream",
     "text": [
      "219\n",
      "219\n"
     ]
    }
   ],
   "source": [
    "x = np.array([[1,2],[3,4]])\n",
    "y = np.array([[5,6],[7,8]])\n",
    "\n",
    "v = np.array([9,10])\n",
    "w = np.array([11, 12])\n",
    "\n",
    "# Inner product of vectors; both produce 219\n",
    "print(v.dot(w))\n",
    "print(np.dot(v, w))\n",
    "\n",
    "\n",
    "\n"
   ]
  },
  {
   "cell_type": "code",
   "execution_count": 95,
   "metadata": {},
   "outputs": [
    {
     "name": "stdout",
     "output_type": "stream",
     "text": [
      "[[19 22]\n",
      " [43 50]]\n"
     ]
    }
   ],
   "source": [
    "print(np.dot(x, y))"
   ]
  },
  {
   "cell_type": "markdown",
   "metadata": {},
   "source": [
    "Besides for the functions that overload operators, Numpy also provides\n",
    "many useful functions for performing computations on arrays, such as\n",
    "`min()`, `max()`, `sum()`, and others:\n",
    "\n",
    "![](http://jalammar.github.io/images/numpy/numpy-matrix-aggregation-1.png)"
   ]
  },
  {
   "cell_type": "code",
   "execution_count": 96,
   "metadata": {},
   "outputs": [
    {
     "name": "stdout",
     "output_type": "stream",
     "text": [
      "6\n",
      "1\n",
      "21\n"
     ]
    }
   ],
   "source": [
    "x = np.array([[1, 2], [3, 4], [5, 6]])\n",
    "\n",
    "print(np.max(x)) \n",
    "print(np.min(x))  \n",
    "print(np.sum(x)) "
   ]
  },
  {
   "cell_type": "markdown",
   "metadata": {},
   "source": [
    "Not only can we aggregate all the values in a matrix using these\n",
    "functions, but we can also aggregate across the rows or columns by using\n",
    "the `axis` parameter:\n",
    "\n",
    "![](http://jalammar.github.io/images/numpy/numpy-matrix-aggregation-4.png)"
   ]
  },
  {
   "cell_type": "code",
   "execution_count": 98,
   "metadata": {},
   "outputs": [
    {
     "name": "stdout",
     "output_type": "stream",
     "text": [
      "[5 6]\n",
      "[2 5 6]\n"
     ]
    }
   ],
   "source": [
    "x = np.array([[1, 2], [5, 3], [4, 6]])\n",
    "\n",
    "print(np.max(x, axis=0))  # Compute max of each column; prints \"[5 6]\"\n",
    "print(np.max(x, axis=1))  # Compute max of each row; prints \"[2 5 6]\""
   ]
  },
  {
   "cell_type": "markdown",
   "metadata": {},
   "source": [
    "You can find the full list of mathematical functions provided by numpy\n",
    "in the\n",
    "[documentation](http://docs.scipy.org/doc/numpy/reference/routines.math.html)."
   ]
  },
  {
   "cell_type": "markdown",
   "metadata": {},
   "source": [
    "Apart from computing mathematical functions using arrays, we frequently\n",
    "need to reshape or otherwise manipulate data in arrays. The simplest\n",
    "example of this type of operation is transposing a matrix; to transpose\n",
    "a matrix, simply use the T attribute of an array object.\n",
    "\n",
    "![](http://jalammar.github.io/images/numpy/numpy-transpose.png)"
   ]
  },
  {
   "cell_type": "code",
   "execution_count": 99,
   "metadata": {},
   "outputs": [
    {
     "name": "stdout",
     "output_type": "stream",
     "text": [
      "[[1 2]\n",
      " [3 4]\n",
      " [5 6]]\n",
      "transpose\n",
      " [[1 3 5]\n",
      " [2 4 6]]\n"
     ]
    }
   ],
   "source": [
    "x = np.array([[1, 2], [3, 4], [5, 6]])\n",
    "\n",
    "print(x)\n",
    "print(\"transpose\\n\", x.T)"
   ]
  },
  {
   "cell_type": "markdown",
   "metadata": {},
   "source": [
    "# Exercises\n",
    "\n",
    "### T1\n",
    "* Generate a 3x3 matrix with random values between 0 and 1.\n",
    "* Use a conditional operation to replace values less than 0.5 with 0.\n",
    "\n",
    "### T2\n",
    "* Create two 2D arrays of compatible dimensions.\n",
    "* Compute the dot product (matrix multiplication) of the two arrays.\n",
    "* Calculate the sum of the diagonal elements in the resulting matrix.\n",
    "\n",
    "### T3\n",
    "* Create a 1D array with values ranging from -1 to 1 using numpy function.\n",
    "* Count the number of positive values in the array that are greater than 0.5.\n",
    "\n",
    "### T4 \n",
    "* Start with a 5x5 matrix (you can create one or use an existing matrix).\n",
    "* Normalize each row by dividing all elements in that row by the sum of that row's elements."
   ]
  },
  {
   "cell_type": "code",
   "execution_count": 53,
   "metadata": {},
   "outputs": [
    {
     "name": "stdout",
     "output_type": "stream",
     "text": [
      "[[0.92531953 0.77092324 0.        ]\n",
      " [0.         0.98357738 0.89679608]\n",
      " [0.58745642 0.58954862 0.        ]]\n"
     ]
    }
   ],
   "source": [
    "# YOUR CODE HERE\n",
    "\n",
    "#TASK01\n",
    "\n",
    "import numpy as np\n",
    "\n",
    "matrix = np.random.rand(3,3)\n",
    "\n",
    "matrix[matrix < 0.5] = 0\n",
    "\n",
    "print(matrix)"
   ]
  },
  {
   "cell_type": "code",
   "execution_count": 54,
   "metadata": {},
   "outputs": [
    {
     "name": "stdout",
     "output_type": "stream",
     "text": [
      "Resulting Matrix:\n",
      "[[28 34 39]\n",
      " [58 70 79]\n",
      " [58 70 79]]\n",
      "Sum of Diagonal Elements: 177\n"
     ]
    }
   ],
   "source": [
    "#TASK02\n",
    "\n",
    "array1 = np.array([[1, 2, 3],\n",
    "                   [3, 4, 5],\n",
    "                   [3, 4, 5]])\n",
    "\n",
    "array2 = np.array([[5, 6, 6],\n",
    "                   [7, 8, 9],\n",
    "                   [3, 4, 5]])\n",
    "result_matrix = np.dot(array1, array2)\n",
    "diagonal_sum = np.trace(result_matrix)\n",
    "\n",
    "print(\"Resulting Matrix:\")\n",
    "print(result_matrix)\n",
    "print(\"Sum of Diagonal Elements:\", diagonal_sum)"
   ]
  },
  {
   "cell_type": "code",
   "execution_count": 55,
   "metadata": {},
   "outputs": [
    {
     "name": "stdout",
     "output_type": "stream",
     "text": [
      "Array: [-1.         -0.77777778 -0.55555556 -0.33333333 -0.11111111  0.11111111\n",
      "  0.33333333  0.55555556  0.77777778  1.        ]\n",
      "Number of positive values greater than 0.5: 3\n"
     ]
    }
   ],
   "source": [
    "\n",
    "#TASK03\n",
    "\n",
    "array = np.linspace(-1, 1, num=10) \n",
    "\n",
    "# count variable here will wok like an array\n",
    "count = np.sum(array > 0.5)\n",
    "\n",
    "print(\"Array:\", array)\n",
    "print(\"Number of positive values greater than 0.5:\", count)\n"
   ]
  },
  {
   "cell_type": "code",
   "execution_count": 56,
   "metadata": {},
   "outputs": [
    {
     "name": "stdout",
     "output_type": "stream",
     "text": [
      "[[0.06666667 0.13333333 0.2        0.26666667 0.33333333]\n",
      " [0.04       0.12       0.2        0.28       0.36      ]\n",
      " [0.06666667 0.13333333 0.2        0.26666667 0.33333333]\n",
      " [0.06666667 0.13333333 0.2        0.26666667 0.33333333]\n",
      " [0.06666667 0.13333333 0.2        0.26666667 0.33333333]]\n"
     ]
    }
   ],
   "source": [
    "#TASK014\n",
    "\n",
    "\n",
    "matrix = np.array([[10, 20, 30, 40, 50],\n",
    "                  [5, 15, 25, 35, 45],\n",
    "                  [2, 4, 6, 8, 10],\n",
    "                  [1, 2, 3, 4, 5],\n",
    "                  [3, 6, 9, 12, 15]])\n",
    "\n",
    "for rows in range(matrix.shape[0]):\n",
    "    normalized_matrix = matrix / matrix.sum(axis=1,keepdims=True)\n",
    "\n",
    "print(normalized_matrix)\n"
   ]
  },
  {
   "cell_type": "markdown",
   "metadata": {},
   "source": [
    "## Read numbers.txt into a numpy array and perform following numpy operations\n",
    "\n",
    "Read \"numbers.txt\" into a numpy arrfor rows in range(matrix.shape[0]):ay.\n",
    "\n",
    "Use numpy to read the data from \"numbers.txt\" into a numpy array.\n",
    "\n",
    "Find the sum of the even numbers in the array.\n",
    "\n",
    "Calculate the square of each element in the array.\n",
    "\n",
    "Find the indices of all elements greater than 20.\n",
    "\n",
    "Create a new array that contains only unique elements from the original array.\n",
    "\n",
    "Calculate the cumulative sum of the array.\n",
    "\n",
    "Replace all negative elements in the array with their absolute values.\n"
   ]
  },
  {
   "cell_type": "code",
   "execution_count": null,
   "metadata": {},
   "outputs": [],
   "source": []
  },
  {
   "cell_type": "code",
   "execution_count": 52,
   "metadata": {},
   "outputs": [
    {
     "name": "stdout",
     "output_type": "stream",
     "text": [
      "Original Array:\n",
      "[[7719. 7277. 1781. ... 3273. 2993. 3210.]]\n",
      "Shape of the array: (1, 400010)\n",
      "\n",
      "Sum of even numbers: 941355826.0\n",
      "\n",
      "Squared Array:\n",
      "[[59582961. 52954729.  3171961. ... 10712529.  8958049. 10304100.]]\n",
      "\n",
      "Indices of elements greater than 20: (array([0, 0, 0, ..., 0, 0, 0]), array([     0,      1,      2, ..., 400007, 400008, 400009]))\n",
      "\n",
      "Unique Array:\n",
      "[0.000e+00 1.000e+00 2.000e+00 ... 9.998e+03 9.999e+03 1.000e+04]\n",
      "\n",
      "Cumulative Sum Array:\n",
      "[7.71900000e+03 1.49960000e+04 1.67770000e+04 ... 1.87942062e+09\n",
      " 1.87942361e+09 1.87942682e+09]\n",
      "\n",
      "Array with Absolute Values:\n",
      "[[7719. 7277. 1781. ... 3273. 2993. 3210.]]\n"
     ]
    }
   ],
   "source": [
    "\n",
    "# Specify the file path\n",
    "file_path = 'Numbers.txt'  # Replace with the actual file path\n",
    "\n",
    "# Initialize an empty list to store the data\n",
    "data = []\n",
    "\n",
    "# Read the file line by line\n",
    "with open(file_path, 'r') as file:\n",
    "    for line in file:\n",
    "        # Split the line into numbers, removing extra spaces\n",
    "        numbers = line.strip().split()\n",
    "        # Convert the numbers to float and append to the data list\n",
    "        data.append([float(num) for num in numbers])\n",
    "\n",
    "# Convert the data list to a NumPy array\n",
    "data_array = np.array(data)\n",
    "\n",
    "\n",
    "# Print the resulting 2D array\n",
    "print(\"Original Array:\")\n",
    "print(data_array)\n",
    "print(\"Shape of the array:\", data_array.shape)\n",
    "\n",
    "# Task 1: Find the sum of even numbers in the array\n",
    "even_sum = np.sum(data_array[data_array % 2 == 0])\n",
    "print(\"\\nSum of even numbers:\", even_sum)\n",
    "\n",
    "# Task 2: Calculate the square of each element in the array\n",
    "squared_array = np.square(data_array)\n",
    "print(\"\\nSquared Array:\")\n",
    "print(squared_array)\n",
    "\n",
    "# Task 3: Find the indices of all elements greater than 20\n",
    "indices_gt_20 = np.where(data_array > 20)\n",
    "print(\"\\nIndices of elements greater than 20:\", indices_gt_20)\n",
    "\n",
    "# Task 4: Create a new array with unique elements\n",
    "unique_array = np.unique(data_array)\n",
    "print(\"\\nUnique Array:\")\n",
    "print(unique_array)\n",
    "\n",
    "# Task 5: Calculate the cumulative sum of the array\n",
    "cumulative_sum = np.cumsum(data_array)\n",
    "print(\"\\nCumulative Sum Array:\")\n",
    "print(cumulative_sum)\n",
    "\n",
    "# Task 6: Replace negative elements with their absolute values\n",
    "data_array_abs = np.abs(data_array)\n",
    "print(\"\\nArray with Absolute Values:\")\n",
    "print(data_array_abs)\n",
    "\n"
   ]
  },
  {
   "cell_type": "code",
   "execution_count": null,
   "metadata": {},
   "outputs": [],
   "source": [
    "# YOUR CODE HERE\n"
   ]
  }
 ],
 "metadata": {
  "colab": {
   "collapsed_sections": [],
   "name": "PAI-Lab-02.ipynb",
   "provenance": []
  },
  "kernelspec": {
   "display_name": "Python 3 (ipykernel)",
   "language": "python",
   "name": "python3"
  },
  "language_info": {
   "codemirror_mode": {
    "name": "ipython",
    "version": 3
   },
   "file_extension": ".py",
   "mimetype": "text/x-python",
   "name": "python",
   "nbconvert_exporter": "python",
   "pygments_lexer": "ipython3",
   "version": "3.10.12"
  }
 },
 "nbformat": 4,
 "nbformat_minor": 1
}
