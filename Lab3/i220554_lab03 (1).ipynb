{
 "cells": [
  {
   "cell_type": "markdown",
   "metadata": {
    "id": "0XMjAQtX0C3n"
   },
   "source": [
    "Notebook prepared by Muhammad Sohail Abbas sohail.abbas@isb.nu.edu.pk"
   ]
  },
  {
   "cell_type": "markdown",
   "metadata": {
    "id": "9t1gKp9PL9eV"
   },
   "source": [
    "# PAI Lab 03\n",
    "\n",
    "## Outline\n",
    "* Conditions\n",
    "* Loops\n",
    "* Functions\n",
    "* Default and Keyword Arguements\n",
    "* Python Classes\n",
    "* Multi Dimensional Lists\n",
    "* Tuple\n",
    "* Dictionaries\n",
    "* Lambda Function\n",
    "* File Reading"
   ]
  },
  {
   "cell_type": "markdown",
   "metadata": {},
   "source": [
    "## Conditions"
   ]
  },
  {
   "cell_type": "code",
   "execution_count": 9,
   "metadata": {},
   "outputs": [
    {
     "name": "stdout",
     "output_type": "stream",
     "text": [
      "positive\n"
     ]
    }
   ],
   "source": [
    "my_variable = 5\n",
    "\n",
    "if my_variable < 0:\n",
    "  print(\"negative\")\n",
    "  print(\" number\")\n",
    "elif my_variable == 0:\n",
    "  print(\"null\")\n",
    "else:\n",
    "  print(\"positive\")"
   ]
  },
  {
   "cell_type": "markdown",
   "metadata": {},
   "source": [
    "## Loops"
   ]
  },
  {
   "cell_type": "code",
   "execution_count": 10,
   "metadata": {},
   "outputs": [
    {
     "name": "stdout",
     "output_type": "stream",
     "text": [
      "0\n",
      "1\n",
      "2\n",
      "3\n",
      "4\n",
      "5\n",
      "6\n",
      "7\n"
     ]
    }
   ],
   "source": [
    "i = 0\n",
    "while i <= len('Program'):\n",
    "  print(i)\n",
    "  i += 1 # equivalent to i = i + 1"
   ]
  },
  {
   "cell_type": "code",
   "execution_count": 11,
   "metadata": {},
   "outputs": [
    {
     "name": "stdout",
     "output_type": "stream",
     "text": [
      "2\n",
      "3\n",
      "4\n",
      "5\n",
      "6\n",
      "7\n",
      "8\n",
      "9\n"
     ]
    }
   ],
   "source": [
    "for p in range(2,10):\n",
    "  print(p)"
   ]
  },
  {
   "cell_type": "code",
   "execution_count": 12,
   "metadata": {},
   "outputs": [
    {
     "name": "stdout",
     "output_type": "stream",
     "text": [
      "a\n",
      "a\n",
      "a\n",
      "a\n",
      "a\n"
     ]
    }
   ],
   "source": [
    "for x in \"bananarama\":\n",
    "  if x=='a':\n",
    "      print(x)"
   ]
  },
  {
   "cell_type": "markdown",
   "metadata": {},
   "source": [
    "## Functions"
   ]
  },
  {
   "cell_type": "code",
   "execution_count": 13,
   "metadata": {},
   "outputs": [],
   "source": [
    "def sign(x):\n",
    "    if x > 0:\n",
    "        return 'positive'\n",
    "    elif x < 0:\n",
    "        return 'negative'\n",
    "    else:\n",
    "        return 'zero'"
   ]
  },
  {
   "cell_type": "code",
   "execution_count": 14,
   "metadata": {},
   "outputs": [
    {
     "name": "stdout",
     "output_type": "stream",
     "text": [
      "negative\n"
     ]
    }
   ],
   "source": [
    "print(sign(-5))"
   ]
  },
  {
   "cell_type": "markdown",
   "metadata": {},
   "source": [
    "We will often define functions to take optional keyword arguments, like this:"
   ]
  },
  {
   "cell_type": "code",
   "execution_count": 15,
   "metadata": {},
   "outputs": [
    {
     "name": "stdout",
     "output_type": "stream",
     "text": [
      "Hello, Muhammad!\n",
      "HELLO, SOHAIL!\n"
     ]
    }
   ],
   "source": [
    "def hello(name, loud=False):\n",
    "    if loud:\n",
    "        print('HELLO, {}'.format(name.upper()))\n",
    "    else:\n",
    "        print('Hello, {}!'.format(name))\n",
    "\n",
    "hello('Muhammad')\n",
    "hello('Sohail!', loud=True)"
   ]
  },
  {
   "cell_type": "code",
   "execution_count": 16,
   "metadata": {},
   "outputs": [
    {
     "data": {
      "text/plain": [
       "36"
      ]
     },
     "execution_count": 16,
     "metadata": {},
     "output_type": "execute_result"
    }
   ],
   "source": [
    "def square(x):\n",
    "  return x ** 2\n",
    "\n",
    "def multiply(a, b):\n",
    "  return a * b\n",
    "\n",
    "# Functions can be composed.\n",
    "square(multiply(3, 2))"
   ]
  },
  {
   "cell_type": "code",
   "execution_count": 17,
   "metadata": {},
   "outputs": [
    {
     "name": "stdout",
     "output_type": "stream",
     "text": [
      " (25, 625)\n"
     ]
    }
   ],
   "source": [
    "def multi_values(x):\n",
    "    y=x ** 2\n",
    "    z=y ** 2\n",
    "    \n",
    "    return y,z\n",
    "\n",
    "b=multi_values(5)\n",
    "print(' {}'.format(b))"
   ]
  },
  {
   "cell_type": "markdown",
   "metadata": {},
   "source": [
    "## Multi Dimensional Lists"
   ]
  },
  {
   "cell_type": "code",
   "execution_count": 6,
   "metadata": {
    "colab": {
     "base_uri": "https://localhost:8080/"
    },
    "id": "jrwNScmD1Kva",
    "outputId": "f0728eae-17cd-42d0-98cf-32a9543515a0"
   },
   "outputs": [
    {
     "name": "stdout",
     "output_type": "stream",
     "text": [
      "[[2, 5, 7, 4, 5, 1, 11, 2, '5'], ['1', 11, 2, '5']]\n"
     ]
    }
   ],
   "source": [
    "# 2D List\n",
    "data_list = [[2,5,7,4,5,1,11,2,\"5\"],\n",
    "             ['1',11,2,\"5\"]]\n",
    "print(data_list)"
   ]
  },
  {
   "cell_type": "code",
   "execution_count": 5,
   "metadata": {},
   "outputs": [
    {
     "name": "stdout",
     "output_type": "stream",
     "text": [
      "2\n",
      "5\n",
      "7\n",
      "4\n",
      "5\n",
      "1\n",
      "11\n",
      "2\n",
      "5\n",
      "1\n",
      "11\n",
      "2\n",
      "5\n"
     ]
    }
   ],
   "source": [
    "for i in data_list:\n",
    "    for j in i:\n",
    "        print(j)"
   ]
  },
  {
   "cell_type": "code",
   "execution_count": 7,
   "metadata": {},
   "outputs": [
    {
     "name": "stdout",
     "output_type": "stream",
     "text": [
      "[[[2, 5, 7, 4, 5, 1, 11, 2, '5'], ['1', 11, 2, '5']], [[2, 5, 7, 4, 5, 1, 11, 2, '5'], ['1', 11, 2, '5']]]\n"
     ]
    }
   ],
   "source": [
    "# 3D List\n",
    "data_list = [[[2,5,7,4,5,1,11,2,\"5\"],\n",
    "              ['1',11,2,\"5\"]],\n",
    "            \n",
    "             [[2,5,7,4,5,1,11,2,\"5\"],\n",
    "              ['1',11,2,\"5\"]]]\n",
    "print(data_list)"
   ]
  },
  {
   "cell_type": "markdown",
   "metadata": {},
   "source": [
    "## Tuple\n",
    "* Immutable"
   ]
  },
  {
   "cell_type": "code",
   "execution_count": 1,
   "metadata": {
    "colab": {
     "base_uri": "https://localhost:8080/"
    },
    "id": "GcNFyJNk43_X",
    "outputId": "6cc16700-b4b9-4842-9317-1b2b48f52eed"
   },
   "outputs": [
    {
     "name": "stdout",
     "output_type": "stream",
     "text": [
      "('apple', 'apple', 'banana', 'cherry')\n"
     ]
    }
   ],
   "source": [
    "# Tuple\n",
    "# Tuple items are ordered, unchac = \"mehru\"ngeable, and allow duplicate values.\n",
    "data_tuple = (\"apple\",\"apple\", \"banana\", \"cherry\")\n",
    "print(data_tuple)"
   ]
  },
  {
   "cell_type": "markdown",
   "metadata": {},
   "source": [
    "## Dictionary\n",
    "* key-value pair"
   ]
  },
  {
   "cell_type": "code",
   "execution_count": 36,
   "metadata": {
    "colab": {
     "base_uri": "https://localhost:8080/"
    },
    "id": "HeYz4D_z2dqz",
    "outputId": "59b7cf16-6e0f-457b-efd6-ddba57ae7444"
   },
   "outputs": [
    {
     "name": "stdout",
     "output_type": "stream",
     "text": [
      "{'brand': 'Ford', 'model': 'Mustang', 'year': 1964}\n",
      "Ford\n"
     ]
    }
   ],
   "source": [
    "# Dictionary\n",
    "data_dict = {\n",
    "    \"brand\": \"Ford\",\n",
    "    \"model\": \"Mustang\",\n",
    "    \"year\": 1964\n",
    "}\n",
    "print(data_dict)\n",
    "print(data_dict['brand'])"
   ]
  },
  {
   "cell_type": "code",
   "execution_count": 3,
   "metadata": {},
   "outputs": [
    {
     "name": "stdout",
     "output_type": "stream",
     "text": [
      "{'brand': {'min': 'Ford', 'main': 'Fordeign'}, 'model': 'Mustang', 'year': 1964}\n",
      "{'min': 'Ford', 'main': 'Fordeign'}\n",
      "Ford\n"
     ]
    }
   ],
   "source": [
    "# Dictionary\n",
    "data_dict = {\n",
    "    \"brand\": {\"min\":\"Ford\",\"main\":\"Fordeign\"},\n",
    "    \"model\": \"Mustang\",\n",
    "    \"year\": 1964\n",
    "}\n",
    "print(data_dict)\n",
    "print(data_dict['brand'])\n",
    "print(data_dict['brand']['min'])"
   ]
  },
  {
   "cell_type": "code",
   "execution_count": 4,
   "metadata": {},
   "outputs": [
    {
     "name": "stdout",
     "output_type": "stream",
     "text": [
      "{('name', 'brand'): 'Ford', ('model', 'brand'): 'Mustang', 'year': 1964}\n",
      "Mustang\n"
     ]
    }
   ],
   "source": [
    "# Dictionary\n",
    "data_dict = {\n",
    "    (\"name\",\"brand\"): \"Forc = \"mehru\"d\",\n",
    "    (\"model\", \"brand\"): \"Mustang\",\n",
    "    \"year\": 1964\n",
    "}\n",
    "print(data_dict)\n",
    "print(data_dict[('model','brand')])"
   ]
  },
  {
   "cell_type": "markdown",
   "metadata": {
    "id": "Iw8MmZiY5ds9"
   },
   "source": [
    "## Lambda Functions"
   ]
  },
  {
   "cell_type": "code",
   "execution_count": 40,
   "metadata": {
    "colab": {
     "base_uri": "https://localhost:8080/"
    },
    "id": "yoZJy9uc3yuD",
    "outputId": "b76ae1cf-4196-4d5f-a48a-903f627af08b"
   },
   "outputs": [
    {
     "data": {
      "text/plain": [
       "15"
      ]
     },
     "execution_count": 40,
     "metadata": {},
     "output_type": "execute_result"
    }
   ],
   "source": [
    "# simple function\n",
    "def add(a):\n",
    "  return a + 10\n",
    "\n",
    "add(5)"
   ]
  },
  {
   "cell_type": "markdown",
   "metadata": {
    "id": "EQUOfbKd559n"
   },
   "source": [
    "A lambda function is a small anonymous function.\n",
    "\n",
    "A lambda function can take any number of arguments, but can only have one expression."
   ]
  },
  {
   "cell_type": "code",
   "execution_count": 41,
   "metadata": {
    "colab": {
     "base_uri": "https://localhost:8080/"
    },
    "id": "LEo9zBeR5szr",
    "outputId": "d0d4a10e-0bfe-44fa-b4fa-62d5a710890e"
   },
   "outputs": [
    {
     "data": {
      "text/plain": [
       "15"
      ]
     },
     "execution_count": 41,
     "metadata": {},
     "output_type": "execute_result"
    }
   ],
   "source": [
    "x = lambda a : a + 10\n",
    "x(5)"
   ]
  },
  {
   "cell_type": "code",
   "execution_count": 42,
   "metadata": {
    "colab": {
     "base_uri": "https://localhost:8080/"
    },
    "id": "otvJp06t6AdX",
    "outputId": "cb754538-f717-486b-8501-6d2de6e922b6"
   },
   "outputs": [
    {
     "data": {
      "text/plain": [
       "30"
      ]
     },
     "execution_count": 42,
     "metadata": {},
     "output_type": "execute_result"
    }
   ],
   "source": [
    "x = lambda a, b : a * b\n",
    "x(5, 6)"
   ]
  },
  {
   "cell_type": "markdown",
   "metadata": {
    "id": "OEvBs4B86981"
   },
   "source": [
    "## Python Class"
   ]
  },
  {
   "cell_type": "code",
   "execution_count": 19,
   "metadata": {
    "id": "NcOfCWQN7A-_"
   },
   "outputs": [],
   "source": [
    "class Person:\n",
    "  def __init__(self, name, age):\n",
    "    self.name = name\n",
    "    self.age = age\n",
    "\n",
    "  def print_name(self):\n",
    "    print(self.name)\n"
   ]
  },
  {
   "cell_type": "code",
   "execution_count": 20,
   "metadata": {
    "colab": {
     "base_uri": "https://localhost:8080/"
    },
    "id": "6EdOj33b7SO4",
    "outputId": "0d3cbbb7-840a-4aa8-d377-c7f57451e7a5"
   },
   "outputs": [
    {
     "name": "stdout",
     "output_type": "stream",
     "text": [
      "Sohail\n",
      "25\n",
      "Sohail\n"
     ]
    }
   ],
   "source": [
    "p1 = Person(\"Sohail\", 25)\n",
    "\n",
    "print(p1.name)\n",
    "print(p1.age)\n",
    "p1.print_name()"
   ]
  },
  {
   "cell_type": "markdown",
   "metadata": {
    "id": "dlT8bB7v8J4j"
   },
   "source": [
    "## File Reading"
   ]
  },
  {
   "cell_type": "markdown",
   "metadata": {
    "id": "25G_Tdyg8bN4"
   },
   "source": [
    "The key function for working with files in Python is the open() function.\n",
    "\n",
    "The open() function takes two parameters; filename, and mode.\n",
    "\n",
    "In addition you can specify if the file should be handled as binary or text mode\n",
    "\n",
    "\"t\" - Text - Default value. Text mode\n"
   ]
  },
  {
   "cell_type": "code",
   "execution_count": 23,
   "metadata": {
    "id": "x6lW6iIf7-jZ"
   },
   "outputs": [],
   "source": [
    "f = open(\"Strings.txt\")"
   ]
  },
  {
   "cell_type": "code",
   "execution_count": 28,
   "metadata": {
    "id": "buzLZWAp8xAJ"
   },
   "outputs": [],
   "source": [
    "f = open(\"Strings.txt\", \"rt\")"
   ]
  },
  {
   "cell_type": "markdown",
   "metadata": {
    "id": "WtXAfP2C86YC"
   },
   "source": [
    "Because \"r\" for read, and \"t\" for text are the default values, you do not need to specify them."
   ]
  },
  {
   "cell_type": "code",
   "execution_count": 43,
   "metadata": {
    "id": "BmcDuloc_cK3"
   },
   "outputs": [
    {
     "name": "stdout",
     "output_type": "stream",
     "text": [
      "['A', '', '', '', 'A-  prefix (also an- before a vowel sound) not, without (amoral). [greek]']\n"
     ]
    }
   ],
   "source": [
    "f = open(\"Strings.txt\", \"rt\",encoding=\"utf-8\")\n",
    "text = []\n",
    "# loop through each line\n",
    "for line in f.readlines():\n",
    "    text.append(line.strip())\n",
    "    \n",
    "print(text[:5])"
   ]
  },
  {
   "cell_type": "markdown",
   "metadata": {
    "id": "YCyGmYPWAKVl"
   },
   "source": [
    "For File writing and deletion visit [Documentation](https://www.w3schools.com/python/python_file_write.asp)"
   ]
  },
  {
   "cell_type": "markdown",
   "metadata": {
    "id": "NFREEcGyBR9T"
   },
   "source": [
    "# Lab Task"
   ]
  },
  {
   "cell_type": "markdown",
   "metadata": {},
   "source": [
    "## Sum of Digits\n",
    "\n",
    "Write a function that calculates the sum of the digits of a positive integer. Ask the user for an input integer and display the sum of its digits."
   ]
  },
  {
   "cell_type": "code",
   "execution_count": 17,
   "metadata": {},
   "outputs": [
    {
     "name": "stdout",
     "output_type": "stream",
     "text": [
      "Enter the integer : 5554\n",
      "THe sum of digits is :  19\n"
     ]
    }
   ],
   "source": [
    "# YOUR CODE HERE\n",
    "def sumDigits(num):\n",
    "    sum=0\n",
    "    while num>0:\n",
    "        digit = num % 10\n",
    "        sum = sum + digit\n",
    "        num = int(num/10)\n",
    "        \n",
    "    return sum        \n",
    "    \n",
    "    \n",
    "integer = int(input(\"Enter the integer : \"))\n",
    "SUM_DIGIT = sumDigits(integer)\n",
    "print(\"THe sum of digits is : \",SUM_DIGIT)\n"
   ]
  },
  {
   "cell_type": "markdown",
   "metadata": {},
   "source": [
    "## Student Record\n",
    "* Create a dictionary representing a list of student exam scores for a particular subject. Implement a function that calculates and displays the average score, highest score, and lowest score in the dictionary."
   ]
  },
  {
   "cell_type": "code",
   "execution_count": 22,
   "metadata": {},
   "outputs": [
    {
     "ename": "UnboundLocalError",
     "evalue": "local variable 'sum' referenced before assignment",
     "output_type": "error",
     "traceback": [
      "\u001b[0;31m---------------------------------------------------------------------------\u001b[0m",
      "\u001b[0;31mUnboundLocalError\u001b[0m                         Traceback (most recent call last)",
      "\u001b[0;32m/tmp/ipykernel_6359/1007594212.py\u001b[0m in \u001b[0;36m<module>\u001b[0;34m\u001b[0m\n\u001b[1;32m     19\u001b[0m }\n\u001b[1;32m     20\u001b[0m \u001b[0;34m\u001b[0m\u001b[0m\n\u001b[0;32m---> 21\u001b[0;31m \u001b[0mcalculate_Scores\u001b[0m\u001b[0;34m(\u001b[0m\u001b[0mstudent_scores\u001b[0m\u001b[0;34m.\u001b[0m\u001b[0mvalues\u001b[0m\u001b[0;34m(\u001b[0m\u001b[0;34m)\u001b[0m\u001b[0;34m)\u001b[0m\u001b[0;34m\u001b[0m\u001b[0;34m\u001b[0m\u001b[0m\n\u001b[0m",
      "\u001b[0;32m/tmp/ipykernel_6359/1007594212.py\u001b[0m in \u001b[0;36mcalculate_Scores\u001b[0;34m(scores)\u001b[0m\n\u001b[1;32m      3\u001b[0m     \u001b[0mcount\u001b[0m \u001b[0;34m=\u001b[0m \u001b[0;36m0\u001b[0m\u001b[0;34m\u001b[0m\u001b[0;34m\u001b[0m\u001b[0m\n\u001b[1;32m      4\u001b[0m     \u001b[0;32mfor\u001b[0m \u001b[0mx\u001b[0m \u001b[0;32min\u001b[0m \u001b[0mscores\u001b[0m\u001b[0;34m:\u001b[0m\u001b[0;34m\u001b[0m\u001b[0;34m\u001b[0m\u001b[0m\n\u001b[0;32m----> 5\u001b[0;31m         \u001b[0msum\u001b[0m \u001b[0;34m=\u001b[0m \u001b[0msum\u001b[0m \u001b[0;34m+\u001b[0m \u001b[0mscores\u001b[0m\u001b[0;34m[\u001b[0m\u001b[0mx\u001b[0m\u001b[0;34m]\u001b[0m\u001b[0;34m\u001b[0m\u001b[0;34m\u001b[0m\u001b[0m\n\u001b[0m\u001b[1;32m      6\u001b[0m         \u001b[0mcount\u001b[0m \u001b[0;34m=\u001b[0m \u001b[0mcount\u001b[0m\u001b[0;34m+\u001b[0m \u001b[0;36m1\u001b[0m\u001b[0;34m\u001b[0m\u001b[0;34m\u001b[0m\u001b[0m\n\u001b[1;32m      7\u001b[0m \u001b[0;34m\u001b[0m\u001b[0m\n",
      "\u001b[0;31mUnboundLocalError\u001b[0m: local variable 'sum' referenced before assignment"
     ]
    }
   ],
   "source": [
    "# YOUR CODE HERE\n",
    "def calculate_Scores(scores):\n",
    "    count = 0\n",
    "    for x in scores:\n",
    "        sum = sum + scores[x]\n",
    "        count = count+ 1\n",
    "        \n",
    "        highest_scores= max(scores)\n",
    "        lowest_scores = min(scores)\n",
    "    sum = int (sum/count)\n",
    "    \n",
    "\n",
    "\n",
    "student_scores={\n",
    "    \"maths\" : 20,\n",
    "    \"english\" : 30,\n",
    "    \"chemistry\" : 40,\n",
    "    \"physics\" : 50\n",
    "}\n",
    "\n",
    "calculate_Scores(student_scores.values())"
   ]
  },
  {
   "cell_type": "markdown",
   "metadata": {},
   "source": [
    "## Inventory Management System\n",
    "* Create a nested dictionary to represent an inventory management system for a store. Each item in the inventory should have a unique identifier as the key, and the values should include item name, price, quantity in stock, and a dictionary of item attributes (e.g., color, size, brand). Write a function to display items that are running low on stock (quantity less than a specified threshold)."
   ]
  },
  {
   "cell_type": "code",
   "execution_count": 2,
   "metadata": {},
   "outputs": [],
   "source": [
    "# YOUR CODE HERE\n"
   ]
  },
  {
   "cell_type": "markdown",
   "metadata": {},
   "source": [
    "## Marks\n",
    "Create two tuples of numbers with the same length. Store marks of two students for different subjects in them. Write a function that calculates the element-wise sum of these tuples and returns the result as a new tuple."
   ]
  },
  {
   "cell_type": "code",
   "execution_count": 47,
   "metadata": {},
   "outputs": [
    {
     "name": "stdout",
     "output_type": "stream",
     "text": [
      "tupple sum is :  {(40, 60, 80)}\n"
     ]
    }
   ],
   "source": [
    "# YOUR CODE HERE\n",
    "\n",
    "def sumTuple(tuple_1, tuple_2):\n",
    "    list=[]\n",
    "    if(len(tuple_1)==len(tuple_2)):\n",
    "        for i in range(0,4):\n",
    "            list.append(tuple_1[i]+tuple_2[i])\n",
    "        tupple3 = (list[0],list[1],list[2])\n",
    "        return tupple3\n",
    "    else:\n",
    "        print(\"sorry..\")\n",
    "    \n",
    "student_1 = (20,30,40,50)\n",
    "student_2 = (20,30,40,50)\n",
    "tuppleSum = sumTuple(student_1, student_2)\n",
    "print(\"tupple sum is : \",{tuppleSum})"
   ]
  },
  {
   "cell_type": "markdown",
   "metadata": {},
   "source": [
    "## Weather Forecast\n",
    "* Create a dictionary with tuple keys containing (latitude, longitude) coordinates and values representing weather (e.g., sunny, raining, cloudy). Implement a function that allows users to search for nearby weather by entering their coordinates.(20,30): \"sunny\""
   ]
  },
  {
   "cell_type": "code",
   "execution_count": null,
   "metadata": {},
   "outputs": [],
   "source": [
    "# YOUR CODE HERE\n",
    "weather_dict = {\n",
    "(20,30): \"sunny\"\n",
    "(40,50): \"cloudy\"\n",
    "(60,70): \"rainy\"\n",
    "(80,90): \"smoggy\"\n",
    "    \n",
    "}\n"
   ]
  },
  {
   "cell_type": "markdown",
   "metadata": {},
   "source": [
    "## Student Enrollment System\n",
    "\n",
    "* Create a student enrollment system that tracks information about students, courses, and their enrollment status. Use a mixture of dictionaries, lists, and tuples to represent this data.\n",
    "\n",
    "* Create a dictionary where the keys are course names, and the values are dictionaries containing course details (e.g., instructor, schedule, maximum capacity).\n",
    "* Create a list of tuples, where each tuple represents a student's information (e.g., student ID, name, enrolled courses as a list of course names).\n",
    "\n",
    "### Implement functions to:\n",
    "* Enroll a student in a course, ensuring that the course is not already full.\n",
    "* Display a list of students enrolled in a specific course.\n",
    "* Calculate the average number of courses per student.\n",
    "* Find and display courses with the most and least enrollments."
   ]
  },
  {
   "cell_type": "code",
   "execution_count": 5,
   "metadata": {},
   "outputs": [],
   "source": [
    "# YOUR CODE HERE'\n",
    "courses ={\n",
    "    \"maths\":{\n",
    "        \"intructor\"=\"sir sohail\",\n",
    "        \"schedule\"= \"9:00 - 10:00\",\n",
    "        \"max_capacity\" =30\n",
    "    },\n",
    "    \"english\":{\n",
    "        \"intructor\"=\"ma'am cps\",\n",
    "        \"schedule\"= \"9:00 - 10:00\",\n",
    "        \"max_capacity\" =25\n",
    "    }\n",
    "}\n"
   ]
  },
  {
   "cell_type": "markdown",
   "metadata": {},
   "source": [
    "## Lambda Function\n",
    "\n",
    "* Create a list of numbers\n",
    "* Use filter and a lambda function to filter even numbers\n",
    "* Use lambda function to check for even and odd numbers\n"
   ]
  },
  {
   "cell_type": "code",
   "execution_count": 42,
   "metadata": {},
   "outputs": [
    {
     "name": "stdout",
     "output_type": "stream",
     "text": [
      "[2, 4, 6, 8, 10]\n",
      "['ODD', 'Even', 'ODD', 'Even', 'ODD', 'Even', 'ODD', 'Even', 'ODD', 'Even']\n"
     ]
    }
   ],
   "source": [
    "# YOUR CODE HERE\n",
    "numbers = [1,2,3,4,5,6,7,8,9,10]\n",
    "even_numnbers= list(filter(lambda x : x%2 == 0 , numbers))\n",
    "print(even_numnbers)\n",
    "\n",
    "numbers = [1,2,3,4,5,6,7,8,9,10]\n",
    "result = list(map(lambda x: \"Even\"if x%2==0 else \"ODD\", numbers))\n",
    "print (result)"
   ]
  },
  {
   "cell_type": "markdown",
   "metadata": {
    "id": "pvKyxy7aDAYQ"
   },
   "source": [
    "## Create a Rectangle Class\n",
    "\n",
    "Create a Rectangle class with attributes for length and width. Implement methods to calculate the area and perimeter of the rectangle."
   ]
  },
  {
   "cell_type": "code",
   "execution_count": 40,
   "metadata": {
    "id": "WS88JWXRC1Ax"
   },
   "outputs": [
    {
     "name": "stdout",
     "output_type": "stream",
     "text": [
      "area is :  6\n",
      "perimeter is :  10\n"
     ]
    }
   ],
   "source": [
    "# YOUR CODE HERE\n",
    "class Rectangle:\n",
    "    def __init__(self,length,width):\n",
    "        self.length = length\n",
    "        self.width = width\n",
    "    def area(self):\n",
    "        return self.length * self.width\n",
    "    def perimeter(self):\n",
    "        return 2*(self.length + self.width)\n",
    "\n",
    "var1 = Rectangle(2,3)\n",
    "area = var1.area()\n",
    "print(\"area is : \",area)\n",
    "perimeter = var1.perimeter()\n",
    "print(\"perimeter is : \",perimeter)"
   ]
  },
  {
   "cell_type": "markdown",
   "metadata": {
    "id": "pzqUjFkuEdT6"
   },
   "source": [
    "## Re-run the cells above provided for file reading\n",
    "\n",
    "I have already provided the code to read files. Execute cell above for reading file and you will have all data in text list.\n",
    "\n",
    "## Find shortest word from file \"Strings.txt\""
   ]
  },
  {
   "cell_type": "code",
   "execution_count": 125,
   "metadata": {
    "id": "Syhkc-PuEjrL"
   },
   "outputs": [],
   "source": [
    "# YOUR CODE HERE\n"
   ]
  },
  {
   "cell_type": "markdown",
   "metadata": {},
   "source": [
    "## Count how many words are ending at \"st\" or \"r\""
   ]
  },
  {
   "cell_type": "code",
   "execution_count": null,
   "metadata": {},
   "outputs": [],
   "source": [
    "# YOUR CODE HERE\n"
   ]
  },
  {
   "cell_type": "markdown",
   "metadata": {},
   "source": [
    "## Check if there are any palindromes"
   ]
  },
  {
   "cell_type": "code",
   "execution_count": 1,
   "metadata": {},
   "outputs": [],
   "source": [
    "# YOUR CODE HERE\n"
   ]
  }
 ],
 "metadata": {
  "colab": {
   "collapsed_sections": [],
   "name": "PAI-Lab-02.ipynb",
   "provenance": []
  },
  "kernelspec": {
   "display_name": "Python 3 (ipykernel)",
   "language": "python",
   "name": "python3"
  },
  "language_info": {
   "codemirror_mode": {
    "name": "ipython",
    "version": 3
   },
   "file_extension": ".py",
   "mimetype": "text/x-python",
   "name": "python",
   "nbconvert_exporter": "python",
   "pygments_lexer": "ipython3",
   "version": "3.10.12"
  }
 },
 "nbformat": 4,
 "nbformat_minor": 1
}
