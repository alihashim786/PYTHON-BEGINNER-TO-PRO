{
  "cells": [
    {
      "cell_type": "markdown",
      "id": "d564428e",
      "metadata": {
        "id": "d564428e"
      },
      "source": [
        "Created by Muhammad Sohail Abbas\n",
        "sohail.abbas@isb.nu.edu.pk\n",
        "\n",
        "# Lab 02\n",
        "\n",
        "## Table of Contents:\n",
        "* Introduction\n",
        "* Variables and Data Types\n",
        "* Reserved Words\n",
        "* Assignment Operator\n",
        "* Type Command\n",
        "* Arithmetic Operators\n",
        "* Comparison Operators\n",
        "* Strings\n",
        "* String Functions\n",
        "* 1D Lists\n",
        "* List Functions\n",
        "* Exercises"
      ]
    },
    {
      "cell_type": "markdown",
      "id": "fdede335",
      "metadata": {
        "id": "fdede335"
      },
      "source": [
        "## Introduction\n",
        "In this lab, you'll learn about essential concepts like variables, operators, strings, and lists in Python. These fundamental concepts form the building blocks of programming and are crucial to understanding more complex topics."
      ]
    },
    {
      "cell_type": "markdown",
      "id": "3859b7bb",
      "metadata": {
        "id": "3859b7bb"
      },
      "source": [
        "## Variables and Data Types\n",
        "* int: Integer numbers\n",
        "* float: Floating-point numbers\n",
        "* bool: Boolean values (True or False)"
      ]
    },
    {
      "cell_type": "code",
      "execution_count": null,
      "id": "1d7109ee",
      "metadata": {
        "id": "1d7109ee",
        "outputId": "feab1da5-a56e-4fe6-a14f-b73922ec899d"
      },
      "outputs": [
        {
          "name": "stdout",
          "output_type": "stream",
          "text": [
            "this is my data 234 True 68.78\n"
          ]
        }
      ],
      "source": [
        "data=\"this is my data\"\n",
        "id_no=234\n",
        "present=True\n",
        "percentage=68.78\n",
        "\n",
        "print(data, id_no, present, percentage)"
      ]
    },
    {
      "cell_type": "markdown",
      "id": "9c390e5a",
      "metadata": {
        "id": "9c390e5a"
      },
      "source": [
        "## Reserved Words\n",
        "Reserved words are words that have special meanings in Python and cannot be used as variable names. Examples include if, else, while, for, and more."
      ]
    },
    {
      "cell_type": "markdown",
      "id": "66f98c93",
      "metadata": {
        "id": "66f98c93"
      },
      "source": [
        "## Assignment Operator\n",
        "The assignment operator (=) is used to assign a value to a variable."
      ]
    },
    {
      "cell_type": "markdown",
      "id": "227e867f",
      "metadata": {
        "id": "227e867f"
      },
      "source": [
        "## Type Command\n",
        "The type() function is used to determine the data type of a variable."
      ]
    },
    {
      "cell_type": "code",
      "execution_count": null,
      "id": "3178c57e",
      "metadata": {
        "id": "3178c57e",
        "outputId": "88d7e4ca-96a9-463b-d3f4-b449a33e41f3"
      },
      "outputs": [
        {
          "name": "stdout",
          "output_type": "stream",
          "text": [
            "<class 'str'>\n"
          ]
        }
      ],
      "source": [
        "x=type(data)\n",
        "print(x)"
      ]
    },
    {
      "cell_type": "markdown",
      "id": "d931c2e0",
      "metadata": {
        "id": "d931c2e0"
      },
      "source": [
        "## Arithmetic Operators\n",
        "Arithmetic operators perform mathematical operations:\n",
        "\n",
        "* +, -, *, /: Addition, subtraction, multiplication, division\n",
        "* %: Modulus (remainder)\n",
        "* **: Exponentiation (power)\n",
        "* //: Floor division (division with the result rounded down)"
      ]
    },
    {
      "cell_type": "code",
      "execution_count": null,
      "id": "cda493e7",
      "metadata": {
        "id": "cda493e7",
        "outputId": "f74f36b8-f142-45af-fca1-9ffc1894bfc2"
      },
      "outputs": [
        {
          "name": "stdout",
          "output_type": "stream",
          "text": [
            "134 279841 1\n"
          ]
        }
      ],
      "source": [
        "x=56\n",
        "y=78\n",
        "sum=x+y\n",
        "exp=23 ** 4\n",
        "fd=y//x\n",
        "\n",
        "print(sum, exp,fd)"
      ]
    },
    {
      "cell_type": "markdown",
      "id": "12aea2e4",
      "metadata": {
        "id": "12aea2e4"
      },
      "source": [
        "## Comparison Operators\n",
        "Comparison operators are used to compare values:\n",
        "\n",
        "* ==: Equal to\n",
        "* !=: Not equal to\n",
        "* <, >, <=, >=: Less than, greater than, less than or equal to, greater than or equal to"
      ]
    },
    {
      "cell_type": "markdown",
      "id": "024750d3",
      "metadata": {
        "id": "024750d3"
      },
      "source": [
        "## Strings\n",
        "Strings are sequences of characters enclosed in single (' ') or double (\" \") quotes.\n",
        "\n",
        "String Functions:\n",
        "\n",
        "* len(): Returns the length of a string.\n",
        "* replace(): Replaces a substring with another substring.\n",
        "* Indexing: Access individual characters using index values.\n",
        "* Slicing: Extract a substring using slicing notation, e.g., [start:end]."
      ]
    },
    {
      "cell_type": "code",
      "execution_count": null,
      "id": "a05a1602",
      "metadata": {
        "id": "a05a1602",
        "outputId": "564b7104-45f5-431f-e1c8-3d986480e8f9"
      },
      "outputs": [
        {
          "name": "stdout",
          "output_type": "stream",
          "text": [
            "SoHail\n",
            "6\n",
            "Hail\n",
            "i\n"
          ]
        }
      ],
      "source": [
        "name=\"Sohail\"\n",
        "name=name.replace('h','H')\n",
        "\n",
        "print(name)\n",
        "print(len(name))\n",
        "print(name[2:])\n",
        "print(name[4])"
      ]
    },
    {
      "cell_type": "markdown",
      "id": "f7dd40b8",
      "metadata": {
        "id": "f7dd40b8"
      },
      "source": [
        "## 1D Lists\n",
        "Lists are ordered collections of items. Lists can contain elements of different types.\n",
        "\n",
        "List Functions:\n",
        "\n",
        "* range(): Generates a sequence of numbers.\n",
        "* append(): Adds an item to the end of the list.\n",
        "* insert(): Inserts an item at a specific index.\n",
        "* Indexing: Access individual items using index values.\n",
        "* Slicing: Extract a sublist using slicing notation, e.g., [start:end]."
      ]
    },
    {
      "cell_type": "code",
      "execution_count": null,
      "id": "9260b60c",
      "metadata": {
        "id": "9260b60c",
        "outputId": "d231a754-4c97-47ed-debb-98ffae289f92"
      },
      "outputs": [
        {
          "name": "stdout",
          "output_type": "stream",
          "text": [
            "[23, 'data', True]\n",
            "[23, 'data', False, True]\n",
            "[23, 'data', False, True, 'minimum']\n",
            "[23, 'data', False]\n"
          ]
        }
      ],
      "source": [
        "lst=[]\n",
        "lst=[23,\"data\",True]\n",
        "print(lst)\n",
        "lst.insert(2,False)\n",
        "print(lst)\n",
        "lst.append(\"minimum\")\n",
        "print(lst)\n",
        "print(lst[:3])"
      ]
    },
    {
      "cell_type": "markdown",
      "id": "a87cd82d",
      "metadata": {
        "id": "a87cd82d"
      },
      "source": [
        "# Exercises"
      ]
    },
    {
      "cell_type": "markdown",
      "id": "8e4a9ec5",
      "metadata": {
        "id": "8e4a9ec5"
      },
      "source": [
        "We are creating a database where we are going to store following items\n",
        "\n",
        "* Ids of student\n",
        "* Marks of each subject of students (list)\n",
        "* Percentage of each subject of marks (list)\n",
        "* Whether the student is male or female\n",
        "* Whether the student is passed or failed in each subject (list)\n",
        "* Age of student\n",
        "* Total remaining dues of students\n",
        "* Total paid fee of students\n",
        "\n",
        "Your job is to identify the data-type to be used for each of above values. Also create an example for one record using variables and values of appropriate data-types for ids, marks, percentage, gender, passed/failed, age, remaining dues, paid dues.\n",
        "Print values"
      ]
    },
    {
      "cell_type": "code",
      "execution_count": 19,
      "id": "7104b539",
      "metadata": {
        "colab": {
          "base_uri": "https://localhost:8080/"
        },
        "id": "7104b539",
        "outputId": "41d7c094-cf0b-454f-9f36-7b2971b3f194"
      },
      "outputs": [
        {
          "output_type": "stream",
          "name": "stdout",
          "text": [
            "<class 'int'>\n",
            "<class 'list'>\n",
            "<class 'list'>\n",
            "<class 'str'>\n",
            "<class 'list'>\n",
            "<class 'int'>\n",
            "<class 'float'>\n",
            "<class 'float'>\n",
            "Student ID: 1\n",
            "Subject Marks: [85, 90, 78, 92, 70]\n",
            "Subject Percentages: [85.0, 90.0, 78.0, 92.0, 70.0]\n",
            "Gender: female\n",
            "Subject Results: [True, True, True, True, False]\n",
            "Age: 20\n",
            "Remaining Dues: 1200.5\n",
            "Paid Fee: 3000.0\n"
          ]
        }
      ],
      "source": [
        "student_id = 1\n",
        "subject_marks = [85, 90, 78, 92, 70]\n",
        "subject_percentages = [85.0, 90.0, 78.0, 92.0, 70.0]\n",
        "gender = \"female\"\n",
        "subject_results = [True, True, True, True, False]\n",
        "age = 20\n",
        "remaining_dues = 1200.50\n",
        "paid_fee = 3000.0\n",
        "print(type(student_id))\n",
        "print(type(subject_marks))\n",
        "print(type(subject_percentages))\n",
        "print(type(gender))\n",
        "print(type(subject_results))\n",
        "print(type(age))\n",
        "print(type(remaining_dues))\n",
        "print(type(paid_fee))\n",
        "\n",
        "print(\"Student ID:\", student_id)\n",
        "print(\"Subject Marks:\", subject_marks)\n",
        "print(\"Subject Percentages:\", subject_percentages)\n",
        "print(\"Gender:\", gender)\n",
        "print(\"Subject Results:\", subject_results)\n",
        "print(\"Age:\", age)\n",
        "print(\"Remaining Dues:\", remaining_dues)\n",
        "print(\"Paid Fee:\", paid_fee)\n",
        "\n"
      ]
    },
    {
      "cell_type": "markdown",
      "id": "5eb8e151",
      "metadata": {
        "id": "5eb8e151"
      },
      "source": [
        "Do same as above for following as well\n",
        "\n",
        "## Bookstore Inventory\n",
        "\n",
        "* book_id\n",
        "* book_title\n",
        "* author\n",
        "* price list (list i.e. 5000 for non members, 4000 for members, 3000 for VIPs)\n",
        "* in_stock\n",
        "\n",
        "## Employee Records\n",
        "\n",
        "* employee_id\n",
        "* name\n",
        "* salary (list base-salary, bonus, alownce)\n",
        "* Sujects (List)\n",
        "* department\n",
        "* is_manager"
      ]
    },
    {
      "cell_type": "code",
      "execution_count": 31,
      "id": "5de3567f",
      "metadata": {
        "colab": {
          "base_uri": "https://localhost:8080/"
        },
        "id": "5de3567f",
        "outputId": "8ebc4eeb-8f8d-4c6a-8f12-e011c7aaf57c"
      },
      "outputs": [
        {
          "output_type": "stream",
          "name": "stdout",
          "text": [
            "Book ID: 101\n",
            "Book Title: The Great Gatsby\n",
            "Author: F. Scott Fitzgerald\n",
            "Price List: [5000, 4000, 3000]\n",
            "In Stock: True\n",
            "Employee ID: 2001\n",
            "Name: John Doe\n",
            "Salary: [60000.0, 8000.0, 2000.0]\n",
            "Subjects: ['Mathematics', 'Physics']\n",
            "Department: Science\n",
            "Is Manager: False\n"
          ]
        }
      ],
      "source": [
        "\n",
        "book_id = 101\n",
        "book_title = \"The Great Gatsby\"\n",
        "author = \"F. Scott Fitzgerald\"\n",
        "price_list = [5000, 4000, 3000]\n",
        "in_stock = True\n",
        "\n",
        "print(\"Book ID:\", book_id)\n",
        "print(\"Book Title:\", book_title)\n",
        "print(\"Author:\", author)\n",
        "print(\"Price List:\", price_list)\n",
        "print(\"In Stock:\", in_stock)\n",
        "\n",
        "employee_id = 2001\n",
        "name = \"John Doe\"\n",
        "salary = [60000.0, 8000.0, 2000.0]\n",
        "subjects = [\"Mathematics\", \"Physics\"]\n",
        "department = \"Science\"\n",
        "is_manager = False\n",
        "\n",
        "print(\"Employee ID:\", employee_id)\n",
        "print(\"Name:\", name)\n",
        "print(\"Salary:\", salary)\n",
        "print(\"Subjects:\", subjects)\n",
        "print(\"Department:\", department)\n",
        "print(\"Is Manager:\", is_manager)\n",
        "\n"
      ]
    },
    {
      "cell_type": "markdown",
      "id": "b1b230e6",
      "metadata": {
        "id": "b1b230e6"
      },
      "source": [
        "Use assignment Operator to assign new values to one of the above scenerios and print again"
      ]
    },
    {
      "cell_type": "code",
      "execution_count": null,
      "id": "36ed8a5f",
      "metadata": {
        "id": "36ed8a5f"
      },
      "outputs": [],
      "source": [
        "# YOUR CODE HERE\n"
      ]
    },
    {
      "cell_type": "markdown",
      "id": "3a03778c",
      "metadata": {
        "id": "3a03778c"
      },
      "source": [
        "Use arithmatic operators in all of above examples where a list of numbers is used to compute average values (do not use loops)"
      ]
    },
    {
      "cell_type": "code",
      "execution_count": null,
      "id": "9650e668",
      "metadata": {
        "id": "9650e668"
      },
      "outputs": [],
      "source": [
        "# YOUR CODE HERE\n"
      ]
    },
    {
      "cell_type": "markdown",
      "id": "20350cfe",
      "metadata": {
        "id": "20350cfe"
      },
      "source": [
        "use ** operator on lists in all above examples (if list is stotoring numbers)"
      ]
    },
    {
      "cell_type": "code",
      "execution_count": null,
      "id": "8bda8612",
      "metadata": {
        "id": "8bda8612"
      },
      "outputs": [],
      "source": [
        "# YOUR CODE HERE\n"
      ]
    },
    {
      "cell_type": "markdown",
      "id": "dbf91de9",
      "metadata": {
        "id": "dbf91de9"
      },
      "source": [
        "use // operator on at least one examples from each of above scenerios"
      ]
    },
    {
      "cell_type": "code",
      "execution_count": null,
      "id": "6ebb23e2",
      "metadata": {
        "id": "6ebb23e2"
      },
      "outputs": [],
      "source": [
        "# YOUR CODE HERE\n"
      ]
    },
    {
      "cell_type": "markdown",
      "id": "42c00069",
      "metadata": {
        "id": "42c00069"
      },
      "source": [
        "## Task Management System\n",
        "\n",
        "You're working on a task management system that allows users to input task descriptions. However, the system needs to process and format the task descriptions before they are saved. You'll be using string functions to perform various tasks on the input.\n",
        "\n",
        "### Task Description:\n",
        "A user has entered the following task description: \"Complete report for Project Alpha. Deadline: 2023-09-15.\"\n",
        "\n",
        "### Tasks to Perform:\n",
        "\n",
        "### Length Calculation:\n",
        "Calculate the length of the given task description.\n",
        "\n",
        "### Deadline Extraction:\n",
        "Extract the deadline date from the task description. You know that the deadline date is always in the format \"yyyy-mm-dd\".\n",
        "\n",
        "### Task Update:\n",
        "Replace the project name \"Project Alpha\" with \"Project Beta\" in the task description.\n",
        "\n",
        "### Description Slicing:\n",
        "Extract only the first 20 characters of the task description as a short summary.\n",
        "\n",
        "Print all information"
      ]
    },
    {
      "cell_type": "code",
      "execution_count": 39,
      "id": "c87cc8bc",
      "metadata": {
        "colab": {
          "base_uri": "https://localhost:8080/"
        },
        "id": "c87cc8bc",
        "outputId": "53399c5a-7769-4c92-befc-17a669bf3fed"
      },
      "outputs": [
        {
          "output_type": "stream",
          "name": "stdout",
          "text": [
            "56\n",
            "deadline is :  2023-09-15.\n",
            "Complete report for Project Beta. Deadline: 2023-09-15.\n",
            "Complete report for \n"
          ]
        }
      ],
      "source": [
        "# YOUR CODE HERE\n",
        "task_des= \"Complete report for Project Alpha. Deadline: 2023-09-15.\"\n",
        "print(len(task_des))\n",
        "print(\"deadline is : \",task_des[45:])\n",
        "print(task_des.replace(\"Project Alpha\",\"Project Beta\"))\n",
        "shortSummary=(task_des[:20])\n",
        "print(shortSummary)"
      ]
    },
    {
      "cell_type": "markdown",
      "id": "878d7aa2",
      "metadata": {
        "id": "878d7aa2"
      },
      "source": [
        "## Contact Information Formatter\n",
        "You're developing a contact information formatter for a CRM system. The goal is to clean up phone numbers and emails to ensure consistent formatting.\n",
        "\n",
        "### Task:\n",
        "Given the contact information: \"Phone: +1 (555) 123-4567, Email: example@email.com\", perform the following tasks:\n",
        "\n",
        "* Calculate the length of the entire contact information.\n",
        "* Replace the phone number with \"[PHONE REDACTED]\".\n",
        "* Extract the email address \"example@email.com\".\n",
        "* Create a shortened version of the information, only showing the first 30 characters.\n",
        "* Extract mobile number from it\n",
        "\n",
        "Print all the results."
      ]
    },
    {
      "cell_type": "code",
      "execution_count": 30,
      "id": "86d5c862",
      "metadata": {
        "colab": {
          "base_uri": "https://localhost:8080/"
        },
        "id": "86d5c862",
        "outputId": "24dbbf46-2b0e-4e3d-d184-6be4f1d2be9a"
      },
      "outputs": [
        {
          "output_type": "stream",
          "name": "stdout",
          "text": [
            "Phone: +1 (555) 123-4567, Email: example@email.com\n",
            "50\n",
            "Phone: [PHONE REDACTED], Email: example@email.com\n",
            " example@email.com\n",
            "Phone: +1 (555) 123-4567, Emai\n",
            "+1 (555) 123-4567\n"
          ]
        }
      ],
      "source": [
        "# YOUR CODE HERE\n",
        "contact_info = \"Phone: +1 (555) 123-4567, Email: example@email.com\"\n",
        "print(contact_info)\n",
        "print(len(contact_info))\n",
        "\n",
        "newContact=(contact_info.replace(\"+1 (555) 123-4567\",\"[PHONE REDACTED]\"))\n",
        "print(newContact)\n",
        "print(contact_info[32:])\n",
        "print(contact_info[:30])\n",
        "print(contact_info[7:24])"
      ]
    },
    {
      "cell_type": "markdown",
      "id": "291182bf",
      "metadata": {
        "id": "291182bf"
      },
      "source": [
        "## URL Generator\n",
        "You're building a URL generator for a bookmarking application. You need to create URLs from titles while ensuring they are properly formatted.\n",
        "\n",
        "### Task:\n",
        "Given a title: \"Learn Python Programming\", perform the following tasks:\n",
        "\n",
        "* Calculate the length of the title.\n",
        "* Replace spaces with hyphens (\"-\") to create a URL-friendly version.\n",
        "* Extract the first three characters to create a shorthand version of the URL.\n",
        "\n",
        "Print all the results.\n",
        "\n"
      ]
    },
    {
      "cell_type": "code",
      "execution_count": 48,
      "id": "07d532f2",
      "metadata": {
        "colab": {
          "base_uri": "https://localhost:8080/"
        },
        "id": "07d532f2",
        "outputId": "ef32ba39-f11e-4103-c7a1-04a8435c35d1"
      },
      "outputs": [
        {
          "output_type": "stream",
          "name": "stdout",
          "text": [
            "Title Length: 24\n",
            "URL-friendly Title: Learn-Python-Programming\n",
            "Shorthand URL: Lea\n"
          ]
        }
      ],
      "source": [
        "# YOUR CODE HERE\n",
        "\n",
        "title = \"Learn Python Programming\"\n",
        "title_length = len(title)\n",
        "print(\"Title Length:\", title_length)\n",
        "\n",
        "url_friendly = title.replace(\" \", \"-\")\n",
        "print(\"URL-friendly Title:\", url_friendly)\n",
        "shorthand_url = url_friendly[:3]\n",
        "print(\"Shorthand URL:\", shorthand_url)\n"
      ]
    },
    {
      "cell_type": "markdown",
      "id": "6dc68732",
      "metadata": {
        "id": "6dc68732"
      },
      "source": [
        "## Shopping List Generator\n",
        "You're building a shopping list generator for a grocery app. Users can input items, and the generator will organize them into a formatted list.\n",
        "\n",
        "### Task:\n",
        "Given a list of groceries: ['Apples', 'Bananas', 'Milk', 'Bread'], perform the following tasks:\n",
        "\n",
        "* Append 'Eggs' to the list.\n",
        "* Insert 'Juice' as the second item.\n",
        "* Extract the third item from the list.\n",
        "* Create a short version of the list containing only the first three items (create an empty list and assign alues to it using slicing)\n",
        "* Print all items from 3rd item onward\n",
        "\n",
        "Print all the results"
      ]
    },
    {
      "cell_type": "code",
      "execution_count": 47,
      "id": "da1e64b6",
      "metadata": {
        "colab": {
          "base_uri": "https://localhost:8080/"
        },
        "id": "da1e64b6",
        "outputId": "3810a153-e754-4283-95d0-7df0c16f71c5"
      },
      "outputs": [
        {
          "output_type": "stream",
          "name": "stdout",
          "text": [
            "['Apples', 'Bananas', 'Milk', 'Bread', 'Eggs']\n",
            "['Apples', 'Juice', 'Bananas', 'Milk', 'Bread', 'Eggs']\n",
            "Bananas\n",
            "All items from 3rd item onward:\n",
            "Milk\n",
            "Bread\n",
            "Eggs\n",
            "Modified groceries list: ['Apples', 'Juice', 'Milk', 'Bread', 'Eggs']\n",
            "Extracted item: Bananas\n",
            "Short list: ['Apples', 'Juice', 'Milk']\n"
          ]
        }
      ],
      "source": [
        "# YOUR CODE HERE\n",
        "groceries = ['Apples', 'Bananas', 'Milk', 'Bread']\n",
        "groceries.append('Eggs')\n",
        "print(groceries)\n",
        "groceries.insert(1, 'Juice')\n",
        "print(groceries)\n",
        "extracted_item = groceries.pop(2)\n",
        "print(extracted_item )\n",
        "short_list = groceries[:3]\n",
        "print(short_list)\n",
        "\n",
        "print(\"All items from 3rd item onward:\")\n",
        "\n",
        "print(\"Modified groceries list:\", groceries)\n",
        "print(\"Extracted item:\", extracted_item)\n",
        "print(\"Short list:\", short_list)\n",
        "\n"
      ]
    },
    {
      "cell_type": "markdown",
      "id": "011daf3c",
      "metadata": {
        "id": "011daf3c"
      },
      "source": [
        "## Recipe Ingredient List\n",
        "You're working on a recipe app that needs to organize ingredient lists for various recipes.\n",
        "\n",
        "### Task:\n",
        "Given an initial ingredient list: ['Flour', 'Sugar', 'Eggs', 'Butter'], perform the following tasks:\n",
        "\n",
        "* Append 'Salt', 'Cream', and 'Souce' one by one to the list.\n",
        "* Insert 'Milk' as the third ingredient and 'Water' as fifth.\n",
        "* Extract the last ingredient from the list.\n",
        "* Extract first 4 ingrediants from list.\n",
        "* Create a concise list containing only the first two ingredients.\n",
        "\n",
        "Print all the results."
      ]
    },
    {
      "cell_type": "code",
      "execution_count": 49,
      "id": "cb48ade6",
      "metadata": {
        "colab": {
          "base_uri": "https://localhost:8080/"
        },
        "id": "cb48ade6",
        "outputId": "f0e4a733-7b3c-464b-a571-6f239be4fa8c"
      },
      "outputs": [
        {
          "output_type": "stream",
          "name": "stdout",
          "text": [
            "Appended Ingredients: ['Flour', 'Sugar', 'Eggs', 'Butter', 'Salt', 'Cream', 'Souce']\n",
            "Inserted Ingredients: ['Flour', 'Sugar', 'Milk', 'Eggs', 'Water', 'Butter', 'Salt', 'Cream', 'Souce']\n",
            "Last Ingredient Extracted: Souce\n",
            "Updated Ingredient List: ['Flour', 'Sugar', 'Milk', 'Eggs', 'Water', 'Butter', 'Salt', 'Cream']\n",
            "First 4 Ingredients Extracted: ['Flour', 'Sugar', 'Milk', 'Eggs']\n",
            "Concise Ingredient List: ['Flour', 'Sugar']\n"
          ]
        }
      ],
      "source": [
        "# YOUR CODE HERE\n",
        "\n",
        "ingredient_list = ['Flour', 'Sugar', 'Eggs', 'Butter']\n",
        "ingredient_list.append('Salt')\n",
        "ingredient_list.append('Cream')\n",
        "ingredient_list.append('Souce')\n",
        "print(\"Appended Ingredients:\", ingredient_list)\n",
        "ingredient_list.insert(2, 'Milk')\n",
        "ingredient_list.insert(4, 'Water')\n",
        "print(\"Inserted Ingredients:\", ingredient_list)\n",
        "\n",
        "last_ingredient = ingredient_list.pop()\n",
        "print(\"Last Ingredient Extracted:\", last_ingredient)\n",
        "print(\"Updated Ingredient List:\", ingredient_list)\n",
        "\n",
        "first_4_ingredients = ingredient_list[:4]\n",
        "print(\"First 4 Ingredients Extracted:\", first_4_ingredients)\n",
        "concise_list = ingredient_list[:2]\n",
        "print(\"Concise Ingredient List:\", concise_list)\n",
        "\n"
      ]
    },
    {
      "cell_type": "markdown",
      "id": "2e5f1dfa",
      "metadata": {
        "id": "2e5f1dfa"
      },
      "source": [
        "## Daily Routine Planner\n",
        "You're creating a planner for daily routines. Each task is represented as an item in the list.\n",
        "\n",
        "### Task:\n",
        "Given a list of tasks: ['Wake up', 'Exercise', 'Breakfast', 'Work', 'Lunch', 'Study'], perform the following tasks:\n",
        "\n",
        "* Create an empty list for the evening routine.\n",
        "* Append 'Dinner' to the evening routine.\n",
        "* Insert 'Relax' as the fourth task of the day routine.\n",
        "* Extract the task 'Breakfast' from the list.\n",
        "* Create a shortened day routine containing only the first four tasks.\n",
        "\n",
        "Print all the results."
      ]
    },
    {
      "cell_type": "code",
      "execution_count": 55,
      "id": "cf53fa66",
      "metadata": {
        "colab": {
          "base_uri": "https://localhost:8080/"
        },
        "id": "cf53fa66",
        "outputId": "53ff32e1-3d65-42ec-c5fc-c56f210c0c69"
      },
      "outputs": [
        {
          "output_type": "stream",
          "name": "stdout",
          "text": [
            "Original Day Routine: ['Wake up', 'Exercise', 'Breakfast', 'Work', 'Lunch', 'Study']\n",
            "After adding Relax: ['Wake up', 'Exercise', 'Relax', 'Work', 'Lunch', 'Study']\n",
            "Evening Routine: ['Dinner']\n",
            "Breakfast Task: Breakfast\n",
            "Shortened Day Routine: ['Wake up', 'Exercise', 'Relax', 'Work']\n"
          ]
        }
      ],
      "source": [
        "# YOUR CODE HERE\n",
        "\n",
        "day_routine = ['Wake up', 'Exercise', 'Breakfast', 'Work', 'Lunch', 'Study']\n",
        "print(\"Original Day Routine:\", day_routine)\n",
        "evening_routine = []\n",
        "evening_routine.append('Dinner')\n",
        "day_routine.insert(3, 'Relax')\n",
        "breakfast_task = day_routine.pop(2)\n",
        "shortened_day_routine = day_routine[:4]\n",
        "\n",
        "print(\"After adding Relax:\", day_routine)\n",
        "print(\"Evening Routine:\", evening_routine)\n",
        "print(\"Breakfast Task:\", breakfast_task)\n",
        "print(\"Shortened Day Routine:\", shortened_day_routine)\n",
        "\n"
      ]
    },
    {
      "cell_type": "markdown",
      "id": "0958c88c",
      "metadata": {
        "id": "0958c88c"
      },
      "source": [
        "## Personal Information Organizer\n",
        "You're building a personal information organizer that helps users manage their basic details and tasks. The organizer utilizes strings, string operations, 1D lists, and various list functions to store and manipulate data.\n",
        "\n",
        "### Scenario:\n",
        "As a user, you're required to provide your personal information and create a to-do list. The system will then process your input and organize the data accordingly.\n",
        "\n",
        "#### Task 1: Personal Information\n",
        "* Enter your first name, last name, and birth year as separate strings.\n",
        "* Calculate the length of your full name.\n",
        "* Replace your birth year with \"XXXX\" for privacy.\n",
        "* Extract the initials of your first and last names.\n",
        "* Create a short username using the first letter of your first name, your last name, and \"123\" (e.g., \"jsmith123\").\n",
        "\n",
        "#### Task 2: To-Do List\n",
        "* Create an empty to-do list.\n",
        "* Append three tasks of your choice to the list.\n",
        "* Insert a new task at the second position.\n",
        "* Extract the first task from the list.\n",
        "* Create a shortened version of the list containing only the last two tasks.\n",
        "\n",
        "Print all the results, including your personal information and the modified to-do list."
      ]
    },
    {
      "cell_type": "markdown",
      "source": [],
      "metadata": {
        "id": "d5f19d37"
      },
      "id": "d5f19d37"
    },
    {
      "cell_type": "markdown",
      "source": [],
      "metadata": {
        "id": "0ZaSTuiTtk8g"
      },
      "id": "0ZaSTuiTtk8g"
    },
    {
      "cell_type": "code",
      "source": [
        "# YOUR CODE HERE\n",
        "\n",
        "first_name = input(\"Enter your first name: \")\n",
        "last_name = input(\"Enter your last name: \")\n",
        "birth_year = input(\"Enter your birth year: \")\n",
        "full_name = first_name + \" \" + last_name\n",
        "name_length = len(full_name)\n",
        "\n",
        "birth_year = birth_year.replace(birth_year,\"XXXX\")\n",
        "\n",
        "initials = first_name[0] + last_name[0]\n",
        "username = first_name[0] + last_name + \"123\"\n",
        "todo_list = []\n",
        "\n",
        "todo_list.append(\"Task 1: Buy groceries\")\n",
        "todo_list.append(\"Task 2: Finish work project\")\n",
        "todo_list.append(\"Task 3: Call family\")\n",
        "\n",
        "todo_list.insert(1, \"Task 4: Go to the gym\")\n",
        "\n",
        "first_task = todo_list.pop(0)\n",
        "\n",
        "shortened_todo_list = todo_list[-2:]\n",
        "\n",
        "print(\"\\nPersonal Information:\")\n",
        "print(\"Full Name:\", full_name)\n",
        "print(\"Name Length:\", name_length)\n",
        "print(\"Privacy Birth Year:\", birth_year)\n",
        "print(\"Initials:\", initials)\n",
        "print(\"Username:\", username)\n",
        "\n",
        "print(\"\\nTo-Do List:\")\n",
        "print(\"First Task:\", first_task)\n",
        "print(\"Shortened To-Do List:\", shortened_todo_list)"
      ],
      "metadata": {
        "id": "vlivcbxFvTEl"
      },
      "id": "vlivcbxFvTEl",
      "execution_count": null,
      "outputs": []
    },
    {
      "cell_type": "markdown",
      "id": "aee39b1c",
      "metadata": {
        "id": "aee39b1c"
      },
      "source": [
        "## Kinematics Calculator\n",
        "You're developing a kinematics calculator to solve basic motion problems. The calculator will use the equations of motion to calculate various quantities.\n",
        "\n",
        "### Scenario:\n",
        "As a user, you'll provide information about an object's initial velocity, acceleration, and time. The calculator will use these values to calculate the final velocity and displacement.\n",
        "\n",
        "#### Task:\n",
        "* Enter the initial velocity (u), acceleration (a), and time (t).\n",
        "* Calculate the final velocity (v) using the formula: v = u + a * t.\n",
        "* Calculate the displacement (s) using the formula: s = u * t + 0.5 * a * t^2."
      ]
    },
    {
      "cell_type": "code",
      "execution_count": 59,
      "id": "f1ab8a4c",
      "metadata": {
        "colab": {
          "base_uri": "https://localhost:8080/"
        },
        "id": "f1ab8a4c",
        "outputId": "e0b21afe-f0bb-4118-d1ca-1870acef0b93"
      },
      "outputs": [
        {
          "output_type": "stream",
          "name": "stdout",
          "text": [
            "Final velocity:  55\n",
            "displacement:  292.5\n"
          ]
        }
      ],
      "source": [
        "# YOUR CODE HERE\n",
        "i=10\n",
        "a=5\n",
        "t=9\n",
        "print(\"Final velocity: \",(i+(a*t)))\n",
        "print(\"displacement: \",((i*t)+(0.5*a*(t**2))))"
      ]
    },
    {
      "cell_type": "markdown",
      "id": "79a66441",
      "metadata": {
        "id": "79a66441"
      },
      "source": [
        "<center><h2 style=\"font-family: 'Vladimir Script', serif;\">Good Luck</h2></center>"
      ]
    }
  ],
  "metadata": {
    "kernelspec": {
      "display_name": "Python 3 (ipykernel)",
      "language": "python",
      "name": "python3"
    },
    "language_info": {
      "codemirror_mode": {
        "name": "ipython",
        "version": 3
      },
      "file_extension": ".py",
      "mimetype": "text/x-python",
      "name": "python",
      "nbconvert_exporter": "python",
      "pygments_lexer": "ipython3",
      "version": "3.8.13"
    },
    "colab": {
      "provenance": []
    }
  },
  "nbformat": 4,
  "nbformat_minor": 5
}