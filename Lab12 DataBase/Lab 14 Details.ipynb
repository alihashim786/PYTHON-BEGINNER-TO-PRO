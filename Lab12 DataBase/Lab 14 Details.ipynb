{
 "cells": [
  {
   "cell_type": "markdown",
   "id": "172685bc",
   "metadata": {},
   "source": [
    "Prepared by Muhammad Sohail Abbas sohail.abbas@isb.nu.edu.pk"
   ]
  },
  {
   "cell_type": "markdown",
   "id": "ec51a093",
   "metadata": {},
   "source": [
    "# Lab 14\n",
    "* Flask\n",
    "* Basics\n",
    "* Setup and Integration with browser\n",
    "* Creation of database\n",
    "* Integration with database\n",
    "* Insert Record\n",
    "* Retrieve Record\n",
    "* Display data in browser"
   ]
  },
  {
   "cell_type": "code",
   "execution_count": 1,
   "id": "733c1dbf",
   "metadata": {},
   "outputs": [
    {
     "name": "stdout",
     "output_type": "stream",
     "text": [
      "Requirement already satisfied: flask in c:\\users\\muhammad_sohail\\anaconda3\\lib\\site-packages (1.1.2)\n",
      "Requirement already satisfied: Werkzeug>=0.15 in c:\\users\\muhammad_sohail\\anaconda3\\lib\\site-packages (from flask) (2.0.3)\n",
      "Requirement already satisfied: itsdangerous>=0.24 in c:\\users\\muhammad_sohail\\anaconda3\\lib\\site-packages (from flask) (2.0.1)\n",
      "Requirement already satisfied: Jinja2>=2.10.1 in c:\\users\\muhammad_sohail\\anaconda3\\lib\\site-packages (from flask) (3.1.2)\n",
      "Requirement already satisfied: click>=5.1 in c:\\users\\muhammad_sohail\\anaconda3\\lib\\site-packages (from flask) (8.0.4)\n",
      "Requirement already satisfied: colorama in c:\\users\\muhammad_sohail\\anaconda3\\lib\\site-packages (from click>=5.1->flask) (0.4.5)\n",
      "Requirement already satisfied: MarkupSafe>=2.0 in c:\\users\\muhammad_sohail\\anaconda3\\lib\\site-packages (from Jinja2>=2.10.1->flask) (2.1.1)\n",
      "Note: you may need to restart the kernel to use updated packages.\n"
     ]
    },
    {
     "name": "stderr",
     "output_type": "stream",
     "text": [
      "WARNING: Ignoring invalid distribution -pencv-python (c:\\users\\muhammad_sohail\\anaconda3\\lib\\site-packages)\n",
      "WARNING: Ignoring invalid distribution -pencv-python (c:\\users\\muhammad_sohail\\anaconda3\\lib\\site-packages)\n",
      "WARNING: Ignoring invalid distribution -pencv-python (c:\\users\\muhammad_sohail\\anaconda3\\lib\\site-packages)\n",
      "WARNING: Ignoring invalid distribution -pencv-python (c:\\users\\muhammad_sohail\\anaconda3\\lib\\site-packages)\n",
      "WARNING: Ignoring invalid distribution -pencv-python (c:\\users\\muhammad_sohail\\anaconda3\\lib\\site-packages)\n",
      "WARNING: Ignoring invalid distribution -pencv-python (c:\\users\\muhammad_sohail\\anaconda3\\lib\\site-packages)\n"
     ]
    }
   ],
   "source": [
    "pip install flask"
   ]
  },
  {
   "cell_type": "markdown",
   "id": "e4f80b73",
   "metadata": {},
   "source": [
    "Setting up flask app"
   ]
  },
  {
   "cell_type": "code",
   "execution_count": null,
   "id": "31aa4947",
   "metadata": {},
   "outputs": [],
   "source": [
    "from flask import Flask\n",
    "\n",
    "app = Flask(__name__)\n",
    "\n",
    "\n",
    "@app.route('/about')\n",
    "def about():\n",
    "    return 'this about here, this is the home page!'\n",
    "\n",
    "@app.route('/')\n",
    "def home():\n",
    "    return 'Hello, this is the home page!'\n",
    "\n",
    "if __name__ == '__main__':\n",
    "    app.run(debug=True)"
   ]
  },
  {
   "cell_type": "markdown",
   "id": "fbf0456d",
   "metadata": {},
   "source": [
    "running app"
   ]
  },
  {
   "cell_type": "code",
   "execution_count": null,
   "id": "c62838dd",
   "metadata": {},
   "outputs": [],
   "source": [
    "python app.py"
   ]
  },
  {
   "cell_type": "markdown",
   "id": "5408f88f",
   "metadata": {},
   "source": [
    "Basic Routing and Templating"
   ]
  },
  {
   "cell_type": "markdown",
   "id": "4cf0e38f",
   "metadata": {},
   "source": [
    "* Create files index.html and about.html. Copy them with project in templates folder\n",
    "\n",
    "* Folder Structure\n",
    "        Project->\n",
    "            main.py\n",
    "            templates->\n",
    "                index.html\n",
    "                about.html"
   ]
  },
  {
   "cell_type": "code",
   "execution_count": null,
   "id": "28f8f04b",
   "metadata": {},
   "outputs": [],
   "source": [
    "from flask import Flask, render_template\n",
    "\n",
    "app = Flask(__name__)\n",
    "\n",
    "@app.route('/')\n",
    "def home():\n",
    "    return render_template('index.html')\n",
    "\n",
    "@app.route('/about')\n",
    "def about():\n",
    "    return render_template('about.html')\n",
    "\n",
    "if __name__ == '__main__':\n",
    "    app.run(debug=True)"
   ]
  },
  {
   "cell_type": "markdown",
   "id": "1bd8c514",
   "metadata": {},
   "source": [
    "<!-- templates/index.html -->\n",
    "<!DOCTYPE html>\n",
    "<html lang=\"en\">\n",
    "<head>\n",
    "    <meta charset=\"UTF-8\">\n",
    "    <meta http-equiv=\"X-UA-Compatible\" content=\"IE=edge\">\n",
    "    <meta name=\"viewport\" content=\"width=device-width, initial-scale=1.0\">\n",
    "    <title>Home</title>\n",
    "</head>\n",
    "<body>\n",
    "    <h1>Hello, Flask!</h1>\n",
    "</body>\n",
    "</html>"
   ]
  },
  {
   "cell_type": "markdown",
   "id": "73982d92",
   "metadata": {},
   "source": [
    "<!-- templates/about.html -->\n",
    "<!DOCTYPE html>\n",
    "<html lang=\"en\">\n",
    "<head>\n",
    "    <meta charset=\"UTF-8\">\n",
    "    <meta http-equiv=\"X-UA-Compatible\" content=\"IE=edge\">\n",
    "    <meta name=\"viewport\" content=\"width=device-width, initial-scale=1.0\">\n",
    "    <title>About</title>\n",
    "</head>\n",
    "<body>\n",
    "    <h1>About Page</h1>\n",
    "    <p>This is the about page.</p>\n",
    "</body>\n",
    "</html>"
   ]
  },
  {
   "cell_type": "markdown",
   "id": "3d0afb36",
   "metadata": {},
   "source": [
    "# Working with forms"
   ]
  },
  {
   "cell_type": "code",
   "execution_count": 1,
   "id": "5659a13a",
   "metadata": {},
   "outputs": [
    {
     "name": "stdout",
     "output_type": "stream",
     "text": [
      "Collecting Flask-WTF\n",
      "  Downloading flask_wtf-1.2.1-py3-none-any.whl (12 kB)\n",
      "Collecting wtforms\n",
      "  Downloading wtforms-3.1.1-py3-none-any.whl (145 kB)\n",
      "     -------------------------------------- 145.4/145.4 kB 1.1 MB/s eta 0:00:00\n",
      "Requirement already satisfied: itsdangerous in c:\\users\\muhammad_sohail\\anaconda3\\lib\\site-packages (from Flask-WTF) (2.0.1)\n",
      "Requirement already satisfied: flask in c:\\users\\muhammad_sohail\\anaconda3\\lib\\site-packages (from Flask-WTF) (1.1.2)\n"
     ]
    },
    {
     "name": "stderr",
     "output_type": "stream",
     "text": [
      "WARNING: Ignoring invalid distribution -pencv-python (c:\\users\\muhammad_sohail\\anaconda3\\lib\\site-packages)\n",
      "WARNING: Ignoring invalid distribution -pencv-python (c:\\users\\muhammad_sohail\\anaconda3\\lib\\site-packages)\n",
      "WARNING: Ignoring invalid distribution -pencv-python (c:\\users\\muhammad_sohail\\anaconda3\\lib\\site-packages)\n",
      "WARNING: Ignoring invalid distribution -pencv-python (c:\\users\\muhammad_sohail\\anaconda3\\lib\\site-packages)\n",
      "WARNING: Ignoring invalid distribution -pencv-python (c:\\users\\muhammad_sohail\\anaconda3\\lib\\site-packages)\n",
      "WARNING: Ignoring invalid distribution -pencv-python (c:\\users\\muhammad_sohail\\anaconda3\\lib\\site-packages)\n",
      "WARNING: Ignoring invalid distribution -pencv-python (c:\\users\\muhammad_sohail\\anaconda3\\lib\\site-packages)\n",
      "WARNING: Ignoring invalid distribution -pencv-python (c:\\users\\muhammad_sohail\\anaconda3\\lib\\site-packages)\n"
     ]
    },
    {
     "name": "stdout",
     "output_type": "stream",
     "text": [
      "Requirement already satisfied: Jinja2>=2.10.1 in c:\\users\\muhammad_sohail\\anaconda3\\lib\\site-packages (from flask->Flask-WTF) (3.1.2)\n",
      "Requirement already satisfied: Werkzeug>=0.15 in c:\\users\\muhammad_sohail\\anaconda3\\lib\\site-packages (from flask->Flask-WTF) (2.0.3)\n",
      "Requirement already satisfied: click>=5.1 in c:\\users\\muhammad_sohail\\anaconda3\\lib\\site-packages (from flask->Flask-WTF) (8.0.4)\n",
      "Requirement already satisfied: markupsafe in c:\\users\\muhammad_sohail\\anaconda3\\lib\\site-packages (from wtforms->Flask-WTF) (2.1.1)\n",
      "Requirement already satisfied: colorama in c:\\users\\muhammad_sohail\\anaconda3\\lib\\site-packages (from click>=5.1->flask->Flask-WTF) (0.4.5)\n",
      "Installing collected packages: wtforms, Flask-WTF\n",
      "Successfully installed Flask-WTF-1.2.1 wtforms-3.1.1\n"
     ]
    }
   ],
   "source": [
    "!pip install Flask-WTF"
   ]
  },
  {
   "cell_type": "markdown",
   "id": "c64363b2",
   "metadata": {},
   "source": [
    "* Create files index.html and form.html. Copy them with project in templates folder\n",
    "\n",
    "* Folder Structure\n",
    "        Project->\n",
    "            main.py\n",
    "            templates->\n",
    "                index.html\n",
    "                form.html"
   ]
  },
  {
   "cell_type": "markdown",
   "id": "8d84bcc4",
   "metadata": {},
   "source": [
    "<!-- templates/index.html -->\n",
    "<!DOCTYPE html>\n",
    "<html lang=\"en\">\n",
    "<head>\n",
    "    <meta charset=\"UTF-8\">\n",
    "    <meta http-equiv=\"X-UA-Compatible\" content=\"IE=edge\">\n",
    "    <meta name=\"viewport\" content=\"width=device-width, initial-scale=1.0\">\n",
    "    <title>Home</title>\n",
    "</head>\n",
    "<body>\n",
    "    <h1>Hello, Flask!</h1>\n",
    "\n",
    "    <!-- Add a button that links to the /forms route -->\n",
    "    <a href=\"/forms\">\n",
    "        <button>Go to Forms</button>\n",
    "    </a>\n",
    "</body>\n",
    "</html>"
   ]
  },
  {
   "cell_type": "markdown",
   "id": "a0ec5647",
   "metadata": {},
   "source": [
    "<!-- templates/form.html -->\n",
    "<!DOCTYPE html>\n",
    "<html lang=\"en\">\n",
    "<head>\n",
    "    <meta charset=\"UTF-8\">\n",
    "    <meta http-equiv=\"X-UA-Compatible\" content=\"IE=edge\">\n",
    "    <meta name=\"viewport\" content=\"width=device-width, initial-scale=1.0\">\n",
    "    <title>Form</title>\n",
    "</head>\n",
    "<body>\n",
    "    <h1>Form Page</h1>\n",
    "    <form method=\"POST\">\n",
    "        {{ form.hidden_tag() }}\n",
    "        <label for=\"name\">Name:</label>\n",
    "        {{ form.name() }}\n",
    "        <br>\n",
    "        {{ form.submit() }}\n",
    "    </form>\n",
    "</body>\n",
    "</html>"
   ]
  },
  {
   "cell_type": "code",
   "execution_count": null,
   "id": "a610a99a",
   "metadata": {},
   "outputs": [],
   "source": [
    "from flask_wtf import FlaskForm\n",
    "from wtforms import StringField, SubmitField\n",
    "from flask import Flask\n",
    "from flask import render_template\n",
    "from flask_wtf.csrf import CSRFProtect\n",
    "\n",
    "app = Flask(__name__)\n",
    "\n",
    "csrf = CSRFProtect(app)\n",
    "\n",
    "# Set a secret key for your Flask app\n",
    "app.config['SECRET_KEY'] = 'pailab'\n",
    "\n",
    "class MyForm(FlaskForm):\n",
    "    name = StringField('Name')\n",
    "    submit = SubmitField('Submit')\n",
    "\n",
    "@app.route('/')\n",
    "def home():\n",
    "    return render_template('index.html')\n",
    "\n",
    "@app.route('/forms', methods=['GET', 'POST'])\n",
    "def form():\n",
    "    form = MyForm()\n",
    "\n",
    "    if form.validate_on_submit():\n",
    "        name = form.name.data\n",
    "        return f'Form submitted with name: {name}'\n",
    "\n",
    "    return render_template('form.html', form=form)\n",
    "\n",
    "if __name__ == '__main__':\n",
    "    app.run(debug=True)"
   ]
  },
  {
   "cell_type": "markdown",
   "id": "93267240",
   "metadata": {},
   "source": [
    "# Database Integration with Flask-SQLAlchemy"
   ]
  },
  {
   "cell_type": "code",
   "execution_count": 2,
   "id": "ac34900f",
   "metadata": {},
   "outputs": [
    {
     "name": "stdout",
     "output_type": "stream",
     "text": [
      "Collecting Flask-SQLAlchemy"
     ]
    },
    {
     "name": "stderr",
     "output_type": "stream",
     "text": [
      "WARNING: Ignoring invalid distribution -pencv-python (c:\\users\\muhammad_sohail\\anaconda3\\lib\\site-packages)\n",
      "WARNING: Ignoring invalid distribution -pencv-python (c:\\users\\muhammad_sohail\\anaconda3\\lib\\site-packages)\n",
      "WARNING: Ignoring invalid distribution -pencv-python (c:\\users\\muhammad_sohail\\anaconda3\\lib\\site-packages)\n",
      "    WARNING: Ignoring invalid distribution -pencv-python (c:\\users\\muhammad_sohail\\anaconda3\\lib\\site-packages)\n",
      "    WARNING: Ignoring invalid distribution -pencv-python (c:\\users\\muhammad_sohail\\anaconda3\\lib\\site-packages)\n",
      "    WARNING: Ignoring invalid distribution -pencv-python (c:\\users\\muhammad_sohail\\anaconda3\\lib\\site-packages)\n",
      "    WARNING: Ignoring invalid distribution -pencv-python (c:\\users\\muhammad_sohail\\anaconda3\\lib\\site-packages)\n",
      "    WARNING: Ignoring invalid distribution -pencv-python (c:\\users\\muhammad_sohail\\anaconda3\\lib\\site-packages)\n",
      "    WARNING: Ignoring invalid distribution -pencv-python (c:\\users\\muhammad_sohail\\anaconda3\\lib\\site-packages)\n",
      "WARNING: Ignoring invalid distribution -pencv-python (c:\\users\\muhammad_sohail\\anaconda3\\lib\\site-packages)\n",
      "WARNING: Ignoring invalid distribution -pencv-python (c:\\users\\muhammad_sohail\\anaconda3\\lib\\site-packages)"
     ]
    },
    {
     "name": "stdout",
     "output_type": "stream",
     "text": [
      "\n",
      "  Downloading flask_sqlalchemy-3.1.1-py3-none-any.whl (25 kB)\n",
      "Collecting sqlalchemy>=2.0.16\n",
      "  Downloading SQLAlchemy-2.0.23-cp38-cp38-win_amd64.whl (2.1 MB)\n",
      "     ---------------------------------------- 2.1/2.1 MB 1.5 MB/s eta 0:00:00\n",
      "Collecting flask>=2.2.5\n",
      "  Downloading flask-3.0.0-py3-none-any.whl (99 kB)\n",
      "     -------------------------------------- 99.7/99.7 kB 821.0 kB/s eta 0:00:00\n",
      "Requirement already satisfied: Jinja2>=3.1.2 in c:\\users\\muhammad_sohail\\anaconda3\\lib\\site-packages (from flask>=2.2.5->Flask-SQLAlchemy) (3.1.2)\n",
      "Collecting click>=8.1.3\n",
      "  Downloading click-8.1.7-py3-none-any.whl (97 kB)\n",
      "     -------------------------------------- 97.9/97.9 kB 797.3 kB/s eta 0:00:00\n",
      "Collecting Werkzeug>=3.0.0\n",
      "  Downloading werkzeug-3.0.1-py3-none-any.whl (226 kB)\n",
      "     -------------------------------------- 226.7/226.7 kB 1.5 MB/s eta 0:00:00\n",
      "Requirement already satisfied: importlib-metadata>=3.6.0 in c:\\users\\muhammad_sohail\\anaconda3\\lib\\site-packages (from flask>=2.2.5->Flask-SQLAlchemy) (4.11.3)\n",
      "Collecting itsdangerous>=2.1.2\n",
      "  Downloading itsdangerous-2.1.2-py3-none-any.whl (15 kB)\n",
      "Collecting blinker>=1.6.2\n",
      "  Downloading blinker-1.7.0-py3-none-any.whl (13 kB)\n",
      "Requirement already satisfied: greenlet!=0.4.17 in c:\\users\\muhammad_sohail\\anaconda3\\lib\\site-packages (from sqlalchemy>=2.0.16->Flask-SQLAlchemy) (1.1.1)\n",
      "Collecting typing-extensions>=4.2.0\n",
      "  Downloading typing_extensions-4.8.0-py3-none-any.whl (31 kB)\n",
      "Requirement already satisfied: colorama in c:\\users\\muhammad_sohail\\anaconda3\\lib\\site-packages (from click>=8.1.3->flask>=2.2.5->Flask-SQLAlchemy) (0.4.5)\n",
      "Requirement already satisfied: zipp>=0.5 in c:\\users\\muhammad_sohail\\anaconda3\\lib\\site-packages (from importlib-metadata>=3.6.0->flask>=2.2.5->Flask-SQLAlchemy) (3.8.0)\n",
      "Requirement already satisfied: MarkupSafe>=2.0 in c:\\users\\muhammad_sohail\\anaconda3\\lib\\site-packages (from Jinja2>=3.1.2->flask>=2.2.5->Flask-SQLAlchemy) (2.1.1)\n",
      "Installing collected packages: Werkzeug, typing-extensions, itsdangerous, click, blinker, sqlalchemy, flask, Flask-SQLAlchemy\n",
      "  Attempting uninstall: Werkzeug\n",
      "    Found existing installation: Werkzeug 2.0.3\n",
      "    Uninstalling Werkzeug-2.0.3:\n",
      "      Successfully uninstalled Werkzeug-2.0.3\n",
      "  Attempting uninstall: typing-extensions\n",
      "    Found existing installation: typing_extensions 4.1.1\n",
      "    Uninstalling typing_extensions-4.1.1:\n",
      "      Successfully uninstalled typing_extensions-4.1.1\n",
      "  Attempting uninstall: itsdangerous\n",
      "    Found existing installation: itsdangerous 2.0.1\n",
      "    Uninstalling itsdangerous-2.0.1:\n",
      "      Successfully uninstalled itsdangerous-2.0.1\n",
      "  Attempting uninstall: click\n",
      "    Found existing installation: click 8.0.4\n",
      "    Uninstalling click-8.0.4:\n",
      "      Successfully uninstalled click-8.0.4\n",
      "  Attempting uninstall: sqlalchemy\n",
      "    Found existing installation: SQLAlchemy 1.4.39\n",
      "    Uninstalling SQLAlchemy-1.4.39:\n",
      "      Successfully uninstalled SQLAlchemy-1.4.39\n",
      "  Attempting uninstall: flask\n",
      "    Found existing installation: Flask 1.1.2\n",
      "    Uninstalling Flask-1.1.2:\n",
      "      Successfully uninstalled Flask-1.1.2\n",
      "Successfully installed Flask-SQLAlchemy-3.1.1 Werkzeug-3.0.1 blinker-1.7.0 click-8.1.7 flask-3.0.0 itsdangerous-2.1.2 sqlalchemy-2.0.23 typing-extensions-4.8.0\n"
     ]
    },
    {
     "name": "stderr",
     "output_type": "stream",
     "text": [
      "\n",
      "WARNING: Ignoring invalid distribution -pencv-python (c:\\users\\muhammad_sohail\\anaconda3\\lib\\site-packages)\n",
      "WARNING: Ignoring invalid distribution -pencv-python (c:\\users\\muhammad_sohail\\anaconda3\\lib\\site-packages)\n",
      "WARNING: Ignoring invalid distribution -pencv-python (c:\\users\\muhammad_sohail\\anaconda3\\lib\\site-packages)\n",
      "WARNING: Ignoring invalid distribution -pencv-python (c:\\users\\muhammad_sohail\\anaconda3\\lib\\site-packages)\n",
      "WARNING: Ignoring invalid distribution -pencv-python (c:\\users\\muhammad_sohail\\anaconda3\\lib\\site-packages)\n",
      "WARNING: Ignoring invalid distribution -pencv-python (c:\\users\\muhammad_sohail\\anaconda3\\lib\\site-packages)\n",
      "ERROR: pip's dependency resolver does not currently take into account all the packages that are installed. This behaviour is the source of the following dependency conflicts.\n",
      "fiftyone 0.16.5 requires xmltodict, which is not installed.\n",
      "tensorflow 2.5.0 requires numpy~=1.19.2, but you have numpy 1.22.3 which is incompatible.\n",
      "tensorflow 2.5.0 requires six~=1.15.0, but you have six 1.16.0 which is incompatible.\n",
      "tensorflow 2.5.0 requires typing-extensions~=3.7.4, but you have typing-extensions 4.8.0 which is incompatible.\n",
      "tensorflow 2.5.0 requires wrapt~=1.12.1, but you have wrapt 1.13.3 which is incompatible.\n",
      "fiftyone 0.16.5 requires plotly<5,>=4.14, but you have plotly 5.9.0 which is incompatible.\n",
      "WARNING: Ignoring invalid distribution -pencv-python (c:\\users\\muhammad_sohail\\anaconda3\\lib\\site-packages)\n",
      "WARNING: Ignoring invalid distribution -pencv-python (c:\\users\\muhammad_sohail\\anaconda3\\lib\\site-packages)\n",
      "WARNING: Ignoring invalid distribution -pencv-python (c:\\users\\muhammad_sohail\\anaconda3\\lib\\site-packages)\n"
     ]
    }
   ],
   "source": [
    "!pip install Flask-SQLAlchemy"
   ]
  },
  {
   "cell_type": "code",
   "execution_count": 3,
   "id": "7f9fb9e1",
   "metadata": {},
   "outputs": [
    {
     "name": "stdout",
     "output_type": "stream",
     "text": [
      "Requirement already satisfied: watchdog in c:\\users\\muhammad_sohail\\anaconda3\\lib\\site-packages (2.1.6)"
     ]
    },
    {
     "name": "stderr",
     "output_type": "stream",
     "text": [
      "WARNING: Ignoring invalid distribution -pencv-python (c:\\users\\muhammad_sohail\\anaconda3\\lib\\site-packages)\n",
      "WARNING: Ignoring invalid distribution -pencv-python (c:\\users\\muhammad_sohail\\anaconda3\\lib\\site-packages)\n",
      "WARNING: Ignoring invalid distribution -pencv-python (c:\\users\\muhammad_sohail\\anaconda3\\lib\\site-packages)\n",
      "    WARNING: Ignoring invalid distribution -pencv-python (c:\\users\\muhammad_sohail\\anaconda3\\lib\\site-packages)\n",
      "WARNING: Ignoring invalid distribution -pencv-python (c:\\users\\muhammad_sohail\\anaconda3\\lib\\site-packages)\n",
      "ERROR: pip's dependency resolver does not currently take into account all the packages that are installed. This behaviour is the source of the following dependency conflicts.\n",
      "spyder 4.1.5 requires pyqt5<5.13; python_version >= \"3\", which is not installed.\n",
      "spyder 4.1.5 requires pyqtwebengine<5.13; python_version >= \"3\", which is not installed.\n",
      "WARNING: Ignoring invalid distribution -pencv-python (c:\\users\\muhammad_sohail\\anaconda3\\lib\\site-packages)\n",
      "WARNING: Ignoring invalid distribution -pencv-python (c:\\users\\muhammad_sohail\\anaconda3\\lib\\site-packages)\n",
      "WARNING: Ignoring invalid distribution -pencv-python (c:\\users\\muhammad_sohail\\anaconda3\\lib\\site-packages)\n"
     ]
    },
    {
     "name": "stdout",
     "output_type": "stream",
     "text": [
      "\n",
      "Collecting watchdog\n",
      "  Downloading watchdog-3.0.0-py3-none-win_amd64.whl (82 kB)\n",
      "     ---------------------------------------- 82.0/82.0 kB 1.2 MB/s eta 0:00:00\n",
      "Installing collected packages: watchdog\n",
      "  Attempting uninstall: watchdog\n",
      "    Found existing installation: watchdog 2.1.6\n",
      "    Uninstalling watchdog-2.1.6:\n",
      "      Successfully uninstalled watchdog-2.1.6\n",
      "Successfully installed watchdog-3.0.0\n"
     ]
    }
   ],
   "source": [
    "!pip install --upgrade watchdog"
   ]
  },
  {
   "cell_type": "code",
   "execution_count": null,
   "id": "942485d2",
   "metadata": {},
   "outputs": [],
   "source": []
  },
  {
   "cell_type": "markdown",
   "id": "93006041",
   "metadata": {},
   "source": [
    "* create users.html"
   ]
  },
  {
   "cell_type": "markdown",
   "id": "3280deb0",
   "metadata": {},
   "source": [
    "<!-- templates/users.html -->\n",
    "<!DOCTYPE html>\n",
    "<html lang=\"en\">\n",
    "<head>\n",
    "    <meta charset=\"UTF-8\">\n",
    "    <meta http-equiv=\"X-UA-Compatible\" content=\"IE=edge\">\n",
    "    <meta name=\"viewport\" content=\"width=device-width, initial-scale=1.0\">\n",
    "    <title>Users</title>\n",
    "</head>\n",
    "<body>\n",
    "    <h1>Users</h1>\n",
    "    <ul>\n",
    "        {% for user in users %}\n",
    "            <li>\n",
    "                <strong>Username:</strong> {{ user.username }}<br>\n",
    "                <strong>Email:</strong> {{ user.email }}<br>\n",
    "                <strong>Address:</strong> {{ user.address }}<br>\n",
    "                <strong>Course:</strong> {{ user.course }}\n",
    "            </li>\n",
    "            <br>\n",
    "        {% endfor %}\n",
    "    </ul>\n",
    "</body>\n",
    "</html>"
   ]
  },
  {
   "cell_type": "code",
   "execution_count": null,
   "id": "08c920b0",
   "metadata": {},
   "outputs": [],
   "source": [
    "from flask import Flask, render_template\n",
    "from flask_sqlalchemy import SQLAlchemy\n",
    "\n",
    "app = Flask(__name__)\n",
    "app.config['SQLALCHEMY_DATABASE_URI'] = 'sqlite:///site.db'\n",
    "db = SQLAlchemy(app)\n",
    "\n",
    "class User(db.Model):\n",
    "    id = db.Column(db.Integer, primary_key=True)\n",
    "    username = db.Column(db.String(20), unique=False, nullable=False)\n",
    "    email=db.Column(db.String(20), unique=False, nullable=False)\n",
    "    address= db.Column(db.String(20), unique=False, nullable=False)\n",
    "    course= db.Column(db.String(20), unique=False, nullable=False)\n",
    "\n",
    "@app.route('/users')\n",
    "def users():\n",
    "    all_users = User.query.all()\n",
    "    return render_template('users.html', users=all_users)\n",
    "\n",
    "if __name__ == '__main__':\n",
    "    # This condition ensures that the following code is only executed\n",
    "    # when the script is run directly (not imported as a module).\n",
    "    # It will create the database tables when the script is run.\n",
    "    # Create the Flask app context\n",
    "    with app.app_context():\n",
    "        # Create the database tables when the script is run\n",
    "        db.create_all()\n",
    "        u1=User(username='Sohail', email='sohail.abbas@isb.nu.edu.pk',address='Joharabad',course='PAI')\n",
    "        u2=User(username='Ammar Masood', email='ammar.masood@isb.nu.edu.pk',address='ISlamabad',course='DS')\n",
    "        db.session.add(u1)\n",
    "        db.session.add(u2)\n",
    "        db.session.commit()\n",
    "    app.run(debug=True)"
   ]
  },
  {
   "cell_type": "markdown",
   "id": "329d3f8b",
   "metadata": {},
   "source": [
    "Insert more data"
   ]
  },
  {
   "cell_type": "code",
   "execution_count": null,
   "id": "b26984a7",
   "metadata": {},
   "outputs": [],
   "source": [
    "from app import User, app, db\n",
    "\n",
    "u1=User(username='Sohail', email='sohail.abbas@isb.nu.edu.pk',address='Joharabad',course='PAI')\n",
    "u2=User(username='Ammar Masood3', email='ammar.masood@isb.nu.edu.pk',address='ISlamabad',course='DS')\n",
    "\n",
    "with app.app_context():\n",
    "    db.session.add(u1)\n",
    "    db.session.add(u2)\n",
    "    db.session.commit()"
   ]
  },
  {
   "cell_type": "markdown",
   "id": "0c856bf8",
   "metadata": {},
   "source": [
    "get data"
   ]
  },
  {
   "cell_type": "code",
   "execution_count": null,
   "id": "dad2628e",
   "metadata": {},
   "outputs": [],
   "source": [
    "from app import User, app, db\n",
    "\n",
    "with app.app_context():\n",
    "    all_users = User.query.all()\n",
    "    for user in all_users:\n",
    "        print(user.email)\n"
   ]
  },
  {
   "cell_type": "markdown",
   "id": "fb6a39bc",
   "metadata": {},
   "source": [
    "# Lab Task\n",
    "\n",
    "* Create a database for given csv file. \n",
    "* Read the given csv file and insert all data into the database. \n",
    "* Show all data on browser.\n",
    "* Get data from database and show only the records sorted by bowler ID."
   ]
  },
  {
   "cell_type": "markdown",
   "id": "cce21909",
   "metadata": {},
   "source": [
    "* Create an HTML page that shows previous database and it has buttons to add a data record and get a data record by batsman score.\n",
    "* Use a form to add a new record to database. Record should be added in sorted form.\n",
    "* Use a form to get Bowler ID and show all records with that ID."
   ]
  }
 ],
 "metadata": {
  "kernelspec": {
   "display_name": "Python 3 (ipykernel)",
   "language": "python",
   "name": "python3"
  },
  "language_info": {
   "codemirror_mode": {
    "name": "ipython",
    "version": 3
   },
   "file_extension": ".py",
   "mimetype": "text/x-python",
   "name": "python",
   "nbconvert_exporter": "python",
   "pygments_lexer": "ipython3",
   "version": "3.8.13"
  }
 },
 "nbformat": 4,
 "nbformat_minor": 5
}
