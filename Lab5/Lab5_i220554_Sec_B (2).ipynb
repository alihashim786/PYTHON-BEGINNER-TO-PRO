{
  "cells": [
    {
      "cell_type": "markdown",
      "metadata": {
        "id": "oYV4ECTSfvN5"
      },
      "source": [
        "Notebook prepared by Muhammad Sohail Abbas sohail.abbas@isb.nu.edu.pk"
      ]
    },
    {
      "cell_type": "markdown",
      "metadata": {
        "id": "gVgroN7yfo6W"
      },
      "source": [
        "# Programming for Artificial Intelligence Lab 05"
      ]
    },
    {
      "cell_type": "code",
      "execution_count": null,
      "metadata": {
        "id": "Z7j0ymmcVkAR",
        "outputId": "0feac7d6-5550-4984-ec40-d22fcadee0dd"
      },
      "outputs": [
        {
          "name": "stdout",
          "output_type": "stream",
          "text": [
            "Requirement already satisfied: pandas in c:\\users\\muhammad_sohail\\anaconda3\\lib\\site-packages (1.4.3)Note: you may need to restart the kernel to use updated packages.\n"
          ]
        },
        {
          "name": "stderr",
          "output_type": "stream",
          "text": [
            "WARNING: Ignoring invalid distribution -pencv-python (c:\\users\\muhammad_sohail\\anaconda3\\lib\\site-packages)\n",
            "WARNING: Ignoring invalid distribution -pencv-python (c:\\users\\muhammad_sohail\\anaconda3\\lib\\site-packages)\n",
            "WARNING: Ignoring invalid distribution -pencv-python (c:\\users\\muhammad_sohail\\anaconda3\\lib\\site-packages)\n",
            "WARNING: Ignoring invalid distribution -pencv-python (c:\\users\\muhammad_sohail\\anaconda3\\lib\\site-packages)\n",
            "WARNING: Ignoring invalid distribution -pencv-python (c:\\users\\muhammad_sohail\\anaconda3\\lib\\site-packages)\n",
            "WARNING: Ignoring invalid distribution -pencv-python (c:\\users\\muhammad_sohail\\anaconda3\\lib\\site-packages)\n"
          ]
        },
        {
          "name": "stdout",
          "output_type": "stream",
          "text": [
            "\n",
            "Requirement already satisfied: numpy>=1.18.5 in c:\\users\\muhammad_sohail\\anaconda3\\lib\\site-packages (from pandas) (1.22.3)\n",
            "Requirement already satisfied: python-dateutil>=2.8.1 in c:\\users\\muhammad_sohail\\anaconda3\\lib\\site-packages (from pandas) (2.8.2)\n",
            "Requirement already satisfied: pytz>=2020.1 in c:\\users\\muhammad_sohail\\anaconda3\\lib\\site-packages (from pandas) (2022.1)\n",
            "Requirement already satisfied: six>=1.5 in c:\\users\\muhammad_sohail\\anaconda3\\lib\\site-packages (from python-dateutil>=2.8.1->pandas) (1.16.0)\n"
          ]
        }
      ],
      "source": [
        "pip install pandas"
      ]
    },
    {
      "cell_type": "code",
      "execution_count": 2,
      "metadata": {
        "id": "csbZKIDZGFBf"
      },
      "outputs": [],
      "source": [
        "import pandas as pd"
      ]
    },
    {
      "cell_type": "markdown",
      "metadata": {
        "id": "toC3ZHaML1yw"
      },
      "source": [
        "# What is DataFrame?"
      ]
    },
    {
      "cell_type": "code",
      "execution_count": 3,
      "metadata": {
        "id": "FJPGds-bKX8g"
      },
      "outputs": [],
      "source": [
        "data={\"name\":[\"Bill\",\"Tom\",\"Tim\",\"John\",\"Alex\",\"Vanessa\",\"Kate\"],\n",
        "      \"score\":[90,80,85,75,95,60,65],\n",
        "      \"sport\":[\"Wrestling\",\"Football\",\"Skiing\",\"Swimming\",\"Tennis\",\n",
        "               \"Karete\",\"Surfing\"],\n",
        "      \"gender\":[\"M\",\"M\",\"M\",\"M\",\"F\",\"F\",\"F\"]}"
      ]
    },
    {
      "cell_type": "code",
      "execution_count": 4,
      "metadata": {
        "id": "ZKjitfFNKYe-"
      },
      "outputs": [],
      "source": [
        "df=pd.DataFrame(data)"
      ]
    },
    {
      "cell_type": "code",
      "execution_count": 5,
      "metadata": {
        "colab": {
          "base_uri": "https://localhost:8080/",
          "height": 206
        },
        "id": "R7apqWwbKaqW",
        "outputId": "fb96c9d6-2fbf-430d-e041-2313c48f01d6"
      },
      "outputs": [
        {
          "output_type": "execute_result",
          "data": {
            "text/plain": [
              "   name  score      sport gender\n",
              "0  Bill     90  Wrestling      M\n",
              "1   Tom     80   Football      M\n",
              "2   Tim     85     Skiing      M\n",
              "3  John     75   Swimming      M\n",
              "4  Alex     95     Tennis      F"
            ],
            "text/html": [
              "\n",
              "  <div id=\"df-bae32c1b-119d-40ac-a44f-0aae7474e46e\" class=\"colab-df-container\">\n",
              "    <div>\n",
              "<style scoped>\n",
              "    .dataframe tbody tr th:only-of-type {\n",
              "        vertical-align: middle;\n",
              "    }\n",
              "\n",
              "    .dataframe tbody tr th {\n",
              "        vertical-align: top;\n",
              "    }\n",
              "\n",
              "    .dataframe thead th {\n",
              "        text-align: right;\n",
              "    }\n",
              "</style>\n",
              "<table border=\"1\" class=\"dataframe\">\n",
              "  <thead>\n",
              "    <tr style=\"text-align: right;\">\n",
              "      <th></th>\n",
              "      <th>name</th>\n",
              "      <th>score</th>\n",
              "      <th>sport</th>\n",
              "      <th>gender</th>\n",
              "    </tr>\n",
              "  </thead>\n",
              "  <tbody>\n",
              "    <tr>\n",
              "      <th>0</th>\n",
              "      <td>Bill</td>\n",
              "      <td>90</td>\n",
              "      <td>Wrestling</td>\n",
              "      <td>M</td>\n",
              "    </tr>\n",
              "    <tr>\n",
              "      <th>1</th>\n",
              "      <td>Tom</td>\n",
              "      <td>80</td>\n",
              "      <td>Football</td>\n",
              "      <td>M</td>\n",
              "    </tr>\n",
              "    <tr>\n",
              "      <th>2</th>\n",
              "      <td>Tim</td>\n",
              "      <td>85</td>\n",
              "      <td>Skiing</td>\n",
              "      <td>M</td>\n",
              "    </tr>\n",
              "    <tr>\n",
              "      <th>3</th>\n",
              "      <td>John</td>\n",
              "      <td>75</td>\n",
              "      <td>Swimming</td>\n",
              "      <td>M</td>\n",
              "    </tr>\n",
              "    <tr>\n",
              "      <th>4</th>\n",
              "      <td>Alex</td>\n",
              "      <td>95</td>\n",
              "      <td>Tennis</td>\n",
              "      <td>F</td>\n",
              "    </tr>\n",
              "  </tbody>\n",
              "</table>\n",
              "</div>\n",
              "    <div class=\"colab-df-buttons\">\n",
              "\n",
              "  <div class=\"colab-df-container\">\n",
              "    <button class=\"colab-df-convert\" onclick=\"convertToInteractive('df-bae32c1b-119d-40ac-a44f-0aae7474e46e')\"\n",
              "            title=\"Convert this dataframe to an interactive table.\"\n",
              "            style=\"display:none;\">\n",
              "\n",
              "  <svg xmlns=\"http://www.w3.org/2000/svg\" height=\"24px\" viewBox=\"0 -960 960 960\">\n",
              "    <path d=\"M120-120v-720h720v720H120Zm60-500h600v-160H180v160Zm220 220h160v-160H400v160Zm0 220h160v-160H400v160ZM180-400h160v-160H180v160Zm440 0h160v-160H620v160ZM180-180h160v-160H180v160Zm440 0h160v-160H620v160Z\"/>\n",
              "  </svg>\n",
              "    </button>\n",
              "\n",
              "  <style>\n",
              "    .colab-df-container {\n",
              "      display:flex;\n",
              "      gap: 12px;\n",
              "    }\n",
              "\n",
              "    .colab-df-convert {\n",
              "      background-color: #E8F0FE;\n",
              "      border: none;\n",
              "      border-radius: 50%;\n",
              "      cursor: pointer;\n",
              "      display: none;\n",
              "      fill: #1967D2;\n",
              "      height: 32px;\n",
              "      padding: 0 0 0 0;\n",
              "      width: 32px;\n",
              "    }\n",
              "\n",
              "    .colab-df-convert:hover {\n",
              "      background-color: #E2EBFA;\n",
              "      box-shadow: 0px 1px 2px rgba(60, 64, 67, 0.3), 0px 1px 3px 1px rgba(60, 64, 67, 0.15);\n",
              "      fill: #174EA6;\n",
              "    }\n",
              "\n",
              "    .colab-df-buttons div {\n",
              "      margin-bottom: 4px;\n",
              "    }\n",
              "\n",
              "    [theme=dark] .colab-df-convert {\n",
              "      background-color: #3B4455;\n",
              "      fill: #D2E3FC;\n",
              "    }\n",
              "\n",
              "    [theme=dark] .colab-df-convert:hover {\n",
              "      background-color: #434B5C;\n",
              "      box-shadow: 0px 1px 3px 1px rgba(0, 0, 0, 0.15);\n",
              "      filter: drop-shadow(0px 1px 2px rgba(0, 0, 0, 0.3));\n",
              "      fill: #FFFFFF;\n",
              "    }\n",
              "  </style>\n",
              "\n",
              "    <script>\n",
              "      const buttonEl =\n",
              "        document.querySelector('#df-bae32c1b-119d-40ac-a44f-0aae7474e46e button.colab-df-convert');\n",
              "      buttonEl.style.display =\n",
              "        google.colab.kernel.accessAllowed ? 'block' : 'none';\n",
              "\n",
              "      async function convertToInteractive(key) {\n",
              "        const element = document.querySelector('#df-bae32c1b-119d-40ac-a44f-0aae7474e46e');\n",
              "        const dataTable =\n",
              "          await google.colab.kernel.invokeFunction('convertToInteractive',\n",
              "                                                    [key], {});\n",
              "        if (!dataTable) return;\n",
              "\n",
              "        const docLinkHtml = 'Like what you see? Visit the ' +\n",
              "          '<a target=\"_blank\" href=https://colab.research.google.com/notebooks/data_table.ipynb>data table notebook</a>'\n",
              "          + ' to learn more about interactive tables.';\n",
              "        element.innerHTML = '';\n",
              "        dataTable['output_type'] = 'display_data';\n",
              "        await google.colab.output.renderOutput(dataTable, element);\n",
              "        const docLink = document.createElement('div');\n",
              "        docLink.innerHTML = docLinkHtml;\n",
              "        element.appendChild(docLink);\n",
              "      }\n",
              "    </script>\n",
              "  </div>\n",
              "\n",
              "\n",
              "<div id=\"df-26b4bd2c-d683-47c1-9809-51e997da3f32\">\n",
              "  <button class=\"colab-df-quickchart\" onclick=\"quickchart('df-26b4bd2c-d683-47c1-9809-51e997da3f32')\"\n",
              "            title=\"Suggest charts.\"\n",
              "            style=\"display:none;\">\n",
              "\n",
              "<svg xmlns=\"http://www.w3.org/2000/svg\" height=\"24px\"viewBox=\"0 0 24 24\"\n",
              "     width=\"24px\">\n",
              "    <g>\n",
              "        <path d=\"M19 3H5c-1.1 0-2 .9-2 2v14c0 1.1.9 2 2 2h14c1.1 0 2-.9 2-2V5c0-1.1-.9-2-2-2zM9 17H7v-7h2v7zm4 0h-2V7h2v10zm4 0h-2v-4h2v4z\"/>\n",
              "    </g>\n",
              "</svg>\n",
              "  </button>\n",
              "\n",
              "<style>\n",
              "  .colab-df-quickchart {\n",
              "      --bg-color: #E8F0FE;\n",
              "      --fill-color: #1967D2;\n",
              "      --hover-bg-color: #E2EBFA;\n",
              "      --hover-fill-color: #174EA6;\n",
              "      --disabled-fill-color: #AAA;\n",
              "      --disabled-bg-color: #DDD;\n",
              "  }\n",
              "\n",
              "  [theme=dark] .colab-df-quickchart {\n",
              "      --bg-color: #3B4455;\n",
              "      --fill-color: #D2E3FC;\n",
              "      --hover-bg-color: #434B5C;\n",
              "      --hover-fill-color: #FFFFFF;\n",
              "      --disabled-bg-color: #3B4455;\n",
              "      --disabled-fill-color: #666;\n",
              "  }\n",
              "\n",
              "  .colab-df-quickchart {\n",
              "    background-color: var(--bg-color);\n",
              "    border: none;\n",
              "    border-radius: 50%;\n",
              "    cursor: pointer;\n",
              "    display: none;\n",
              "    fill: var(--fill-color);\n",
              "    height: 32px;\n",
              "    padding: 0;\n",
              "    width: 32px;\n",
              "  }\n",
              "\n",
              "  .colab-df-quickchart:hover {\n",
              "    background-color: var(--hover-bg-color);\n",
              "    box-shadow: 0 1px 2px rgba(60, 64, 67, 0.3), 0 1px 3px 1px rgba(60, 64, 67, 0.15);\n",
              "    fill: var(--button-hover-fill-color);\n",
              "  }\n",
              "\n",
              "  .colab-df-quickchart-complete:disabled,\n",
              "  .colab-df-quickchart-complete:disabled:hover {\n",
              "    background-color: var(--disabled-bg-color);\n",
              "    fill: var(--disabled-fill-color);\n",
              "    box-shadow: none;\n",
              "  }\n",
              "\n",
              "  .colab-df-spinner {\n",
              "    border: 2px solid var(--fill-color);\n",
              "    border-color: transparent;\n",
              "    border-bottom-color: var(--fill-color);\n",
              "    animation:\n",
              "      spin 1s steps(1) infinite;\n",
              "  }\n",
              "\n",
              "  @keyframes spin {\n",
              "    0% {\n",
              "      border-color: transparent;\n",
              "      border-bottom-color: var(--fill-color);\n",
              "      border-left-color: var(--fill-color);\n",
              "    }\n",
              "    20% {\n",
              "      border-color: transparent;\n",
              "      border-left-color: var(--fill-color);\n",
              "      border-top-color: var(--fill-color);\n",
              "    }\n",
              "    30% {\n",
              "      border-color: transparent;\n",
              "      border-left-color: var(--fill-color);\n",
              "      border-top-color: var(--fill-color);\n",
              "      border-right-color: var(--fill-color);\n",
              "    }\n",
              "    40% {\n",
              "      border-color: transparent;\n",
              "      border-right-color: var(--fill-color);\n",
              "      border-top-color: var(--fill-color);\n",
              "    }\n",
              "    60% {\n",
              "      border-color: transparent;\n",
              "      border-right-color: var(--fill-color);\n",
              "    }\n",
              "    80% {\n",
              "      border-color: transparent;\n",
              "      border-right-color: var(--fill-color);\n",
              "      border-bottom-color: var(--fill-color);\n",
              "    }\n",
              "    90% {\n",
              "      border-color: transparent;\n",
              "      border-bottom-color: var(--fill-color);\n",
              "    }\n",
              "  }\n",
              "</style>\n",
              "\n",
              "  <script>\n",
              "    async function quickchart(key) {\n",
              "      const quickchartButtonEl =\n",
              "        document.querySelector('#' + key + ' button');\n",
              "      quickchartButtonEl.disabled = true;  // To prevent multiple clicks.\n",
              "      quickchartButtonEl.classList.add('colab-df-spinner');\n",
              "      try {\n",
              "        const charts = await google.colab.kernel.invokeFunction(\n",
              "            'suggestCharts', [key], {});\n",
              "      } catch (error) {\n",
              "        console.error('Error during call to suggestCharts:', error);\n",
              "      }\n",
              "      quickchartButtonEl.classList.remove('colab-df-spinner');\n",
              "      quickchartButtonEl.classList.add('colab-df-quickchart-complete');\n",
              "    }\n",
              "    (() => {\n",
              "      let quickchartButtonEl =\n",
              "        document.querySelector('#df-26b4bd2c-d683-47c1-9809-51e997da3f32 button');\n",
              "      quickchartButtonEl.style.display =\n",
              "        google.colab.kernel.accessAllowed ? 'block' : 'none';\n",
              "    })();\n",
              "  </script>\n",
              "</div>\n",
              "    </div>\n",
              "  </div>\n"
            ]
          },
          "metadata": {},
          "execution_count": 5
        }
      ],
      "source": [
        "df.head()"
      ]
    },
    {
      "cell_type": "code",
      "execution_count": 6,
      "metadata": {
        "colab": {
          "base_uri": "https://localhost:8080/"
        },
        "id": "yBCDXLd9eZ-d",
        "outputId": "032230ac-6e84-4680-aa05-37bda04b1d94"
      },
      "outputs": [
        {
          "output_type": "stream",
          "name": "stdout",
          "text": [
            "(7, 4)\n",
            "7\n",
            "4\n"
          ]
        }
      ],
      "source": [
        "print(df.shape)\n",
        "print(df.shape[0])\n",
        "print(df.shape[1])"
      ]
    },
    {
      "cell_type": "code",
      "execution_count": 7,
      "metadata": {
        "colab": {
          "base_uri": "https://localhost:8080/",
          "height": 206
        },
        "id": "2iOxu-aCKcOG",
        "outputId": "3f527696-d4f9-424b-8826-72571e1a9b39"
      },
      "outputs": [
        {
          "output_type": "execute_result",
          "data": {
            "text/plain": [
              "      name  score     sport gender\n",
              "2      Tim     85    Skiing      M\n",
              "3     John     75  Swimming      M\n",
              "4     Alex     95    Tennis      F\n",
              "5  Vanessa     60    Karete      F\n",
              "6     Kate     65   Surfing      F"
            ],
            "text/html": [
              "\n",
              "  <div id=\"df-37e92cb8-0923-4b69-b546-7c89dadab162\" class=\"colab-df-container\">\n",
              "    <div>\n",
              "<style scoped>\n",
              "    .dataframe tbody tr th:only-of-type {\n",
              "        vertical-align: middle;\n",
              "    }\n",
              "\n",
              "    .dataframe tbody tr th {\n",
              "        vertical-align: top;\n",
              "    }\n",
              "\n",
              "    .dataframe thead th {\n",
              "        text-align: right;\n",
              "    }\n",
              "</style>\n",
              "<table border=\"1\" class=\"dataframe\">\n",
              "  <thead>\n",
              "    <tr style=\"text-align: right;\">\n",
              "      <th></th>\n",
              "      <th>name</th>\n",
              "      <th>score</th>\n",
              "      <th>sport</th>\n",
              "      <th>gender</th>\n",
              "    </tr>\n",
              "  </thead>\n",
              "  <tbody>\n",
              "    <tr>\n",
              "      <th>2</th>\n",
              "      <td>Tim</td>\n",
              "      <td>85</td>\n",
              "      <td>Skiing</td>\n",
              "      <td>M</td>\n",
              "    </tr>\n",
              "    <tr>\n",
              "      <th>3</th>\n",
              "      <td>John</td>\n",
              "      <td>75</td>\n",
              "      <td>Swimming</td>\n",
              "      <td>M</td>\n",
              "    </tr>\n",
              "    <tr>\n",
              "      <th>4</th>\n",
              "      <td>Alex</td>\n",
              "      <td>95</td>\n",
              "      <td>Tennis</td>\n",
              "      <td>F</td>\n",
              "    </tr>\n",
              "    <tr>\n",
              "      <th>5</th>\n",
              "      <td>Vanessa</td>\n",
              "      <td>60</td>\n",
              "      <td>Karete</td>\n",
              "      <td>F</td>\n",
              "    </tr>\n",
              "    <tr>\n",
              "      <th>6</th>\n",
              "      <td>Kate</td>\n",
              "      <td>65</td>\n",
              "      <td>Surfing</td>\n",
              "      <td>F</td>\n",
              "    </tr>\n",
              "  </tbody>\n",
              "</table>\n",
              "</div>\n",
              "    <div class=\"colab-df-buttons\">\n",
              "\n",
              "  <div class=\"colab-df-container\">\n",
              "    <button class=\"colab-df-convert\" onclick=\"convertToInteractive('df-37e92cb8-0923-4b69-b546-7c89dadab162')\"\n",
              "            title=\"Convert this dataframe to an interactive table.\"\n",
              "            style=\"display:none;\">\n",
              "\n",
              "  <svg xmlns=\"http://www.w3.org/2000/svg\" height=\"24px\" viewBox=\"0 -960 960 960\">\n",
              "    <path d=\"M120-120v-720h720v720H120Zm60-500h600v-160H180v160Zm220 220h160v-160H400v160Zm0 220h160v-160H400v160ZM180-400h160v-160H180v160Zm440 0h160v-160H620v160ZM180-180h160v-160H180v160Zm440 0h160v-160H620v160Z\"/>\n",
              "  </svg>\n",
              "    </button>\n",
              "\n",
              "  <style>\n",
              "    .colab-df-container {\n",
              "      display:flex;\n",
              "      gap: 12px;\n",
              "    }\n",
              "\n",
              "    .colab-df-convert {\n",
              "      background-color: #E8F0FE;\n",
              "      border: none;\n",
              "      border-radius: 50%;\n",
              "      cursor: pointer;\n",
              "      display: none;\n",
              "      fill: #1967D2;\n",
              "      height: 32px;\n",
              "      padding: 0 0 0 0;\n",
              "      width: 32px;\n",
              "    }\n",
              "\n",
              "    .colab-df-convert:hover {\n",
              "      background-color: #E2EBFA;\n",
              "      box-shadow: 0px 1px 2px rgba(60, 64, 67, 0.3), 0px 1px 3px 1px rgba(60, 64, 67, 0.15);\n",
              "      fill: #174EA6;\n",
              "    }\n",
              "\n",
              "    .colab-df-buttons div {\n",
              "      margin-bottom: 4px;\n",
              "    }\n",
              "\n",
              "    [theme=dark] .colab-df-convert {\n",
              "      background-color: #3B4455;\n",
              "      fill: #D2E3FC;\n",
              "    }\n",
              "\n",
              "    [theme=dark] .colab-df-convert:hover {\n",
              "      background-color: #434B5C;\n",
              "      box-shadow: 0px 1px 3px 1px rgba(0, 0, 0, 0.15);\n",
              "      filter: drop-shadow(0px 1px 2px rgba(0, 0, 0, 0.3));\n",
              "      fill: #FFFFFF;\n",
              "    }\n",
              "  </style>\n",
              "\n",
              "    <script>\n",
              "      const buttonEl =\n",
              "        document.querySelector('#df-37e92cb8-0923-4b69-b546-7c89dadab162 button.colab-df-convert');\n",
              "      buttonEl.style.display =\n",
              "        google.colab.kernel.accessAllowed ? 'block' : 'none';\n",
              "\n",
              "      async function convertToInteractive(key) {\n",
              "        const element = document.querySelector('#df-37e92cb8-0923-4b69-b546-7c89dadab162');\n",
              "        const dataTable =\n",
              "          await google.colab.kernel.invokeFunction('convertToInteractive',\n",
              "                                                    [key], {});\n",
              "        if (!dataTable) return;\n",
              "\n",
              "        const docLinkHtml = 'Like what you see? Visit the ' +\n",
              "          '<a target=\"_blank\" href=https://colab.research.google.com/notebooks/data_table.ipynb>data table notebook</a>'\n",
              "          + ' to learn more about interactive tables.';\n",
              "        element.innerHTML = '';\n",
              "        dataTable['output_type'] = 'display_data';\n",
              "        await google.colab.output.renderOutput(dataTable, element);\n",
              "        const docLink = document.createElement('div');\n",
              "        docLink.innerHTML = docLinkHtml;\n",
              "        element.appendChild(docLink);\n",
              "      }\n",
              "    </script>\n",
              "  </div>\n",
              "\n",
              "\n",
              "<div id=\"df-e27282b2-e982-4cc3-b8fd-9992c1818b2b\">\n",
              "  <button class=\"colab-df-quickchart\" onclick=\"quickchart('df-e27282b2-e982-4cc3-b8fd-9992c1818b2b')\"\n",
              "            title=\"Suggest charts.\"\n",
              "            style=\"display:none;\">\n",
              "\n",
              "<svg xmlns=\"http://www.w3.org/2000/svg\" height=\"24px\"viewBox=\"0 0 24 24\"\n",
              "     width=\"24px\">\n",
              "    <g>\n",
              "        <path d=\"M19 3H5c-1.1 0-2 .9-2 2v14c0 1.1.9 2 2 2h14c1.1 0 2-.9 2-2V5c0-1.1-.9-2-2-2zM9 17H7v-7h2v7zm4 0h-2V7h2v10zm4 0h-2v-4h2v4z\"/>\n",
              "    </g>\n",
              "</svg>\n",
              "  </button>\n",
              "\n",
              "<style>\n",
              "  .colab-df-quickchart {\n",
              "      --bg-color: #E8F0FE;\n",
              "      --fill-color: #1967D2;\n",
              "      --hover-bg-color: #E2EBFA;\n",
              "      --hover-fill-color: #174EA6;\n",
              "      --disabled-fill-color: #AAA;\n",
              "      --disabled-bg-color: #DDD;\n",
              "  }\n",
              "\n",
              "  [theme=dark] .colab-df-quickchart {\n",
              "      --bg-color: #3B4455;\n",
              "      --fill-color: #D2E3FC;\n",
              "      --hover-bg-color: #434B5C;\n",
              "      --hover-fill-color: #FFFFFF;\n",
              "      --disabled-bg-color: #3B4455;\n",
              "      --disabled-fill-color: #666;\n",
              "  }\n",
              "\n",
              "  .colab-df-quickchart {\n",
              "    background-color: var(--bg-color);\n",
              "    border: none;\n",
              "    border-radius: 50%;\n",
              "    cursor: pointer;\n",
              "    display: none;\n",
              "    fill: var(--fill-color);\n",
              "    height: 32px;\n",
              "    padding: 0;\n",
              "    width: 32px;\n",
              "  }\n",
              "\n",
              "  .colab-df-quickchart:hover {\n",
              "    background-color: var(--hover-bg-color);\n",
              "    box-shadow: 0 1px 2px rgba(60, 64, 67, 0.3), 0 1px 3px 1px rgba(60, 64, 67, 0.15);\n",
              "    fill: var(--button-hover-fill-color);\n",
              "  }\n",
              "\n",
              "  .colab-df-quickchart-complete:disabled,\n",
              "  .colab-df-quickchart-complete:disabled:hover {\n",
              "    background-color: var(--disabled-bg-color);\n",
              "    fill: var(--disabled-fill-color);\n",
              "    box-shadow: none;\n",
              "  }\n",
              "\n",
              "  .colab-df-spinner {\n",
              "    border: 2px solid var(--fill-color);\n",
              "    border-color: transparent;\n",
              "    border-bottom-color: var(--fill-color);\n",
              "    animation:\n",
              "      spin 1s steps(1) infinite;\n",
              "  }\n",
              "\n",
              "  @keyframes spin {\n",
              "    0% {\n",
              "      border-color: transparent;\n",
              "      border-bottom-color: var(--fill-color);\n",
              "      border-left-color: var(--fill-color);\n",
              "    }\n",
              "    20% {\n",
              "      border-color: transparent;\n",
              "      border-left-color: var(--fill-color);\n",
              "      border-top-color: var(--fill-color);\n",
              "    }\n",
              "    30% {\n",
              "      border-color: transparent;\n",
              "      border-left-color: var(--fill-color);\n",
              "      border-top-color: var(--fill-color);\n",
              "      border-right-color: var(--fill-color);\n",
              "    }\n",
              "    40% {\n",
              "      border-color: transparent;\n",
              "      border-right-color: var(--fill-color);\n",
              "      border-top-color: var(--fill-color);\n",
              "    }\n",
              "    60% {\n",
              "      border-color: transparent;\n",
              "      border-right-color: var(--fill-color);\n",
              "    }\n",
              "    80% {\n",
              "      border-color: transparent;\n",
              "      border-right-color: var(--fill-color);\n",
              "      border-bottom-color: var(--fill-color);\n",
              "    }\n",
              "    90% {\n",
              "      border-color: transparent;\n",
              "      border-bottom-color: var(--fill-color);\n",
              "    }\n",
              "  }\n",
              "</style>\n",
              "\n",
              "  <script>\n",
              "    async function quickchart(key) {\n",
              "      const quickchartButtonEl =\n",
              "        document.querySelector('#' + key + ' button');\n",
              "      quickchartButtonEl.disabled = true;  // To prevent multiple clicks.\n",
              "      quickchartButtonEl.classList.add('colab-df-spinner');\n",
              "      try {\n",
              "        const charts = await google.colab.kernel.invokeFunction(\n",
              "            'suggestCharts', [key], {});\n",
              "      } catch (error) {\n",
              "        console.error('Error during call to suggestCharts:', error);\n",
              "      }\n",
              "      quickchartButtonEl.classList.remove('colab-df-spinner');\n",
              "      quickchartButtonEl.classList.add('colab-df-quickchart-complete');\n",
              "    }\n",
              "    (() => {\n",
              "      let quickchartButtonEl =\n",
              "        document.querySelector('#df-e27282b2-e982-4cc3-b8fd-9992c1818b2b button');\n",
              "      quickchartButtonEl.style.display =\n",
              "        google.colab.kernel.accessAllowed ? 'block' : 'none';\n",
              "    })();\n",
              "  </script>\n",
              "</div>\n",
              "    </div>\n",
              "  </div>\n"
            ]
          },
          "metadata": {},
          "execution_count": 7
        }
      ],
      "source": [
        "df.tail()"
      ]
    },
    {
      "cell_type": "markdown",
      "metadata": {
        "id": "0ub1HzsqVkAU"
      },
      "source": [
        "Change column positions while creating dataframe"
      ]
    },
    {
      "cell_type": "code",
      "execution_count": null,
      "metadata": {
        "colab": {
          "base_uri": "https://localhost:8080/",
          "height": 269
        },
        "id": "gFp3A7D3KpEu",
        "outputId": "cb33a835-4079-485e-fd19-9ad365e1782a"
      },
      "outputs": [
        {
          "data": {
            "text/html": [
              "<div>\n",
              "<style scoped>\n",
              "    .dataframe tbody tr th:only-of-type {\n",
              "        vertical-align: middle;\n",
              "    }\n",
              "\n",
              "    .dataframe tbody tr th {\n",
              "        vertical-align: top;\n",
              "    }\n",
              "\n",
              "    .dataframe thead th {\n",
              "        text-align: right;\n",
              "    }\n",
              "</style>\n",
              "<table border=\"1\" class=\"dataframe\">\n",
              "  <thead>\n",
              "    <tr style=\"text-align: right;\">\n",
              "      <th></th>\n",
              "      <th>name</th>\n",
              "      <th>sport</th>\n",
              "      <th>gender</th>\n",
              "      <th>score</th>\n",
              "      <th>age</th>\n",
              "    </tr>\n",
              "  </thead>\n",
              "  <tbody>\n",
              "    <tr>\n",
              "      <th>0</th>\n",
              "      <td>Bill</td>\n",
              "      <td>Wrestling</td>\n",
              "      <td>M</td>\n",
              "      <td>90</td>\n",
              "      <td>NaN</td>\n",
              "    </tr>\n",
              "    <tr>\n",
              "      <th>1</th>\n",
              "      <td>Tom</td>\n",
              "      <td>Football</td>\n",
              "      <td>M</td>\n",
              "      <td>80</td>\n",
              "      <td>NaN</td>\n",
              "    </tr>\n",
              "    <tr>\n",
              "      <th>2</th>\n",
              "      <td>Tim</td>\n",
              "      <td>Skiing</td>\n",
              "      <td>M</td>\n",
              "      <td>85</td>\n",
              "      <td>NaN</td>\n",
              "    </tr>\n",
              "    <tr>\n",
              "      <th>3</th>\n",
              "      <td>John</td>\n",
              "      <td>Swimming</td>\n",
              "      <td>M</td>\n",
              "      <td>75</td>\n",
              "      <td>NaN</td>\n",
              "    </tr>\n",
              "    <tr>\n",
              "      <th>4</th>\n",
              "      <td>Alex</td>\n",
              "      <td>Tennis</td>\n",
              "      <td>F</td>\n",
              "      <td>95</td>\n",
              "      <td>NaN</td>\n",
              "    </tr>\n",
              "    <tr>\n",
              "      <th>5</th>\n",
              "      <td>Vanessa</td>\n",
              "      <td>Karete</td>\n",
              "      <td>F</td>\n",
              "      <td>60</td>\n",
              "      <td>NaN</td>\n",
              "    </tr>\n",
              "    <tr>\n",
              "      <th>6</th>\n",
              "      <td>Kate</td>\n",
              "      <td>Surfing</td>\n",
              "      <td>F</td>\n",
              "      <td>65</td>\n",
              "      <td>NaN</td>\n",
              "    </tr>\n",
              "  </tbody>\n",
              "</table>\n",
              "</div>"
            ],
            "text/plain": [
              "      name      sport gender  score  age\n",
              "0     Bill  Wrestling      M     90  NaN\n",
              "1      Tom   Football      M     80  NaN\n",
              "2      Tim     Skiing      M     85  NaN\n",
              "3     John   Swimming      M     75  NaN\n",
              "4     Alex     Tennis      F     95  NaN\n",
              "5  Vanessa     Karete      F     60  NaN\n",
              "6     Kate    Surfing      F     65  NaN"
            ]
          },
          "execution_count": 8,
          "metadata": {},
          "output_type": "execute_result"
        }
      ],
      "source": [
        "df=pd.DataFrame(data,columns=[\"name\", \"sport\", \"gender\", \"score\", \"age\"])\n",
        "df"
      ]
    },
    {
      "cell_type": "markdown",
      "metadata": {
        "id": "txKJZzaQVkAV"
      },
      "source": [
        "Specify indexes"
      ]
    },
    {
      "cell_type": "code",
      "execution_count": null,
      "metadata": {
        "colab": {
          "base_uri": "https://localhost:8080/",
          "height": 269
        },
        "id": "EraWTYdTKs-V",
        "outputId": "8b685629-1c1a-4f32-9c4d-6a5c0d6df5df"
      },
      "outputs": [
        {
          "data": {
            "text/html": [
              "<div>\n",
              "<style scoped>\n",
              "    .dataframe tbody tr th:only-of-type {\n",
              "        vertical-align: middle;\n",
              "    }\n",
              "\n",
              "    .dataframe tbody tr th {\n",
              "        vertical-align: top;\n",
              "    }\n",
              "\n",
              "    .dataframe thead th {\n",
              "        text-align: right;\n",
              "    }\n",
              "</style>\n",
              "<table border=\"1\" class=\"dataframe\">\n",
              "  <thead>\n",
              "    <tr style=\"text-align: right;\">\n",
              "      <th></th>\n",
              "      <th>name</th>\n",
              "      <th>sport</th>\n",
              "      <th>gender</th>\n",
              "      <th>score</th>\n",
              "      <th>age</th>\n",
              "    </tr>\n",
              "  </thead>\n",
              "  <tbody>\n",
              "    <tr>\n",
              "      <th>one</th>\n",
              "      <td>Bill</td>\n",
              "      <td>Wrestling</td>\n",
              "      <td>M</td>\n",
              "      <td>90</td>\n",
              "      <td>NaN</td>\n",
              "    </tr>\n",
              "    <tr>\n",
              "      <th>two</th>\n",
              "      <td>Tom</td>\n",
              "      <td>Football</td>\n",
              "      <td>M</td>\n",
              "      <td>80</td>\n",
              "      <td>NaN</td>\n",
              "    </tr>\n",
              "    <tr>\n",
              "      <th>three</th>\n",
              "      <td>Tim</td>\n",
              "      <td>Skiing</td>\n",
              "      <td>M</td>\n",
              "      <td>85</td>\n",
              "      <td>NaN</td>\n",
              "    </tr>\n",
              "    <tr>\n",
              "      <th>four</th>\n",
              "      <td>John</td>\n",
              "      <td>Swimming</td>\n",
              "      <td>M</td>\n",
              "      <td>75</td>\n",
              "      <td>NaN</td>\n",
              "    </tr>\n",
              "    <tr>\n",
              "      <th>five</th>\n",
              "      <td>Alex</td>\n",
              "      <td>Tennis</td>\n",
              "      <td>F</td>\n",
              "      <td>95</td>\n",
              "      <td>NaN</td>\n",
              "    </tr>\n",
              "    <tr>\n",
              "      <th>six</th>\n",
              "      <td>Vanessa</td>\n",
              "      <td>Karete</td>\n",
              "      <td>F</td>\n",
              "      <td>60</td>\n",
              "      <td>NaN</td>\n",
              "    </tr>\n",
              "    <tr>\n",
              "      <th>seven</th>\n",
              "      <td>Kate</td>\n",
              "      <td>Surfing</td>\n",
              "      <td>F</td>\n",
              "      <td>65</td>\n",
              "      <td>NaN</td>\n",
              "    </tr>\n",
              "  </tbody>\n",
              "</table>\n",
              "</div>"
            ],
            "text/plain": [
              "          name      sport gender  score  age\n",
              "one       Bill  Wrestling      M     90  NaN\n",
              "two        Tom   Football      M     80  NaN\n",
              "three      Tim     Skiing      M     85  NaN\n",
              "four      John   Swimming      M     75  NaN\n",
              "five      Alex     Tennis      F     95  NaN\n",
              "six    Vanessa     Karete      F     60  NaN\n",
              "seven     Kate    Surfing      F     65  NaN"
            ]
          },
          "execution_count": 10,
          "metadata": {},
          "output_type": "execute_result"
        }
      ],
      "source": [
        "df=pd.DataFrame(data,columns=[\"name\", \"sport\", \"gender\", \"score\", \"age\"],\n",
        "                index=[\"one\",\"two\",\"three\",\"four\",\"five\",\"six\",\"seven\"])\n",
        "df"
      ]
    },
    {
      "cell_type": "code",
      "execution_count": null,
      "metadata": {
        "colab": {
          "base_uri": "https://localhost:8080/"
        },
        "id": "74fgMi7QKz41",
        "outputId": "57c429f1-cd73-4104-e12d-52adced54c42"
      },
      "outputs": [
        {
          "data": {
            "text/plain": [
              "one      90\n",
              "two      80\n",
              "three    85\n",
              "four     75\n",
              "five     95\n",
              "six      60\n",
              "seven    65\n",
              "Name: score, dtype: int64"
            ]
          },
          "execution_count": 19,
          "metadata": {},
          "output_type": "execute_result"
        }
      ],
      "source": [
        "df[\"score\"]"
      ]
    },
    {
      "cell_type": "code",
      "execution_count": null,
      "metadata": {
        "colab": {
          "base_uri": "https://localhost:8080/",
          "height": 81
        },
        "id": "YmEKkdk0K8K-",
        "outputId": "e223d34b-4890-4756-c430-77d12043d5d9"
      },
      "outputs": [
        {
          "data": {
            "text/html": [
              "<div>\n",
              "<style scoped>\n",
              "    .dataframe tbody tr th:only-of-type {\n",
              "        vertical-align: middle;\n",
              "    }\n",
              "\n",
              "    .dataframe tbody tr th {\n",
              "        vertical-align: top;\n",
              "    }\n",
              "\n",
              "    .dataframe thead th {\n",
              "        text-align: right;\n",
              "    }\n",
              "</style>\n",
              "<table border=\"1\" class=\"dataframe\">\n",
              "  <thead>\n",
              "    <tr style=\"text-align: right;\">\n",
              "      <th></th>\n",
              "      <th>name</th>\n",
              "      <th>sport</th>\n",
              "      <th>gender</th>\n",
              "      <th>score</th>\n",
              "      <th>age</th>\n",
              "    </tr>\n",
              "  </thead>\n",
              "  <tbody>\n",
              "    <tr>\n",
              "      <th>one</th>\n",
              "      <td>Bill</td>\n",
              "      <td>Wrestling</td>\n",
              "      <td>M</td>\n",
              "      <td>90</td>\n",
              "      <td>NaN</td>\n",
              "    </tr>\n",
              "  </tbody>\n",
              "</table>\n",
              "</div>"
            ],
            "text/plain": [
              "     name      sport gender  score  age\n",
              "one  Bill  Wrestling      M     90  NaN"
            ]
          },
          "execution_count": 12,
          "metadata": {},
          "output_type": "execute_result"
        }
      ],
      "source": [
        "df.loc[[\"one\"]]"
      ]
    },
    {
      "cell_type": "code",
      "execution_count": null,
      "metadata": {
        "colab": {
          "base_uri": "https://localhost:8080/",
          "height": 112
        },
        "id": "BFrxaRnIK_8m",
        "outputId": "7c0e28c9-d9ea-4262-9e8b-b39400613f49"
      },
      "outputs": [
        {
          "data": {
            "text/html": [
              "<div>\n",
              "<style scoped>\n",
              "    .dataframe tbody tr th:only-of-type {\n",
              "        vertical-align: middle;\n",
              "    }\n",
              "\n",
              "    .dataframe tbody tr th {\n",
              "        vertical-align: top;\n",
              "    }\n",
              "\n",
              "    .dataframe thead th {\n",
              "        text-align: right;\n",
              "    }\n",
              "</style>\n",
              "<table border=\"1\" class=\"dataframe\">\n",
              "  <thead>\n",
              "    <tr style=\"text-align: right;\">\n",
              "      <th></th>\n",
              "      <th>name</th>\n",
              "      <th>sport</th>\n",
              "      <th>gender</th>\n",
              "      <th>score</th>\n",
              "      <th>age</th>\n",
              "    </tr>\n",
              "  </thead>\n",
              "  <tbody>\n",
              "    <tr>\n",
              "      <th>one</th>\n",
              "      <td>Bill</td>\n",
              "      <td>Wrestling</td>\n",
              "      <td>M</td>\n",
              "      <td>90</td>\n",
              "      <td>NaN</td>\n",
              "    </tr>\n",
              "    <tr>\n",
              "      <th>two</th>\n",
              "      <td>Tom</td>\n",
              "      <td>Football</td>\n",
              "      <td>M</td>\n",
              "      <td>80</td>\n",
              "      <td>NaN</td>\n",
              "    </tr>\n",
              "  </tbody>\n",
              "</table>\n",
              "</div>"
            ],
            "text/plain": [
              "     name      sport gender  score  age\n",
              "one  Bill  Wrestling      M     90  NaN\n",
              "two   Tom   Football      M     80  NaN"
            ]
          },
          "execution_count": 20,
          "metadata": {},
          "output_type": "execute_result"
        }
      ],
      "source": [
        "df.loc[[\"one\",\"two\"]]"
      ]
    },
    {
      "cell_type": "code",
      "execution_count": null,
      "metadata": {
        "colab": {
          "base_uri": "https://localhost:8080/",
          "height": 269
        },
        "id": "iRWEmdFqLLJm",
        "outputId": "58010ca7-f274-4d2d-dbf6-062aea726890"
      },
      "outputs": [
        {
          "data": {
            "text/html": [
              "<div>\n",
              "<style scoped>\n",
              "    .dataframe tbody tr th:only-of-type {\n",
              "        vertical-align: middle;\n",
              "    }\n",
              "\n",
              "    .dataframe tbody tr th {\n",
              "        vertical-align: top;\n",
              "    }\n",
              "\n",
              "    .dataframe thead th {\n",
              "        text-align: right;\n",
              "    }\n",
              "</style>\n",
              "<table border=\"1\" class=\"dataframe\">\n",
              "  <thead>\n",
              "    <tr style=\"text-align: right;\">\n",
              "      <th></th>\n",
              "      <th>name</th>\n",
              "      <th>sport</th>\n",
              "      <th>gender</th>\n",
              "      <th>score</th>\n",
              "      <th>age</th>\n",
              "    </tr>\n",
              "  </thead>\n",
              "  <tbody>\n",
              "    <tr>\n",
              "      <th>one</th>\n",
              "      <td>Bill</td>\n",
              "      <td>Wrestling</td>\n",
              "      <td>M</td>\n",
              "      <td>90</td>\n",
              "      <td>18</td>\n",
              "    </tr>\n",
              "    <tr>\n",
              "      <th>two</th>\n",
              "      <td>Tom</td>\n",
              "      <td>Football</td>\n",
              "      <td>M</td>\n",
              "      <td>80</td>\n",
              "      <td>19</td>\n",
              "    </tr>\n",
              "    <tr>\n",
              "      <th>three</th>\n",
              "      <td>Tim</td>\n",
              "      <td>Skiing</td>\n",
              "      <td>M</td>\n",
              "      <td>85</td>\n",
              "      <td>20</td>\n",
              "    </tr>\n",
              "    <tr>\n",
              "      <th>four</th>\n",
              "      <td>John</td>\n",
              "      <td>Swimming</td>\n",
              "      <td>M</td>\n",
              "      <td>75</td>\n",
              "      <td>18</td>\n",
              "    </tr>\n",
              "    <tr>\n",
              "      <th>five</th>\n",
              "      <td>Alex</td>\n",
              "      <td>Tennis</td>\n",
              "      <td>F</td>\n",
              "      <td>95</td>\n",
              "      <td>17</td>\n",
              "    </tr>\n",
              "    <tr>\n",
              "      <th>six</th>\n",
              "      <td>Vanessa</td>\n",
              "      <td>Karete</td>\n",
              "      <td>F</td>\n",
              "      <td>60</td>\n",
              "      <td>17</td>\n",
              "    </tr>\n",
              "    <tr>\n",
              "      <th>seven</th>\n",
              "      <td>Kate</td>\n",
              "      <td>Surfing</td>\n",
              "      <td>F</td>\n",
              "      <td>65</td>\n",
              "      <td>18</td>\n",
              "    </tr>\n",
              "  </tbody>\n",
              "</table>\n",
              "</div>"
            ],
            "text/plain": [
              "          name      sport gender  score  age\n",
              "one       Bill  Wrestling      M     90   18\n",
              "two        Tom   Football      M     80   19\n",
              "three      Tim     Skiing      M     85   20\n",
              "four      John   Swimming      M     75   18\n",
              "five      Alex     Tennis      F     95   17\n",
              "six    Vanessa     Karete      F     60   17\n",
              "seven     Kate    Surfing      F     65   18"
            ]
          },
          "execution_count": 27,
          "metadata": {},
          "output_type": "execute_result"
        }
      ],
      "source": [
        "df=pd.DataFrame(data,columns=[\"name\", \"sport\", \"gender\", \"score\", \"age\"],\n",
        "                index=[\"one\",\"two\",\"three\",\"four\",\"five\",\"six\",\"seven\"])\n",
        "values=[18,19,20,18,17,17,18]\n",
        "df[\"age\"]=values\n",
        "df"
      ]
    },
    {
      "cell_type": "code",
      "execution_count": null,
      "metadata": {
        "colab": {
          "base_uri": "https://localhost:8080/",
          "height": 269
        },
        "id": "Y-0pPxgRLqal",
        "outputId": "b2a786b0-82c5-4d74-b12d-0f28cbad99ce"
      },
      "outputs": [
        {
          "data": {
            "text/html": [
              "\n",
              "  <div id=\"df-91e486fb-ea1d-4529-a11d-af6c70c6496d\">\n",
              "    <div class=\"colab-df-container\">\n",
              "      <div>\n",
              "<style scoped>\n",
              "    .dataframe tbody tr th:only-of-type {\n",
              "        vertical-align: middle;\n",
              "    }\n",
              "\n",
              "    .dataframe tbody tr th {\n",
              "        vertical-align: top;\n",
              "    }\n",
              "\n",
              "    .dataframe thead th {\n",
              "        text-align: right;\n",
              "    }\n",
              "</style>\n",
              "<table border=\"1\" class=\"dataframe\">\n",
              "  <thead>\n",
              "    <tr style=\"text-align: right;\">\n",
              "      <th></th>\n",
              "      <th>name</th>\n",
              "      <th>sport</th>\n",
              "      <th>gender</th>\n",
              "      <th>score</th>\n",
              "      <th>age</th>\n",
              "      <th>pass</th>\n",
              "    </tr>\n",
              "  </thead>\n",
              "  <tbody>\n",
              "    <tr>\n",
              "      <th>one</th>\n",
              "      <td>Bill</td>\n",
              "      <td>Wrestling</td>\n",
              "      <td>M</td>\n",
              "      <td>90</td>\n",
              "      <td>18</td>\n",
              "      <td>True</td>\n",
              "    </tr>\n",
              "    <tr>\n",
              "      <th>two</th>\n",
              "      <td>Tom</td>\n",
              "      <td>Football</td>\n",
              "      <td>M</td>\n",
              "      <td>80</td>\n",
              "      <td>19</td>\n",
              "      <td>True</td>\n",
              "    </tr>\n",
              "    <tr>\n",
              "      <th>three</th>\n",
              "      <td>Tim</td>\n",
              "      <td>Skiing</td>\n",
              "      <td>M</td>\n",
              "      <td>85</td>\n",
              "      <td>20</td>\n",
              "      <td>True</td>\n",
              "    </tr>\n",
              "    <tr>\n",
              "      <th>four</th>\n",
              "      <td>John</td>\n",
              "      <td>Swimming</td>\n",
              "      <td>M</td>\n",
              "      <td>75</td>\n",
              "      <td>18</td>\n",
              "      <td>True</td>\n",
              "    </tr>\n",
              "    <tr>\n",
              "      <th>five</th>\n",
              "      <td>Alex</td>\n",
              "      <td>Tennis</td>\n",
              "      <td>F</td>\n",
              "      <td>95</td>\n",
              "      <td>17</td>\n",
              "      <td>True</td>\n",
              "    </tr>\n",
              "    <tr>\n",
              "      <th>six</th>\n",
              "      <td>Vanessa</td>\n",
              "      <td>Karete</td>\n",
              "      <td>F</td>\n",
              "      <td>60</td>\n",
              "      <td>17</td>\n",
              "      <td>False</td>\n",
              "    </tr>\n",
              "    <tr>\n",
              "      <th>seven</th>\n",
              "      <td>Kate</td>\n",
              "      <td>Surfing</td>\n",
              "      <td>F</td>\n",
              "      <td>65</td>\n",
              "      <td>18</td>\n",
              "      <td>False</td>\n",
              "    </tr>\n",
              "  </tbody>\n",
              "</table>\n",
              "</div>\n",
              "      <button class=\"colab-df-convert\" onclick=\"convertToInteractive('df-91e486fb-ea1d-4529-a11d-af6c70c6496d')\"\n",
              "              title=\"Convert this dataframe to an interactive table.\"\n",
              "              style=\"display:none;\">\n",
              "        \n",
              "  <svg xmlns=\"http://www.w3.org/2000/svg\" height=\"24px\"viewBox=\"0 0 24 24\"\n",
              "       width=\"24px\">\n",
              "    <path d=\"M0 0h24v24H0V0z\" fill=\"none\"/>\n",
              "    <path d=\"M18.56 5.44l.94 2.06.94-2.06 2.06-.94-2.06-.94-.94-2.06-.94 2.06-2.06.94zm-11 1L8.5 8.5l.94-2.06 2.06-.94-2.06-.94L8.5 2.5l-.94 2.06-2.06.94zm10 10l.94 2.06.94-2.06 2.06-.94-2.06-.94-.94-2.06-.94 2.06-2.06.94z\"/><path d=\"M17.41 7.96l-1.37-1.37c-.4-.4-.92-.59-1.43-.59-.52 0-1.04.2-1.43.59L10.3 9.45l-7.72 7.72c-.78.78-.78 2.05 0 2.83L4 21.41c.39.39.9.59 1.41.59.51 0 1.02-.2 1.41-.59l7.78-7.78 2.81-2.81c.8-.78.8-2.07 0-2.86zM5.41 20L4 18.59l7.72-7.72 1.47 1.35L5.41 20z\"/>\n",
              "  </svg>\n",
              "      </button>\n",
              "      \n",
              "  <style>\n",
              "    .colab-df-container {\n",
              "      display:flex;\n",
              "      flex-wrap:wrap;\n",
              "      gap: 12px;\n",
              "    }\n",
              "\n",
              "    .colab-df-convert {\n",
              "      background-color: #E8F0FE;\n",
              "      border: none;\n",
              "      border-radius: 50%;\n",
              "      cursor: pointer;\n",
              "      display: none;\n",
              "      fill: #1967D2;\n",
              "      height: 32px;\n",
              "      padding: 0 0 0 0;\n",
              "      width: 32px;\n",
              "    }\n",
              "\n",
              "    .colab-df-convert:hover {\n",
              "      background-color: #E2EBFA;\n",
              "      box-shadow: 0px 1px 2px rgba(60, 64, 67, 0.3), 0px 1px 3px 1px rgba(60, 64, 67, 0.15);\n",
              "      fill: #174EA6;\n",
              "    }\n",
              "\n",
              "    [theme=dark] .colab-df-convert {\n",
              "      background-color: #3B4455;\n",
              "      fill: #D2E3FC;\n",
              "    }\n",
              "\n",
              "    [theme=dark] .colab-df-convert:hover {\n",
              "      background-color: #434B5C;\n",
              "      box-shadow: 0px 1px 3px 1px rgba(0, 0, 0, 0.15);\n",
              "      filter: drop-shadow(0px 1px 2px rgba(0, 0, 0, 0.3));\n",
              "      fill: #FFFFFF;\n",
              "    }\n",
              "  </style>\n",
              "\n",
              "      <script>\n",
              "        const buttonEl =\n",
              "          document.querySelector('#df-91e486fb-ea1d-4529-a11d-af6c70c6496d button.colab-df-convert');\n",
              "        buttonEl.style.display =\n",
              "          google.colab.kernel.accessAllowed ? 'block' : 'none';\n",
              "\n",
              "        async function convertToInteractive(key) {\n",
              "          const element = document.querySelector('#df-91e486fb-ea1d-4529-a11d-af6c70c6496d');\n",
              "          const dataTable =\n",
              "            await google.colab.kernel.invokeFunction('convertToInteractive',\n",
              "                                                     [key], {});\n",
              "          if (!dataTable) return;\n",
              "\n",
              "          const docLinkHtml = 'Like what you see? Visit the ' +\n",
              "            '<a target=\"_blank\" href=https://colab.research.google.com/notebooks/data_table.ipynb>data table notebook</a>'\n",
              "            + ' to learn more about interactive tables.';\n",
              "          element.innerHTML = '';\n",
              "          dataTable['output_type'] = 'display_data';\n",
              "          await google.colab.output.renderOutput(dataTable, element);\n",
              "          const docLink = document.createElement('div');\n",
              "          docLink.innerHTML = docLinkHtml;\n",
              "          element.appendChild(docLink);\n",
              "        }\n",
              "      </script>\n",
              "    </div>\n",
              "  </div>\n",
              "  "
            ],
            "text/plain": [
              "          name      sport gender  score  age   pass\n",
              "one       Bill  Wrestling      M     90   18   True\n",
              "two        Tom   Football      M     80   19   True\n",
              "three      Tim     Skiing      M     85   20   True\n",
              "four      John   Swimming      M     75   18   True\n",
              "five      Alex     Tennis      F     95   17   True\n",
              "six    Vanessa     Karete      F     60   17  False\n",
              "seven     Kate    Surfing      F     65   18  False"
            ]
          },
          "execution_count": 34,
          "metadata": {},
          "output_type": "execute_result"
        }
      ],
      "source": [
        "df[\"pass\"]=df.score>=70\n",
        "df"
      ]
    },
    {
      "cell_type": "markdown",
      "metadata": {
        "id": "KhbZNdL7L9Tv"
      },
      "source": [
        "# Series Data Structure"
      ]
    },
    {
      "cell_type": "code",
      "execution_count": null,
      "metadata": {
        "colab": {
          "base_uri": "https://localhost:8080/"
        },
        "id": "tlNfQItmLu2F",
        "outputId": "948c1c7d-104e-430e-dc1b-e382a438dd64"
      },
      "outputs": [
        {
          "data": {
            "text/plain": [
              "0       1\n",
              "1    John\n",
              "2     3.5\n",
              "3     Hey\n",
              "dtype: object"
            ]
          },
          "execution_count": 35,
          "metadata": {},
          "output_type": "execute_result"
        }
      ],
      "source": [
        "obj=pd.Series([1,\"John\",3.5,\"Hey\"])\n",
        "obj"
      ]
    },
    {
      "cell_type": "code",
      "execution_count": null,
      "metadata": {
        "colab": {
          "base_uri": "https://localhost:8080/"
        },
        "id": "dA7THVW5MBtV",
        "outputId": "bce0e978-6071-4cb9-e9a5-1f4baa394697"
      },
      "outputs": [
        {
          "data": {
            "text/plain": [
              "array([1, 'John', 3.5, 'Hey'], dtype=object)"
            ]
          },
          "execution_count": 36,
          "metadata": {},
          "output_type": "execute_result"
        }
      ],
      "source": [
        "obj.values"
      ]
    },
    {
      "cell_type": "code",
      "execution_count": null,
      "metadata": {
        "colab": {
          "base_uri": "https://localhost:8080/"
        },
        "id": "Q-2eXpYBMD1F",
        "outputId": "3a91bf93-e704-4b06-cfb0-0d5664a6c28a"
      },
      "outputs": [
        {
          "data": {
            "text/plain": [
              "a       1\n",
              "b    John\n",
              "c     3.5\n",
              "d     Hey\n",
              "dtype: object"
            ]
          },
          "execution_count": 37,
          "metadata": {},
          "output_type": "execute_result"
        }
      ],
      "source": [
        "obj2=pd.Series([1,\"John\",3.5,\"Hey\"],index=[\"a\",\"b\",\"c\",\"d\"])\n",
        "obj2"
      ]
    },
    {
      "cell_type": "code",
      "execution_count": null,
      "metadata": {
        "colab": {
          "base_uri": "https://localhost:8080/",
          "height": 35
        },
        "id": "a_Ksy2t8MHLt",
        "outputId": "99c285e7-e1d4-4970-f207-ad1115f07100"
      },
      "outputs": [
        {
          "data": {
            "application/vnd.google.colaboratory.intrinsic+json": {
              "type": "string"
            },
            "text/plain": [
              "'John'"
            ]
          },
          "execution_count": 38,
          "metadata": {},
          "output_type": "execute_result"
        }
      ],
      "source": [
        "obj2[\"b\"]"
      ]
    },
    {
      "cell_type": "markdown",
      "metadata": {
        "id": "JHGZ4MomNNMf"
      },
      "source": [
        "# Working with Series Data Structure"
      ]
    },
    {
      "cell_type": "markdown",
      "metadata": {
        "id": "Y9hy4hxGVkAX"
      },
      "source": [
        "### for ubuntu"
      ]
    },
    {
      "cell_type": "code",
      "execution_count": null,
      "metadata": {
        "colab": {
          "base_uri": "https://localhost:8080/"
        },
        "id": "noINvpZrMJit",
        "outputId": "5b78509d-a1e6-42ce-df7d-92a880d6a191"
      },
      "outputs": [
        {
          "name": "stderr",
          "output_type": "stream",
          "text": [
            "'wget' is not recognized as an internal or external command,\n",
            "operable program or batch file.\n"
          ]
        }
      ],
      "source": [
        "!wget https://raw.githubusercontent.com/TirendazAcademy/PANDAS-TUTORIAL/main/DataSets/vgsalesGlobale.csv"
      ]
    },
    {
      "cell_type": "code",
      "execution_count": null,
      "metadata": {
        "id": "VMmsq-syVkAY"
      },
      "outputs": [],
      "source": [
        "games=pd.read_csv(\"/content/vgsalesGlobale.csv\", sep=',')"
      ]
    },
    {
      "cell_type": "markdown",
      "metadata": {
        "id": "UhUe4dQDVkAY"
      },
      "source": [
        "### for windows"
      ]
    },
    {
      "cell_type": "code",
      "execution_count": null,
      "metadata": {
        "id": "XEKLWPJvVkAY",
        "outputId": "f6cbee0f-3304-48a7-f879-e82d56d2459c"
      },
      "outputs": [
        {
          "name": "stdout",
          "output_type": "stream",
          "text": [
            "File downloaded successfully.\n"
          ]
        }
      ],
      "source": [
        "import requests\n",
        "import pandas as pd\n",
        "url = \"https://raw.githubusercontent.com/TirendazAcademy/PANDAS-TUTORIAL/main/DataSets/vgsalesGlobale.csv\"\n",
        "response = requests.get(url)\n",
        "\n",
        "if response.status_code == 200:\n",
        "    with open(\"vgsalesGlobale.csv\", \"wb\") as file:\n",
        "        file.write(response.content)\n",
        "    print(\"File downloaded successfully.\")\n",
        "else:\n",
        "    print(\"Failed to download the file.\")"
      ]
    },
    {
      "cell_type": "code",
      "execution_count": null,
      "metadata": {
        "id": "nSF_LqT1NC_m"
      },
      "outputs": [],
      "source": [
        "games=pd.read_csv(\"vgsalesGlobale.csv\", sep=',')"
      ]
    },
    {
      "cell_type": "code",
      "execution_count": null,
      "metadata": {
        "colab": {
          "base_uri": "https://localhost:8080/",
          "height": 424
        },
        "id": "KX0fD8j9NSRG",
        "outputId": "5e5c5ad7-05b7-48eb-a3c9-6c903ded7a97"
      },
      "outputs": [
        {
          "data": {
            "text/html": [
              "<div>\n",
              "<style scoped>\n",
              "    .dataframe tbody tr th:only-of-type {\n",
              "        vertical-align: middle;\n",
              "    }\n",
              "\n",
              "    .dataframe tbody tr th {\n",
              "        vertical-align: top;\n",
              "    }\n",
              "\n",
              "    .dataframe thead th {\n",
              "        text-align: right;\n",
              "    }\n",
              "</style>\n",
              "<table border=\"1\" class=\"dataframe\">\n",
              "  <thead>\n",
              "    <tr style=\"text-align: right;\">\n",
              "      <th></th>\n",
              "      <th>Rank</th>\n",
              "      <th>Name</th>\n",
              "      <th>Platform</th>\n",
              "      <th>Year</th>\n",
              "      <th>Genre</th>\n",
              "      <th>Publisher</th>\n",
              "      <th>NA_Sales</th>\n",
              "      <th>EU_Sales</th>\n",
              "      <th>JP_Sales</th>\n",
              "      <th>Other_Sales</th>\n",
              "      <th>Global_Sales</th>\n",
              "    </tr>\n",
              "  </thead>\n",
              "  <tbody>\n",
              "    <tr>\n",
              "      <th>0</th>\n",
              "      <td>1</td>\n",
              "      <td>Wii Sports</td>\n",
              "      <td>Wii</td>\n",
              "      <td>2006.0</td>\n",
              "      <td>Sports</td>\n",
              "      <td>Nintendo</td>\n",
              "      <td>41.49</td>\n",
              "      <td>29.02</td>\n",
              "      <td>3.77</td>\n",
              "      <td>8.46</td>\n",
              "      <td>82.74</td>\n",
              "    </tr>\n",
              "    <tr>\n",
              "      <th>1</th>\n",
              "      <td>2</td>\n",
              "      <td>Super Mario Bros.</td>\n",
              "      <td>NES</td>\n",
              "      <td>1985.0</td>\n",
              "      <td>Platform</td>\n",
              "      <td>Nintendo</td>\n",
              "      <td>29.08</td>\n",
              "      <td>3.58</td>\n",
              "      <td>6.81</td>\n",
              "      <td>0.77</td>\n",
              "      <td>40.24</td>\n",
              "    </tr>\n",
              "    <tr>\n",
              "      <th>2</th>\n",
              "      <td>3</td>\n",
              "      <td>Mario Kart Wii</td>\n",
              "      <td>Wii</td>\n",
              "      <td>2008.0</td>\n",
              "      <td>Racing</td>\n",
              "      <td>Nintendo</td>\n",
              "      <td>15.85</td>\n",
              "      <td>12.88</td>\n",
              "      <td>3.79</td>\n",
              "      <td>3.31</td>\n",
              "      <td>35.82</td>\n",
              "    </tr>\n",
              "    <tr>\n",
              "      <th>3</th>\n",
              "      <td>4</td>\n",
              "      <td>Wii Sports Resort</td>\n",
              "      <td>Wii</td>\n",
              "      <td>2009.0</td>\n",
              "      <td>Sports</td>\n",
              "      <td>Nintendo</td>\n",
              "      <td>15.75</td>\n",
              "      <td>11.01</td>\n",
              "      <td>3.28</td>\n",
              "      <td>2.96</td>\n",
              "      <td>33.00</td>\n",
              "    </tr>\n",
              "    <tr>\n",
              "      <th>4</th>\n",
              "      <td>5</td>\n",
              "      <td>Pokemon Red/Pokemon Blue</td>\n",
              "      <td>GB</td>\n",
              "      <td>1996.0</td>\n",
              "      <td>Role-Playing</td>\n",
              "      <td>Nintendo</td>\n",
              "      <td>11.27</td>\n",
              "      <td>8.89</td>\n",
              "      <td>10.22</td>\n",
              "      <td>1.00</td>\n",
              "      <td>31.37</td>\n",
              "    </tr>\n",
              "    <tr>\n",
              "      <th>...</th>\n",
              "      <td>...</td>\n",
              "      <td>...</td>\n",
              "      <td>...</td>\n",
              "      <td>...</td>\n",
              "      <td>...</td>\n",
              "      <td>...</td>\n",
              "      <td>...</td>\n",
              "      <td>...</td>\n",
              "      <td>...</td>\n",
              "      <td>...</td>\n",
              "      <td>...</td>\n",
              "    </tr>\n",
              "    <tr>\n",
              "      <th>16593</th>\n",
              "      <td>16596</td>\n",
              "      <td>Woody Woodpecker in Crazy Castle 5</td>\n",
              "      <td>GBA</td>\n",
              "      <td>2002.0</td>\n",
              "      <td>Platform</td>\n",
              "      <td>Kemco</td>\n",
              "      <td>0.01</td>\n",
              "      <td>0.00</td>\n",
              "      <td>0.00</td>\n",
              "      <td>0.00</td>\n",
              "      <td>0.01</td>\n",
              "    </tr>\n",
              "    <tr>\n",
              "      <th>16594</th>\n",
              "      <td>16597</td>\n",
              "      <td>Men in Black II: Alien Escape</td>\n",
              "      <td>GC</td>\n",
              "      <td>2003.0</td>\n",
              "      <td>Shooter</td>\n",
              "      <td>Infogrames</td>\n",
              "      <td>0.01</td>\n",
              "      <td>0.00</td>\n",
              "      <td>0.00</td>\n",
              "      <td>0.00</td>\n",
              "      <td>0.01</td>\n",
              "    </tr>\n",
              "    <tr>\n",
              "      <th>16595</th>\n",
              "      <td>16598</td>\n",
              "      <td>SCORE International Baja 1000: The Official Game</td>\n",
              "      <td>PS2</td>\n",
              "      <td>2008.0</td>\n",
              "      <td>Racing</td>\n",
              "      <td>Activision</td>\n",
              "      <td>0.00</td>\n",
              "      <td>0.00</td>\n",
              "      <td>0.00</td>\n",
              "      <td>0.00</td>\n",
              "      <td>0.01</td>\n",
              "    </tr>\n",
              "    <tr>\n",
              "      <th>16596</th>\n",
              "      <td>16599</td>\n",
              "      <td>Know How 2</td>\n",
              "      <td>DS</td>\n",
              "      <td>2010.0</td>\n",
              "      <td>Puzzle</td>\n",
              "      <td>7G//AMES</td>\n",
              "      <td>0.00</td>\n",
              "      <td>0.01</td>\n",
              "      <td>0.00</td>\n",
              "      <td>0.00</td>\n",
              "      <td>0.01</td>\n",
              "    </tr>\n",
              "    <tr>\n",
              "      <th>16597</th>\n",
              "      <td>16600</td>\n",
              "      <td>Spirits &amp; Spells</td>\n",
              "      <td>GBA</td>\n",
              "      <td>2003.0</td>\n",
              "      <td>Platform</td>\n",
              "      <td>Wanadoo</td>\n",
              "      <td>0.01</td>\n",
              "      <td>0.00</td>\n",
              "      <td>0.00</td>\n",
              "      <td>0.00</td>\n",
              "      <td>0.01</td>\n",
              "    </tr>\n",
              "  </tbody>\n",
              "</table>\n",
              "<p>16598 rows × 11 columns</p>\n",
              "</div>"
            ],
            "text/plain": [
              "        Rank                                              Name Platform  \\\n",
              "0          1                                        Wii Sports      Wii   \n",
              "1          2                                 Super Mario Bros.      NES   \n",
              "2          3                                    Mario Kart Wii      Wii   \n",
              "3          4                                 Wii Sports Resort      Wii   \n",
              "4          5                          Pokemon Red/Pokemon Blue       GB   \n",
              "...      ...                                               ...      ...   \n",
              "16593  16596                Woody Woodpecker in Crazy Castle 5      GBA   \n",
              "16594  16597                     Men in Black II: Alien Escape       GC   \n",
              "16595  16598  SCORE International Baja 1000: The Official Game      PS2   \n",
              "16596  16599                                        Know How 2       DS   \n",
              "16597  16600                                  Spirits & Spells      GBA   \n",
              "\n",
              "         Year         Genre   Publisher  NA_Sales  EU_Sales  JP_Sales  \\\n",
              "0      2006.0        Sports    Nintendo     41.49     29.02      3.77   \n",
              "1      1985.0      Platform    Nintendo     29.08      3.58      6.81   \n",
              "2      2008.0        Racing    Nintendo     15.85     12.88      3.79   \n",
              "3      2009.0        Sports    Nintendo     15.75     11.01      3.28   \n",
              "4      1996.0  Role-Playing    Nintendo     11.27      8.89     10.22   \n",
              "...       ...           ...         ...       ...       ...       ...   \n",
              "16593  2002.0      Platform       Kemco      0.01      0.00      0.00   \n",
              "16594  2003.0       Shooter  Infogrames      0.01      0.00      0.00   \n",
              "16595  2008.0        Racing  Activision      0.00      0.00      0.00   \n",
              "16596  2010.0        Puzzle    7G//AMES      0.00      0.01      0.00   \n",
              "16597  2003.0      Platform     Wanadoo      0.01      0.00      0.00   \n",
              "\n",
              "       Other_Sales  Global_Sales  \n",
              "0             8.46         82.74  \n",
              "1             0.77         40.24  \n",
              "2             3.31         35.82  \n",
              "3             2.96         33.00  \n",
              "4             1.00         31.37  \n",
              "...            ...           ...  \n",
              "16593         0.00          0.01  \n",
              "16594         0.00          0.01  \n",
              "16595         0.00          0.01  \n",
              "16596         0.00          0.01  \n",
              "16597         0.00          0.01  \n",
              "\n",
              "[16598 rows x 11 columns]"
            ]
          },
          "execution_count": 6,
          "metadata": {},
          "output_type": "execute_result"
        }
      ],
      "source": [
        "games"
      ]
    },
    {
      "cell_type": "code",
      "execution_count": null,
      "metadata": {
        "colab": {
          "base_uri": "https://localhost:8080/"
        },
        "id": "O48upPDFNWVV",
        "outputId": "c1de1604-5bb8-4a57-d1ac-5b79c2a560b9"
      },
      "outputs": [
        {
          "data": {
            "text/plain": [
              "Rank              int64\n",
              "Name             object\n",
              "Platform         object\n",
              "Year            float64\n",
              "Genre            object\n",
              "Publisher        object\n",
              "NA_Sales        float64\n",
              "EU_Sales        float64\n",
              "JP_Sales        float64\n",
              "Other_Sales     float64\n",
              "Global_Sales    float64\n",
              "dtype: object"
            ]
          },
          "execution_count": 40,
          "metadata": {},
          "output_type": "execute_result"
        }
      ],
      "source": [
        "games.dtypes"
      ]
    },
    {
      "cell_type": "code",
      "execution_count": null,
      "metadata": {
        "colab": {
          "base_uri": "https://localhost:8080/"
        },
        "id": "Nq0XSJLkNbY1",
        "outputId": "af03ff6d-a565-4479-86ca-1c5fe084710d"
      },
      "outputs": [
        {
          "data": {
            "text/plain": [
              "count      16598\n",
              "unique        12\n",
              "top       Action\n",
              "freq        3316\n",
              "Name: Genre, dtype: object"
            ]
          },
          "execution_count": 41,
          "metadata": {},
          "output_type": "execute_result"
        }
      ],
      "source": [
        "games.Genre.describe()"
      ]
    },
    {
      "cell_type": "code",
      "execution_count": null,
      "metadata": {
        "colab": {
          "base_uri": "https://localhost:8080/"
        },
        "id": "PwKYLS4fNdtu",
        "outputId": "21761a50-e32e-467e-9c90-9990cfb3083e"
      },
      "outputs": [
        {
          "data": {
            "text/plain": [
              "Action          3316\n",
              "Sports          2346\n",
              "Misc            1739\n",
              "Role-Playing    1488\n",
              "Shooter         1310\n",
              "Adventure       1286\n",
              "Racing          1249\n",
              "Platform         886\n",
              "Simulation       867\n",
              "Fighting         848\n",
              "Strategy         681\n",
              "Puzzle           582\n",
              "Name: Genre, dtype: int64"
            ]
          },
          "execution_count": 42,
          "metadata": {},
          "output_type": "execute_result"
        }
      ],
      "source": [
        "games.Genre.value_counts()"
      ]
    },
    {
      "cell_type": "code",
      "execution_count": null,
      "metadata": {
        "colab": {
          "base_uri": "https://localhost:8080/"
        },
        "id": "b92Vl4ujNis1",
        "outputId": "80d587ef-8abb-45e8-f160-e8e30c6a09fe"
      },
      "outputs": [
        {
          "data": {
            "text/plain": [
              "array(['Sports', 'Platform', 'Racing', 'Role-Playing', 'Puzzle', 'Misc',\n",
              "       'Shooter', 'Simulation', 'Action', 'Fighting', 'Adventure',\n",
              "       'Strategy'], dtype=object)"
            ]
          },
          "execution_count": 43,
          "metadata": {},
          "output_type": "execute_result"
        }
      ],
      "source": [
        "games.Genre.unique()"
      ]
    },
    {
      "cell_type": "code",
      "execution_count": null,
      "metadata": {
        "colab": {
          "base_uri": "https://localhost:8080/",
          "height": 568
        },
        "id": "1Q9EnGKiNnme",
        "outputId": "264cb32e-2910-491e-8da1-deff2fb62278"
      },
      "outputs": [
        {
          "data": {
            "text/html": [
              "<div>\n",
              "<style scoped>\n",
              "    .dataframe tbody tr th:only-of-type {\n",
              "        vertical-align: middle;\n",
              "    }\n",
              "\n",
              "    .dataframe tbody tr th {\n",
              "        vertical-align: top;\n",
              "    }\n",
              "\n",
              "    .dataframe thead th {\n",
              "        text-align: right;\n",
              "    }\n",
              "</style>\n",
              "<table border=\"1\" class=\"dataframe\">\n",
              "  <thead>\n",
              "    <tr style=\"text-align: right;\">\n",
              "      <th>Year</th>\n",
              "      <th>1980.0</th>\n",
              "      <th>1981.0</th>\n",
              "      <th>1982.0</th>\n",
              "      <th>1983.0</th>\n",
              "      <th>1984.0</th>\n",
              "      <th>1985.0</th>\n",
              "      <th>1986.0</th>\n",
              "      <th>1987.0</th>\n",
              "      <th>1988.0</th>\n",
              "      <th>1989.0</th>\n",
              "      <th>...</th>\n",
              "      <th>2009.0</th>\n",
              "      <th>2010.0</th>\n",
              "      <th>2011.0</th>\n",
              "      <th>2012.0</th>\n",
              "      <th>2013.0</th>\n",
              "      <th>2014.0</th>\n",
              "      <th>2015.0</th>\n",
              "      <th>2016.0</th>\n",
              "      <th>2017.0</th>\n",
              "      <th>2020.0</th>\n",
              "    </tr>\n",
              "    <tr>\n",
              "      <th>Genre</th>\n",
              "      <th></th>\n",
              "      <th></th>\n",
              "      <th></th>\n",
              "      <th></th>\n",
              "      <th></th>\n",
              "      <th></th>\n",
              "      <th></th>\n",
              "      <th></th>\n",
              "      <th></th>\n",
              "      <th></th>\n",
              "      <th></th>\n",
              "      <th></th>\n",
              "      <th></th>\n",
              "      <th></th>\n",
              "      <th></th>\n",
              "      <th></th>\n",
              "      <th></th>\n",
              "      <th></th>\n",
              "      <th></th>\n",
              "      <th></th>\n",
              "      <th></th>\n",
              "    </tr>\n",
              "  </thead>\n",
              "  <tbody>\n",
              "    <tr>\n",
              "      <th>Action</th>\n",
              "      <td>1</td>\n",
              "      <td>25</td>\n",
              "      <td>18</td>\n",
              "      <td>7</td>\n",
              "      <td>1</td>\n",
              "      <td>2</td>\n",
              "      <td>6</td>\n",
              "      <td>2</td>\n",
              "      <td>2</td>\n",
              "      <td>2</td>\n",
              "      <td>...</td>\n",
              "      <td>272</td>\n",
              "      <td>226</td>\n",
              "      <td>239</td>\n",
              "      <td>266</td>\n",
              "      <td>148</td>\n",
              "      <td>186</td>\n",
              "      <td>255</td>\n",
              "      <td>119</td>\n",
              "      <td>1</td>\n",
              "      <td>0</td>\n",
              "    </tr>\n",
              "    <tr>\n",
              "      <th>Adventure</th>\n",
              "      <td>0</td>\n",
              "      <td>0</td>\n",
              "      <td>0</td>\n",
              "      <td>1</td>\n",
              "      <td>0</td>\n",
              "      <td>0</td>\n",
              "      <td>0</td>\n",
              "      <td>1</td>\n",
              "      <td>0</td>\n",
              "      <td>0</td>\n",
              "      <td>...</td>\n",
              "      <td>141</td>\n",
              "      <td>154</td>\n",
              "      <td>108</td>\n",
              "      <td>58</td>\n",
              "      <td>60</td>\n",
              "      <td>75</td>\n",
              "      <td>54</td>\n",
              "      <td>34</td>\n",
              "      <td>0</td>\n",
              "      <td>0</td>\n",
              "    </tr>\n",
              "    <tr>\n",
              "      <th>Fighting</th>\n",
              "      <td>1</td>\n",
              "      <td>0</td>\n",
              "      <td>0</td>\n",
              "      <td>0</td>\n",
              "      <td>0</td>\n",
              "      <td>1</td>\n",
              "      <td>0</td>\n",
              "      <td>2</td>\n",
              "      <td>0</td>\n",
              "      <td>0</td>\n",
              "      <td>...</td>\n",
              "      <td>53</td>\n",
              "      <td>40</td>\n",
              "      <td>50</td>\n",
              "      <td>29</td>\n",
              "      <td>20</td>\n",
              "      <td>23</td>\n",
              "      <td>21</td>\n",
              "      <td>14</td>\n",
              "      <td>0</td>\n",
              "      <td>0</td>\n",
              "    </tr>\n",
              "    <tr>\n",
              "      <th>Misc</th>\n",
              "      <td>4</td>\n",
              "      <td>0</td>\n",
              "      <td>1</td>\n",
              "      <td>1</td>\n",
              "      <td>1</td>\n",
              "      <td>0</td>\n",
              "      <td>0</td>\n",
              "      <td>0</td>\n",
              "      <td>0</td>\n",
              "      <td>1</td>\n",
              "      <td>...</td>\n",
              "      <td>207</td>\n",
              "      <td>201</td>\n",
              "      <td>184</td>\n",
              "      <td>38</td>\n",
              "      <td>42</td>\n",
              "      <td>41</td>\n",
              "      <td>39</td>\n",
              "      <td>18</td>\n",
              "      <td>0</td>\n",
              "      <td>0</td>\n",
              "    </tr>\n",
              "    <tr>\n",
              "      <th>Platform</th>\n",
              "      <td>0</td>\n",
              "      <td>3</td>\n",
              "      <td>5</td>\n",
              "      <td>5</td>\n",
              "      <td>1</td>\n",
              "      <td>4</td>\n",
              "      <td>6</td>\n",
              "      <td>2</td>\n",
              "      <td>4</td>\n",
              "      <td>3</td>\n",
              "      <td>...</td>\n",
              "      <td>29</td>\n",
              "      <td>31</td>\n",
              "      <td>37</td>\n",
              "      <td>12</td>\n",
              "      <td>37</td>\n",
              "      <td>10</td>\n",
              "      <td>14</td>\n",
              "      <td>10</td>\n",
              "      <td>0</td>\n",
              "      <td>0</td>\n",
              "    </tr>\n",
              "    <tr>\n",
              "      <th>Puzzle</th>\n",
              "      <td>0</td>\n",
              "      <td>2</td>\n",
              "      <td>3</td>\n",
              "      <td>1</td>\n",
              "      <td>3</td>\n",
              "      <td>4</td>\n",
              "      <td>0</td>\n",
              "      <td>0</td>\n",
              "      <td>1</td>\n",
              "      <td>5</td>\n",
              "      <td>...</td>\n",
              "      <td>79</td>\n",
              "      <td>45</td>\n",
              "      <td>43</td>\n",
              "      <td>11</td>\n",
              "      <td>3</td>\n",
              "      <td>8</td>\n",
              "      <td>6</td>\n",
              "      <td>0</td>\n",
              "      <td>0</td>\n",
              "      <td>0</td>\n",
              "    </tr>\n",
              "    <tr>\n",
              "      <th>Racing</th>\n",
              "      <td>0</td>\n",
              "      <td>1</td>\n",
              "      <td>2</td>\n",
              "      <td>0</td>\n",
              "      <td>3</td>\n",
              "      <td>0</td>\n",
              "      <td>1</td>\n",
              "      <td>0</td>\n",
              "      <td>1</td>\n",
              "      <td>0</td>\n",
              "      <td>...</td>\n",
              "      <td>84</td>\n",
              "      <td>57</td>\n",
              "      <td>65</td>\n",
              "      <td>30</td>\n",
              "      <td>16</td>\n",
              "      <td>27</td>\n",
              "      <td>19</td>\n",
              "      <td>20</td>\n",
              "      <td>0</td>\n",
              "      <td>0</td>\n",
              "    </tr>\n",
              "    <tr>\n",
              "      <th>Role-Playing</th>\n",
              "      <td>0</td>\n",
              "      <td>0</td>\n",
              "      <td>0</td>\n",
              "      <td>0</td>\n",
              "      <td>0</td>\n",
              "      <td>0</td>\n",
              "      <td>1</td>\n",
              "      <td>3</td>\n",
              "      <td>3</td>\n",
              "      <td>2</td>\n",
              "      <td>...</td>\n",
              "      <td>103</td>\n",
              "      <td>103</td>\n",
              "      <td>95</td>\n",
              "      <td>78</td>\n",
              "      <td>71</td>\n",
              "      <td>91</td>\n",
              "      <td>78</td>\n",
              "      <td>40</td>\n",
              "      <td>2</td>\n",
              "      <td>0</td>\n",
              "    </tr>\n",
              "    <tr>\n",
              "      <th>Shooter</th>\n",
              "      <td>2</td>\n",
              "      <td>10</td>\n",
              "      <td>5</td>\n",
              "      <td>1</td>\n",
              "      <td>3</td>\n",
              "      <td>1</td>\n",
              "      <td>4</td>\n",
              "      <td>2</td>\n",
              "      <td>1</td>\n",
              "      <td>1</td>\n",
              "      <td>...</td>\n",
              "      <td>91</td>\n",
              "      <td>81</td>\n",
              "      <td>94</td>\n",
              "      <td>48</td>\n",
              "      <td>59</td>\n",
              "      <td>47</td>\n",
              "      <td>34</td>\n",
              "      <td>32</td>\n",
              "      <td>0</td>\n",
              "      <td>0</td>\n",
              "    </tr>\n",
              "    <tr>\n",
              "      <th>Simulation</th>\n",
              "      <td>0</td>\n",
              "      <td>1</td>\n",
              "      <td>0</td>\n",
              "      <td>0</td>\n",
              "      <td>0</td>\n",
              "      <td>1</td>\n",
              "      <td>0</td>\n",
              "      <td>0</td>\n",
              "      <td>1</td>\n",
              "      <td>0</td>\n",
              "      <td>...</td>\n",
              "      <td>123</td>\n",
              "      <td>82</td>\n",
              "      <td>56</td>\n",
              "      <td>18</td>\n",
              "      <td>18</td>\n",
              "      <td>11</td>\n",
              "      <td>15</td>\n",
              "      <td>9</td>\n",
              "      <td>0</td>\n",
              "      <td>1</td>\n",
              "    </tr>\n",
              "    <tr>\n",
              "      <th>Sports</th>\n",
              "      <td>1</td>\n",
              "      <td>4</td>\n",
              "      <td>2</td>\n",
              "      <td>1</td>\n",
              "      <td>2</td>\n",
              "      <td>1</td>\n",
              "      <td>3</td>\n",
              "      <td>4</td>\n",
              "      <td>2</td>\n",
              "      <td>3</td>\n",
              "      <td>...</td>\n",
              "      <td>184</td>\n",
              "      <td>186</td>\n",
              "      <td>122</td>\n",
              "      <td>54</td>\n",
              "      <td>53</td>\n",
              "      <td>55</td>\n",
              "      <td>62</td>\n",
              "      <td>38</td>\n",
              "      <td>0</td>\n",
              "      <td>0</td>\n",
              "    </tr>\n",
              "    <tr>\n",
              "      <th>Strategy</th>\n",
              "      <td>0</td>\n",
              "      <td>0</td>\n",
              "      <td>0</td>\n",
              "      <td>0</td>\n",
              "      <td>0</td>\n",
              "      <td>0</td>\n",
              "      <td>0</td>\n",
              "      <td>0</td>\n",
              "      <td>0</td>\n",
              "      <td>0</td>\n",
              "      <td>...</td>\n",
              "      <td>65</td>\n",
              "      <td>53</td>\n",
              "      <td>46</td>\n",
              "      <td>15</td>\n",
              "      <td>19</td>\n",
              "      <td>8</td>\n",
              "      <td>17</td>\n",
              "      <td>10</td>\n",
              "      <td>0</td>\n",
              "      <td>0</td>\n",
              "    </tr>\n",
              "  </tbody>\n",
              "</table>\n",
              "<p>12 rows × 39 columns</p>\n",
              "</div>"
            ],
            "text/plain": [
              "Year          1980.0  1981.0  1982.0  1983.0  1984.0  1985.0  1986.0  1987.0  \\\n",
              "Genre                                                                          \n",
              "Action             1      25      18       7       1       2       6       2   \n",
              "Adventure          0       0       0       1       0       0       0       1   \n",
              "Fighting           1       0       0       0       0       1       0       2   \n",
              "Misc               4       0       1       1       1       0       0       0   \n",
              "Platform           0       3       5       5       1       4       6       2   \n",
              "Puzzle             0       2       3       1       3       4       0       0   \n",
              "Racing             0       1       2       0       3       0       1       0   \n",
              "Role-Playing       0       0       0       0       0       0       1       3   \n",
              "Shooter            2      10       5       1       3       1       4       2   \n",
              "Simulation         0       1       0       0       0       1       0       0   \n",
              "Sports             1       4       2       1       2       1       3       4   \n",
              "Strategy           0       0       0       0       0       0       0       0   \n",
              "\n",
              "Year          1988.0  1989.0  ...  2009.0  2010.0  2011.0  2012.0  2013.0  \\\n",
              "Genre                         ...                                           \n",
              "Action             2       2  ...     272     226     239     266     148   \n",
              "Adventure          0       0  ...     141     154     108      58      60   \n",
              "Fighting           0       0  ...      53      40      50      29      20   \n",
              "Misc               0       1  ...     207     201     184      38      42   \n",
              "Platform           4       3  ...      29      31      37      12      37   \n",
              "Puzzle             1       5  ...      79      45      43      11       3   \n",
              "Racing             1       0  ...      84      57      65      30      16   \n",
              "Role-Playing       3       2  ...     103     103      95      78      71   \n",
              "Shooter            1       1  ...      91      81      94      48      59   \n",
              "Simulation         1       0  ...     123      82      56      18      18   \n",
              "Sports             2       3  ...     184     186     122      54      53   \n",
              "Strategy           0       0  ...      65      53      46      15      19   \n",
              "\n",
              "Year          2014.0  2015.0  2016.0  2017.0  2020.0  \n",
              "Genre                                                 \n",
              "Action           186     255     119       1       0  \n",
              "Adventure         75      54      34       0       0  \n",
              "Fighting          23      21      14       0       0  \n",
              "Misc              41      39      18       0       0  \n",
              "Platform          10      14      10       0       0  \n",
              "Puzzle             8       6       0       0       0  \n",
              "Racing            27      19      20       0       0  \n",
              "Role-Playing      91      78      40       2       0  \n",
              "Shooter           47      34      32       0       0  \n",
              "Simulation        11      15       9       0       1  \n",
              "Sports            55      62      38       0       0  \n",
              "Strategy           8      17      10       0       0  \n",
              "\n",
              "[12 rows x 39 columns]"
            ]
          },
          "execution_count": 44,
          "metadata": {},
          "output_type": "execute_result"
        }
      ],
      "source": [
        "pd.crosstab(games.Genre, games.Year)"
      ]
    },
    {
      "cell_type": "code",
      "execution_count": null,
      "metadata": {
        "colab": {
          "base_uri": "https://localhost:8080/"
        },
        "id": "jNq7XeEQNuzt",
        "outputId": "7a142a30-ff27-4f34-9308-009fafc74c30"
      },
      "outputs": [
        {
          "data": {
            "text/plain": [
              "0.53744065550074"
            ]
          },
          "execution_count": 45,
          "metadata": {},
          "output_type": "execute_result"
        }
      ],
      "source": [
        "games.Global_Sales.mean()"
      ]
    },
    {
      "cell_type": "markdown",
      "metadata": {
        "id": "6OvPA9P1OcOv"
      },
      "source": [
        "# Summarizing & Computing Descriptive Statistics"
      ]
    },
    {
      "cell_type": "code",
      "execution_count": null,
      "metadata": {
        "id": "ojbGQM0MOm2_"
      },
      "outputs": [],
      "source": [
        "import pandas as pd\n",
        "import numpy as np"
      ]
    },
    {
      "cell_type": "code",
      "execution_count": null,
      "metadata": {
        "colab": {
          "base_uri": "https://localhost:8080/",
          "height": 175
        },
        "id": "0QI7Na9vOdTd",
        "outputId": "40c48f21-d8c1-4945-b5ee-ae090ce4aac4"
      },
      "outputs": [
        {
          "data": {
            "text/html": [
              "<div>\n",
              "<style scoped>\n",
              "    .dataframe tbody tr th:only-of-type {\n",
              "        vertical-align: middle;\n",
              "    }\n",
              "\n",
              "    .dataframe tbody tr th {\n",
              "        vertical-align: top;\n",
              "    }\n",
              "\n",
              "    .dataframe thead th {\n",
              "        text-align: right;\n",
              "    }\n",
              "</style>\n",
              "<table border=\"1\" class=\"dataframe\">\n",
              "  <thead>\n",
              "    <tr style=\"text-align: right;\">\n",
              "      <th></th>\n",
              "      <th>one</th>\n",
              "      <th>two</th>\n",
              "    </tr>\n",
              "  </thead>\n",
              "  <tbody>\n",
              "    <tr>\n",
              "      <th>a</th>\n",
              "      <td>2.40</td>\n",
              "      <td>NaN</td>\n",
              "    </tr>\n",
              "    <tr>\n",
              "      <th>b</th>\n",
              "      <td>6.30</td>\n",
              "      <td>-5.4</td>\n",
              "    </tr>\n",
              "    <tr>\n",
              "      <th>c</th>\n",
              "      <td>NaN</td>\n",
              "      <td>NaN</td>\n",
              "    </tr>\n",
              "    <tr>\n",
              "      <th>d</th>\n",
              "      <td>0.75</td>\n",
              "      <td>-1.3</td>\n",
              "    </tr>\n",
              "  </tbody>\n",
              "</table>\n",
              "</div>"
            ],
            "text/plain": [
              "    one  two\n",
              "a  2.40  NaN\n",
              "b  6.30 -5.4\n",
              "c   NaN  NaN\n",
              "d  0.75 -1.3"
            ]
          },
          "execution_count": 47,
          "metadata": {},
          "output_type": "execute_result"
        }
      ],
      "source": [
        "df=pd.DataFrame([[2.4,np.nan],[6.3,-5.4],[np.nan,np.nan],[0.75,-1.3]],\n",
        "                index=[\"a\",\"b\",\"c\",\"d\"],\n",
        "                columns=[\"one\",\"two\"])\n",
        "df"
      ]
    },
    {
      "cell_type": "code",
      "execution_count": null,
      "metadata": {
        "colab": {
          "base_uri": "https://localhost:8080/"
        },
        "id": "J71ni4DfOnv9",
        "outputId": "b3c6d3fa-8563-4cb6-e929-97fa5b3bee80"
      },
      "outputs": [
        {
          "data": {
            "text/plain": [
              "one    9.45\n",
              "two   -6.70\n",
              "dtype: float64"
            ]
          },
          "execution_count": 48,
          "metadata": {},
          "output_type": "execute_result"
        }
      ],
      "source": [
        "df.sum()"
      ]
    },
    {
      "cell_type": "code",
      "execution_count": null,
      "metadata": {
        "colab": {
          "base_uri": "https://localhost:8080/"
        },
        "id": "9oJ46RVpO2Ql",
        "outputId": "9a2a3b22-d743-406c-9cc9-225f7ec9b2b4"
      },
      "outputs": [
        {
          "data": {
            "text/plain": [
              "a    2.40\n",
              "b    0.90\n",
              "c    0.00\n",
              "d   -0.55\n",
              "dtype: float64"
            ]
          },
          "execution_count": 49,
          "metadata": {},
          "output_type": "execute_result"
        }
      ],
      "source": [
        "df.sum(axis=1)"
      ]
    },
    {
      "cell_type": "code",
      "execution_count": null,
      "metadata": {
        "colab": {
          "base_uri": "https://localhost:8080/"
        },
        "id": "WjiaoiLgO5Xd",
        "outputId": "168b2db6-4269-4044-8785-fed876e72aef"
      },
      "outputs": [
        {
          "data": {
            "text/plain": [
              "one    b\n",
              "two    d\n",
              "dtype: object"
            ]
          },
          "execution_count": 50,
          "metadata": {},
          "output_type": "execute_result"
        }
      ],
      "source": [
        "df.idxmax()"
      ]
    },
    {
      "cell_type": "code",
      "execution_count": null,
      "metadata": {
        "id": "SMVx8EglO8t0",
        "outputId": "67acb95a-3700-407d-97ac-6b94c0722102"
      },
      "outputs": [
        {
          "data": {
            "text/plain": [
              "a    one\n",
              "b    one\n",
              "c    NaN\n",
              "d    one\n",
              "dtype: object"
            ]
          },
          "execution_count": 51,
          "metadata": {},
          "output_type": "execute_result"
        }
      ],
      "source": [
        "df.idxmax(axis=1)"
      ]
    },
    {
      "cell_type": "markdown",
      "metadata": {
        "id": "N9nKY6tuQr7m"
      },
      "source": [
        "# Indexing & Selection & Filtering in Pandas"
      ]
    },
    {
      "cell_type": "code",
      "execution_count": null,
      "metadata": {
        "colab": {
          "base_uri": "https://localhost:8080/"
        },
        "id": "TQ9Vax9rQs-s",
        "outputId": "831bbbca-8c83-4716-ccdd-3132afefa772"
      },
      "outputs": [
        {
          "data": {
            "text/plain": [
              "a    0\n",
              "b    1\n",
              "c    2\n",
              "d    3\n",
              "e    4\n",
              "dtype: int32"
            ]
          },
          "execution_count": 52,
          "metadata": {},
          "output_type": "execute_result"
        }
      ],
      "source": [
        "obj=pd.Series(np.arange(5),\n",
        "              index=[\"a\",\"b\",\"c\",\"d\",\"e\"])\n",
        "\n",
        "obj"
      ]
    },
    {
      "cell_type": "code",
      "execution_count": null,
      "metadata": {
        "colab": {
          "base_uri": "https://localhost:8080/"
        },
        "id": "eNlv7wc1QviV",
        "outputId": "4ba1d080-5075-46b4-9482-537263ff14ff"
      },
      "outputs": [
        {
          "data": {
            "text/plain": [
              "2"
            ]
          },
          "execution_count": 53,
          "metadata": {},
          "output_type": "execute_result"
        }
      ],
      "source": [
        "obj[\"c\"]"
      ]
    },
    {
      "cell_type": "code",
      "execution_count": null,
      "metadata": {
        "colab": {
          "base_uri": "https://localhost:8080/"
        },
        "id": "mGkBEqmNQ08s",
        "outputId": "c1699729-291a-43e7-8cc3-b866191e9e9f"
      },
      "outputs": [
        {
          "name": "stdout",
          "output_type": "stream",
          "text": [
            "a    0\n",
            "c    2\n",
            "dtype: int32\n",
            "a    0\n",
            "c    2\n",
            "dtype: int32\n"
          ]
        }
      ],
      "source": [
        "print(obj[[\"a\",\"c\"]])\n",
        "print(obj[[0,2]])"
      ]
    },
    {
      "cell_type": "markdown",
      "metadata": {
        "id": "BU9X_Xr8RK_W"
      },
      "source": [
        "# DataFrame Indexing"
      ]
    },
    {
      "cell_type": "code",
      "execution_count": null,
      "metadata": {
        "colab": {
          "base_uri": "https://localhost:8080/",
          "height": 175
        },
        "id": "FYyu3I7yRHXF",
        "outputId": "839de2cb-cf75-4587-aba3-7b2a725bed41"
      },
      "outputs": [
        {
          "data": {
            "text/html": [
              "<div>\n",
              "<style scoped>\n",
              "    .dataframe tbody tr th:only-of-type {\n",
              "        vertical-align: middle;\n",
              "    }\n",
              "\n",
              "    .dataframe tbody tr th {\n",
              "        vertical-align: top;\n",
              "    }\n",
              "\n",
              "    .dataframe thead th {\n",
              "        text-align: right;\n",
              "    }\n",
              "</style>\n",
              "<table border=\"1\" class=\"dataframe\">\n",
              "  <thead>\n",
              "    <tr style=\"text-align: right;\">\n",
              "      <th></th>\n",
              "      <th>one</th>\n",
              "      <th>two</th>\n",
              "      <th>three</th>\n",
              "      <th>four</th>\n",
              "    </tr>\n",
              "  </thead>\n",
              "  <tbody>\n",
              "    <tr>\n",
              "      <th>London</th>\n",
              "      <td>0</td>\n",
              "      <td>1</td>\n",
              "      <td>2</td>\n",
              "      <td>3</td>\n",
              "    </tr>\n",
              "    <tr>\n",
              "      <th>Paris</th>\n",
              "      <td>4</td>\n",
              "      <td>5</td>\n",
              "      <td>6</td>\n",
              "      <td>7</td>\n",
              "    </tr>\n",
              "    <tr>\n",
              "      <th>Berlin</th>\n",
              "      <td>8</td>\n",
              "      <td>9</td>\n",
              "      <td>10</td>\n",
              "      <td>11</td>\n",
              "    </tr>\n",
              "    <tr>\n",
              "      <th>Istanbul</th>\n",
              "      <td>12</td>\n",
              "      <td>13</td>\n",
              "      <td>14</td>\n",
              "      <td>15</td>\n",
              "    </tr>\n",
              "  </tbody>\n",
              "</table>\n",
              "</div>"
            ],
            "text/plain": [
              "          one  two  three  four\n",
              "London      0    1      2     3\n",
              "Paris       4    5      6     7\n",
              "Berlin      8    9     10    11\n",
              "Istanbul   12   13     14    15"
            ]
          },
          "execution_count": 60,
          "metadata": {},
          "output_type": "execute_result"
        }
      ],
      "source": [
        "data=pd.DataFrame(\n",
        "    np.arange(16).reshape(4,4),\n",
        "    index=[\"London\",\"Paris\",\"Berlin\",\"Istanbul\"],\n",
        "    columns=[\"one\",\"two\",\"three\",\"four\"])\n",
        "data"
      ]
    },
    {
      "cell_type": "code",
      "execution_count": null,
      "metadata": {
        "colab": {
          "base_uri": "https://localhost:8080/",
          "height": 175
        },
        "id": "VZVIqUQFRNtc",
        "outputId": "6633e62d-3519-4140-ad1c-a47b572e434c"
      },
      "outputs": [
        {
          "data": {
            "text/html": [
              "<div>\n",
              "<style scoped>\n",
              "    .dataframe tbody tr th:only-of-type {\n",
              "        vertical-align: middle;\n",
              "    }\n",
              "\n",
              "    .dataframe tbody tr th {\n",
              "        vertical-align: top;\n",
              "    }\n",
              "\n",
              "    .dataframe thead th {\n",
              "        text-align: right;\n",
              "    }\n",
              "</style>\n",
              "<table border=\"1\" class=\"dataframe\">\n",
              "  <thead>\n",
              "    <tr style=\"text-align: right;\">\n",
              "      <th></th>\n",
              "      <th>one</th>\n",
              "      <th>two</th>\n",
              "    </tr>\n",
              "  </thead>\n",
              "  <tbody>\n",
              "    <tr>\n",
              "      <th>London</th>\n",
              "      <td>0</td>\n",
              "      <td>1</td>\n",
              "    </tr>\n",
              "    <tr>\n",
              "      <th>Paris</th>\n",
              "      <td>4</td>\n",
              "      <td>5</td>\n",
              "    </tr>\n",
              "    <tr>\n",
              "      <th>Berlin</th>\n",
              "      <td>8</td>\n",
              "      <td>9</td>\n",
              "    </tr>\n",
              "    <tr>\n",
              "      <th>Istanbul</th>\n",
              "      <td>12</td>\n",
              "      <td>13</td>\n",
              "    </tr>\n",
              "  </tbody>\n",
              "</table>\n",
              "</div>"
            ],
            "text/plain": [
              "          one  two\n",
              "London      0    1\n",
              "Paris       4    5\n",
              "Berlin      8    9\n",
              "Istanbul   12   13"
            ]
          },
          "execution_count": 61,
          "metadata": {},
          "output_type": "execute_result"
        }
      ],
      "source": [
        "data[[\"one\",\"two\"]]"
      ]
    },
    {
      "cell_type": "code",
      "execution_count": null,
      "metadata": {
        "colab": {
          "base_uri": "https://localhost:8080/",
          "height": 143
        },
        "id": "34nyP_S2RRw8",
        "outputId": "3824b9dc-66da-4e39-b917-c91704705492"
      },
      "outputs": [
        {
          "data": {
            "text/html": [
              "\n",
              "  <div id=\"df-a6e145b9-9b91-4fa8-8b61-84bb8f9f3005\">\n",
              "    <div class=\"colab-df-container\">\n",
              "      <div>\n",
              "<style scoped>\n",
              "    .dataframe tbody tr th:only-of-type {\n",
              "        vertical-align: middle;\n",
              "    }\n",
              "\n",
              "    .dataframe tbody tr th {\n",
              "        vertical-align: top;\n",
              "    }\n",
              "\n",
              "    .dataframe thead th {\n",
              "        text-align: right;\n",
              "    }\n",
              "</style>\n",
              "<table border=\"1\" class=\"dataframe\">\n",
              "  <thead>\n",
              "    <tr style=\"text-align: right;\">\n",
              "      <th></th>\n",
              "      <th>one</th>\n",
              "      <th>two</th>\n",
              "      <th>three</th>\n",
              "      <th>four</th>\n",
              "    </tr>\n",
              "  </thead>\n",
              "  <tbody>\n",
              "    <tr>\n",
              "      <th>London</th>\n",
              "      <td>0</td>\n",
              "      <td>1</td>\n",
              "      <td>2</td>\n",
              "      <td>3</td>\n",
              "    </tr>\n",
              "    <tr>\n",
              "      <th>Paris</th>\n",
              "      <td>4</td>\n",
              "      <td>5</td>\n",
              "      <td>6</td>\n",
              "      <td>7</td>\n",
              "    </tr>\n",
              "    <tr>\n",
              "      <th>Berlin</th>\n",
              "      <td>8</td>\n",
              "      <td>9</td>\n",
              "      <td>10</td>\n",
              "      <td>11</td>\n",
              "    </tr>\n",
              "  </tbody>\n",
              "</table>\n",
              "</div>\n",
              "      <button class=\"colab-df-convert\" onclick=\"convertToInteractive('df-a6e145b9-9b91-4fa8-8b61-84bb8f9f3005')\"\n",
              "              title=\"Convert this dataframe to an interactive table.\"\n",
              "              style=\"display:none;\">\n",
              "        \n",
              "  <svg xmlns=\"http://www.w3.org/2000/svg\" height=\"24px\"viewBox=\"0 0 24 24\"\n",
              "       width=\"24px\">\n",
              "    <path d=\"M0 0h24v24H0V0z\" fill=\"none\"/>\n",
              "    <path d=\"M18.56 5.44l.94 2.06.94-2.06 2.06-.94-2.06-.94-.94-2.06-.94 2.06-2.06.94zm-11 1L8.5 8.5l.94-2.06 2.06-.94-2.06-.94L8.5 2.5l-.94 2.06-2.06.94zm10 10l.94 2.06.94-2.06 2.06-.94-2.06-.94-.94-2.06-.94 2.06-2.06.94z\"/><path d=\"M17.41 7.96l-1.37-1.37c-.4-.4-.92-.59-1.43-.59-.52 0-1.04.2-1.43.59L10.3 9.45l-7.72 7.72c-.78.78-.78 2.05 0 2.83L4 21.41c.39.39.9.59 1.41.59.51 0 1.02-.2 1.41-.59l7.78-7.78 2.81-2.81c.8-.78.8-2.07 0-2.86zM5.41 20L4 18.59l7.72-7.72 1.47 1.35L5.41 20z\"/>\n",
              "  </svg>\n",
              "      </button>\n",
              "      \n",
              "  <style>\n",
              "    .colab-df-container {\n",
              "      display:flex;\n",
              "      flex-wrap:wrap;\n",
              "      gap: 12px;\n",
              "    }\n",
              "\n",
              "    .colab-df-convert {\n",
              "      background-color: #E8F0FE;\n",
              "      border: none;\n",
              "      border-radius: 50%;\n",
              "      cursor: pointer;\n",
              "      display: none;\n",
              "      fill: #1967D2;\n",
              "      height: 32px;\n",
              "      padding: 0 0 0 0;\n",
              "      width: 32px;\n",
              "    }\n",
              "\n",
              "    .colab-df-convert:hover {\n",
              "      background-color: #E2EBFA;\n",
              "      box-shadow: 0px 1px 2px rgba(60, 64, 67, 0.3), 0px 1px 3px 1px rgba(60, 64, 67, 0.15);\n",
              "      fill: #174EA6;\n",
              "    }\n",
              "\n",
              "    [theme=dark] .colab-df-convert {\n",
              "      background-color: #3B4455;\n",
              "      fill: #D2E3FC;\n",
              "    }\n",
              "\n",
              "    [theme=dark] .colab-df-convert:hover {\n",
              "      background-color: #434B5C;\n",
              "      box-shadow: 0px 1px 3px 1px rgba(0, 0, 0, 0.15);\n",
              "      filter: drop-shadow(0px 1px 2px rgba(0, 0, 0, 0.3));\n",
              "      fill: #FFFFFF;\n",
              "    }\n",
              "  </style>\n",
              "\n",
              "      <script>\n",
              "        const buttonEl =\n",
              "          document.querySelector('#df-a6e145b9-9b91-4fa8-8b61-84bb8f9f3005 button.colab-df-convert');\n",
              "        buttonEl.style.display =\n",
              "          google.colab.kernel.accessAllowed ? 'block' : 'none';\n",
              "\n",
              "        async function convertToInteractive(key) {\n",
              "          const element = document.querySelector('#df-a6e145b9-9b91-4fa8-8b61-84bb8f9f3005');\n",
              "          const dataTable =\n",
              "            await google.colab.kernel.invokeFunction('convertToInteractive',\n",
              "                                                     [key], {});\n",
              "          if (!dataTable) return;\n",
              "\n",
              "          const docLinkHtml = 'Like what you see? Visit the ' +\n",
              "            '<a target=\"_blank\" href=https://colab.research.google.com/notebooks/data_table.ipynb>data table notebook</a>'\n",
              "            + ' to learn more about interactive tables.';\n",
              "          element.innerHTML = '';\n",
              "          dataTable['output_type'] = 'display_data';\n",
              "          await google.colab.output.renderOutput(dataTable, element);\n",
              "          const docLink = document.createElement('div');\n",
              "          docLink.innerHTML = docLinkHtml;\n",
              "          element.appendChild(docLink);\n",
              "        }\n",
              "      </script>\n",
              "    </div>\n",
              "  </div>\n",
              "  "
            ],
            "text/plain": [
              "        one  two  three  four\n",
              "London    0    1      2     3\n",
              "Paris     4    5      6     7\n",
              "Berlin    8    9     10    11"
            ]
          },
          "execution_count": 62,
          "metadata": {},
          "output_type": "execute_result"
        }
      ],
      "source": [
        "data[:3]"
      ]
    },
    {
      "cell_type": "code",
      "execution_count": null,
      "metadata": {
        "colab": {
          "base_uri": "https://localhost:8080/",
          "height": 143
        },
        "id": "rglR0OFzRTac",
        "outputId": "bf21addf-24da-455d-91e5-e73cd7dc22af"
      },
      "outputs": [
        {
          "data": {
            "text/html": [
              "<div>\n",
              "<style scoped>\n",
              "    .dataframe tbody tr th:only-of-type {\n",
              "        vertical-align: middle;\n",
              "    }\n",
              "\n",
              "    .dataframe tbody tr th {\n",
              "        vertical-align: top;\n",
              "    }\n",
              "\n",
              "    .dataframe thead th {\n",
              "        text-align: right;\n",
              "    }\n",
              "</style>\n",
              "<table border=\"1\" class=\"dataframe\">\n",
              "  <thead>\n",
              "    <tr style=\"text-align: right;\">\n",
              "      <th></th>\n",
              "      <th>one</th>\n",
              "      <th>two</th>\n",
              "      <th>three</th>\n",
              "      <th>four</th>\n",
              "    </tr>\n",
              "  </thead>\n",
              "  <tbody>\n",
              "    <tr>\n",
              "      <th>Paris</th>\n",
              "      <td>4</td>\n",
              "      <td>5</td>\n",
              "      <td>6</td>\n",
              "      <td>7</td>\n",
              "    </tr>\n",
              "    <tr>\n",
              "      <th>Berlin</th>\n",
              "      <td>8</td>\n",
              "      <td>9</td>\n",
              "      <td>10</td>\n",
              "      <td>11</td>\n",
              "    </tr>\n",
              "    <tr>\n",
              "      <th>Istanbul</th>\n",
              "      <td>12</td>\n",
              "      <td>13</td>\n",
              "      <td>14</td>\n",
              "      <td>15</td>\n",
              "    </tr>\n",
              "  </tbody>\n",
              "</table>\n",
              "</div>"
            ],
            "text/plain": [
              "          one  two  three  four\n",
              "Paris       4    5      6     7\n",
              "Berlin      8    9     10    11\n",
              "Istanbul   12   13     14    15"
            ]
          },
          "execution_count": 62,
          "metadata": {},
          "output_type": "execute_result"
        }
      ],
      "source": [
        "data[data[\"four\"]>5]"
      ]
    },
    {
      "cell_type": "markdown",
      "metadata": {
        "id": "yHDDKsFZRZaX"
      },
      "source": [
        "# Selecting with iloc and loc"
      ]
    },
    {
      "cell_type": "code",
      "execution_count": null,
      "metadata": {
        "colab": {
          "base_uri": "https://localhost:8080/"
        },
        "id": "5uZXS_LvRWfM",
        "outputId": "66d3a4b0-8fe0-4bfe-9f27-b4a708c70fed"
      },
      "outputs": [
        {
          "data": {
            "text/html": [
              "<div>\n",
              "<style scoped>\n",
              "    .dataframe tbody tr th:only-of-type {\n",
              "        vertical-align: middle;\n",
              "    }\n",
              "\n",
              "    .dataframe tbody tr th {\n",
              "        vertical-align: top;\n",
              "    }\n",
              "\n",
              "    .dataframe thead th {\n",
              "        text-align: right;\n",
              "    }\n",
              "</style>\n",
              "<table border=\"1\" class=\"dataframe\">\n",
              "  <thead>\n",
              "    <tr style=\"text-align: right;\">\n",
              "      <th></th>\n",
              "      <th>one</th>\n",
              "      <th>two</th>\n",
              "      <th>three</th>\n",
              "      <th>four</th>\n",
              "    </tr>\n",
              "  </thead>\n",
              "  <tbody>\n",
              "    <tr>\n",
              "      <th>Paris</th>\n",
              "      <td>4</td>\n",
              "      <td>5</td>\n",
              "      <td>6</td>\n",
              "      <td>7</td>\n",
              "    </tr>\n",
              "    <tr>\n",
              "      <th>Berlin</th>\n",
              "      <td>8</td>\n",
              "      <td>9</td>\n",
              "      <td>10</td>\n",
              "      <td>11</td>\n",
              "    </tr>\n",
              "    <tr>\n",
              "      <th>Istanbul</th>\n",
              "      <td>12</td>\n",
              "      <td>13</td>\n",
              "      <td>14</td>\n",
              "      <td>15</td>\n",
              "    </tr>\n",
              "  </tbody>\n",
              "</table>\n",
              "</div>"
            ],
            "text/plain": [
              "          one  two  three  four\n",
              "Paris       4    5      6     7\n",
              "Berlin      8    9     10    11\n",
              "Istanbul   12   13     14    15"
            ]
          },
          "execution_count": 66,
          "metadata": {},
          "output_type": "execute_result"
        }
      ],
      "source": [
        "data.iloc[1:4]"
      ]
    },
    {
      "cell_type": "code",
      "execution_count": null,
      "metadata": {
        "colab": {
          "base_uri": "https://localhost:8080/"
        },
        "id": "Zcs-Cx9BRcLN",
        "outputId": "f118b0d8-be78-471f-8921-64f99e5f2de3"
      },
      "outputs": [
        {
          "data": {
            "text/plain": [
              "two      5\n",
              "three    6\n",
              "four     7\n",
              "Name: Paris, dtype: int32"
            ]
          },
          "execution_count": 67,
          "metadata": {},
          "output_type": "execute_result"
        }
      ],
      "source": [
        "data.iloc[1,[1,2,3]]"
      ]
    },
    {
      "cell_type": "code",
      "execution_count": null,
      "metadata": {
        "colab": {
          "base_uri": "https://localhost:8080/",
          "height": 112
        },
        "id": "EbZGZUYxRhyF",
        "outputId": "be530505-599e-4b52-8abf-6191a22e5a28"
      },
      "outputs": [
        {
          "data": {
            "text/html": [
              "<div>\n",
              "<style scoped>\n",
              "    .dataframe tbody tr th:only-of-type {\n",
              "        vertical-align: middle;\n",
              "    }\n",
              "\n",
              "    .dataframe tbody tr th {\n",
              "        vertical-align: top;\n",
              "    }\n",
              "\n",
              "    .dataframe thead th {\n",
              "        text-align: right;\n",
              "    }\n",
              "</style>\n",
              "<table border=\"1\" class=\"dataframe\">\n",
              "  <thead>\n",
              "    <tr style=\"text-align: right;\">\n",
              "      <th></th>\n",
              "      <th>two</th>\n",
              "      <th>four</th>\n",
              "    </tr>\n",
              "  </thead>\n",
              "  <tbody>\n",
              "    <tr>\n",
              "      <th>Paris</th>\n",
              "      <td>5</td>\n",
              "      <td>7</td>\n",
              "    </tr>\n",
              "    <tr>\n",
              "      <th>Istanbul</th>\n",
              "      <td>13</td>\n",
              "      <td>15</td>\n",
              "    </tr>\n",
              "  </tbody>\n",
              "</table>\n",
              "</div>"
            ],
            "text/plain": [
              "          two  four\n",
              "Paris       5     7\n",
              "Istanbul   13    15"
            ]
          },
          "execution_count": 74,
          "metadata": {},
          "output_type": "execute_result"
        }
      ],
      "source": [
        "data.iloc[[1,3],[1,3]]"
      ]
    },
    {
      "cell_type": "code",
      "execution_count": null,
      "metadata": {
        "colab": {
          "base_uri": "https://localhost:8080/"
        },
        "id": "KMZT59taRpOV",
        "outputId": "0e122417-df9c-4980-f0be-3323cda78ed4"
      },
      "outputs": [
        {
          "data": {
            "text/plain": [
              "one    4\n",
              "two    5\n",
              "Name: Paris, dtype: int32"
            ]
          },
          "execution_count": 76,
          "metadata": {},
          "output_type": "execute_result"
        }
      ],
      "source": [
        "data.loc[\"Paris\",[\"one\",\"two\"]]"
      ]
    },
    {
      "cell_type": "markdown",
      "metadata": {
        "id": "zZn34pk2VkAf"
      },
      "source": [
        "## Groupby"
      ]
    },
    {
      "cell_type": "code",
      "execution_count": null,
      "metadata": {
        "id": "Djbbh0Z_Rs1V",
        "outputId": "16739f40-9f7b-4124-8ca5-03db04f93d1c"
      },
      "outputs": [
        {
          "name": "stdout",
          "output_type": "stream",
          "text": [
            "Category\n",
            "A     70\n",
            "B    100\n",
            "Name: Value, dtype: int64\n"
          ]
        }
      ],
      "source": [
        "# Sample DataFrame\n",
        "data = {'Category': ['A', 'B', 'A', 'B', 'A', 'B'],\n",
        "        'Value': [10, 20, 10, 20, 50, 60]}\n",
        "df = pd.DataFrame(data)\n",
        "\n",
        "# Grouping by the 'Category' column\n",
        "grouped = df.groupby('Category')\n",
        "\n",
        "# Now, you can perform various operations on each group\n",
        "# For example, let's calculate the sum for each group:\n",
        "grouped_sum = grouped['Value'].sum()\n",
        "print(grouped_sum)"
      ]
    },
    {
      "cell_type": "code",
      "execution_count": null,
      "metadata": {
        "id": "abcUEpNQVkAg",
        "outputId": "f48dd63b-aeed-4ea5-e06d-f0ab45b3865b"
      },
      "outputs": [
        {
          "name": "stdout",
          "output_type": "stream",
          "text": [
            "         Value                                                    \n",
            "         count       mean        std   min   25%   50%   75%   max\n",
            "Category                                                          \n",
            "A          3.0  23.333333  23.094011  10.0  10.0  10.0  30.0  50.0\n",
            "B          3.0  33.333333  23.094011  20.0  20.0  20.0  40.0  60.0\n"
          ]
        }
      ],
      "source": [
        "print(grouped.describe())"
      ]
    },
    {
      "cell_type": "code",
      "execution_count": null,
      "metadata": {
        "id": "WRszdw1nVkAg",
        "outputId": "74f0b4c9-7c51-4989-aca4-7bdbe42b0c00"
      },
      "outputs": [
        {
          "name": "stdout",
          "output_type": "stream",
          "text": [
            "  Category  Value\n",
            "0        A     10\n",
            "2        A     10\n",
            "4        A     50\n",
            "  Category  Value\n",
            "1        B     20\n",
            "3        B     20\n",
            "5        B     60\n"
          ]
        },
        {
          "data": {
            "text/html": [
              "<div>\n",
              "<style scoped>\n",
              "    .dataframe tbody tr th:only-of-type {\n",
              "        vertical-align: middle;\n",
              "    }\n",
              "\n",
              "    .dataframe tbody tr th {\n",
              "        vertical-align: top;\n",
              "    }\n",
              "\n",
              "    .dataframe thead th {\n",
              "        text-align: right;\n",
              "    }\n",
              "</style>\n",
              "<table border=\"1\" class=\"dataframe\">\n",
              "  <thead>\n",
              "    <tr style=\"text-align: right;\">\n",
              "      <th></th>\n",
              "    </tr>\n",
              "  </thead>\n",
              "  <tbody>\n",
              "  </tbody>\n",
              "</table>\n",
              "</div>"
            ],
            "text/plain": [
              "Empty DataFrame\n",
              "Columns: []\n",
              "Index: []"
            ]
          },
          "execution_count": 5,
          "metadata": {},
          "output_type": "execute_result"
        }
      ],
      "source": [
        "grouped.apply(print)"
      ]
    },
    {
      "cell_type": "code",
      "execution_count": null,
      "metadata": {
        "id": "CEhuBYadVkAg",
        "outputId": "318252df-55dc-4361-aa88-3215cf365daf"
      },
      "outputs": [
        {
          "name": "stdout",
          "output_type": "stream",
          "text": [
            "Group: A\n",
            "  Category  Value\n",
            "0        A     10\n",
            "2        A     10\n",
            "4        A     50\n",
            "\n",
            "\n",
            "Group: B\n",
            "  Category  Value\n",
            "1        B     20\n",
            "3        B     20\n",
            "5        B     60\n",
            "\n",
            "\n"
          ]
        }
      ],
      "source": [
        "for group_name, group_data in grouped:\n",
        "    print(f'Group: {group_name}')\n",
        "    print(group_data)\n",
        "    print('\\n')"
      ]
    },
    {
      "cell_type": "code",
      "execution_count": null,
      "metadata": {
        "id": "DIPLj5tUVkAg",
        "outputId": "86d9c542-079c-4555-a2d8-2a9ad57071eb"
      },
      "outputs": [
        {
          "name": "stdout",
          "output_type": "stream",
          "text": [
            "Category  Value\n",
            "A         10       20\n",
            "          50       50\n",
            "B         20       40\n",
            "          60       60\n",
            "Name: Value, dtype: int64\n"
          ]
        }
      ],
      "source": [
        "# Sample DataFrame\n",
        "data = {'Category': ['A', 'B', 'A', 'B', 'A', 'B'],\n",
        "        'Value': [10, 20, 10, 20, 50, 60]}\n",
        "df = pd.DataFrame(data)\n",
        "\n",
        "# Grouping by the 'Category' column\n",
        "grouped = df.groupby(['Category','Value'])\n",
        "\n",
        "# Now, you can perform various operations on each group\n",
        "# For example, let's calculate the sum for each group:\n",
        "grouped_sum = grouped['Value'].sum()\n",
        "print(grouped_sum)"
      ]
    },
    {
      "cell_type": "code",
      "execution_count": null,
      "metadata": {
        "id": "34xm4_WKVkAh",
        "outputId": "c0a9718e-5346-4021-85d4-90565abf756c"
      },
      "outputs": [
        {
          "name": "stdout",
          "output_type": "stream",
          "text": [
            "  Category  Value\n",
            "0        A     10\n",
            "2        A     10\n",
            "  Category  Value\n",
            "4        A     50\n",
            "  Category  Value\n",
            "1        B     20\n",
            "3        B     20\n",
            "  Category  Value\n",
            "5        B     60\n"
          ]
        },
        {
          "data": {
            "text/html": [
              "<div>\n",
              "<style scoped>\n",
              "    .dataframe tbody tr th:only-of-type {\n",
              "        vertical-align: middle;\n",
              "    }\n",
              "\n",
              "    .dataframe tbody tr th {\n",
              "        vertical-align: top;\n",
              "    }\n",
              "\n",
              "    .dataframe thead th {\n",
              "        text-align: right;\n",
              "    }\n",
              "</style>\n",
              "<table border=\"1\" class=\"dataframe\">\n",
              "  <thead>\n",
              "    <tr style=\"text-align: right;\">\n",
              "      <th></th>\n",
              "    </tr>\n",
              "  </thead>\n",
              "  <tbody>\n",
              "  </tbody>\n",
              "</table>\n",
              "</div>"
            ],
            "text/plain": [
              "Empty DataFrame\n",
              "Columns: []\n",
              "Index: []"
            ]
          },
          "execution_count": 8,
          "metadata": {},
          "output_type": "execute_result"
        }
      ],
      "source": [
        "grouped.apply(print)"
      ]
    },
    {
      "cell_type": "code",
      "execution_count": null,
      "metadata": {
        "id": "IBgdUFLvVkAh",
        "outputId": "1d0b8ffe-3f93-4427-ab64-1ac902ae18cc"
      },
      "outputs": [
        {
          "name": "stdout",
          "output_type": "stream",
          "text": [
            "Group: ('A', 10)\n",
            "  Category  Value\n",
            "0        A     10\n",
            "2        A     10\n",
            "\n",
            "\n",
            "Group: ('A', 50)\n",
            "  Category  Value\n",
            "4        A     50\n",
            "\n",
            "\n",
            "Group: ('B', 20)\n",
            "  Category  Value\n",
            "1        B     20\n",
            "3        B     20\n",
            "\n",
            "\n",
            "Group: ('B', 60)\n",
            "  Category  Value\n",
            "5        B     60\n",
            "\n",
            "\n"
          ]
        }
      ],
      "source": [
        "for group_name, group_data in grouped:\n",
        "    print(f'Group: {group_name}')\n",
        "    print(group_data)\n",
        "    print('\\n')"
      ]
    },
    {
      "cell_type": "markdown",
      "metadata": {
        "id": "ldIWdqFGADt1"
      },
      "source": [
        "# Lab Task 1"
      ]
    },
    {
      "cell_type": "markdown",
      "metadata": {
        "id": "JtakryDsVkAh"
      },
      "source": [
        "Import the libraries numpy and pandas"
      ]
    },
    {
      "cell_type": "code",
      "execution_count": 34,
      "metadata": {
        "id": "ZGpLWEmlVkAh"
      },
      "outputs": [],
      "source": [
        "# YOUR CODE HERE\n",
        "import pandas as pd\n",
        "import numpy as np"
      ]
    },
    {
      "cell_type": "markdown",
      "metadata": {
        "id": "aREZg8pxVkAi"
      },
      "source": [
        "* upload Match.csv\n",
        "* use pd.read_csv(file_path) to read this file"
      ]
    },
    {
      "cell_type": "code",
      "execution_count": 13,
      "metadata": {
        "colab": {
          "base_uri": "https://localhost:8080/",
          "height": 774
        },
        "id": "do9PMu3oVkAi",
        "outputId": "e3f01d76-84d1-4470-8691-5542f3833497"
      },
      "outputs": [
        {
          "output_type": "execute_result",
          "data": {
            "text/plain": [
              "     Match_Id Match_Date  Team_Name_Id  Opponent_Team_Id  Season_Id  \\\n",
              "0      335987  18-Apr-08             2                 1          1   \n",
              "1      335988  19-Apr-08             4                 3          1   \n",
              "2      335989  19-Apr-08             6                 5          1   \n",
              "3      335990  20-Apr-08             7                 2          1   \n",
              "4      335991  20-Apr-08             1                 8          1   \n",
              "..        ...        ...           ...               ...        ...   \n",
              "572    981016  22-May-16             6                 2          9   \n",
              "573    981018  24-May-16            13                 2          9   \n",
              "574    981020  25-May-16            11                 1          9   \n",
              "575    981022  27-May-16            13                11          9   \n",
              "576    981024  29-May-16             2                11          9   \n",
              "\n",
              "                                           Venue_Name  Toss_Winner_Id  \\\n",
              "0                               M Chinnaswamy Stadium               2   \n",
              "1          Punjab Cricket Association Stadium, Mohali               3   \n",
              "2                                    Feroz Shah Kotla               5   \n",
              "3                                    Wankhede Stadium               7   \n",
              "4                                        Eden Gardens               8   \n",
              "..                                                ...             ...   \n",
              "572  Shaheed Veer Narayan Singh International Stadium               2   \n",
              "573                             M Chinnaswamy Stadium               2   \n",
              "574                                  Feroz Shah Kotla               1   \n",
              "575                                  Feroz Shah Kotla              11   \n",
              "576                             M Chinnaswamy Stadium              11   \n",
              "\n",
              "    Toss_Decision  IS_Superover  IS_Result  Is_DuckWorthLewis    Win_Type  \\\n",
              "0           field             0          1                  0     by runs   \n",
              "1             bat             0          1                  0     by runs   \n",
              "2             bat             0          1                  0  by wickets   \n",
              "3             bat             0          1                  0  by wickets   \n",
              "4             bat             0          1                  0  by wickets   \n",
              "..            ...           ...        ...                ...         ...   \n",
              "572         field             0          1                  0  by wickets   \n",
              "573         field             0          1                  0  by wickets   \n",
              "574         field             0          1                  0     by runs   \n",
              "575         field             0          1                  0  by wickets   \n",
              "576           bat             0          1                  0     by runs   \n",
              "\n",
              "     Won_By  Match_Winner_Id  Man_Of_The_Match_Id  First_Umpire_Id  \\\n",
              "0     140.0              1.0                  2.0              470   \n",
              "1      33.0              3.0                 19.0              471   \n",
              "2       9.0              6.0                 90.0              472   \n",
              "3       5.0              2.0                 11.0              473   \n",
              "4       5.0              1.0                  4.0              474   \n",
              "..      ...              ...                  ...              ...   \n",
              "572     6.0              2.0                  8.0              511   \n",
              "573     4.0              2.0                110.0              495   \n",
              "574    22.0             11.0                163.0              481   \n",
              "575     4.0             11.0                187.0              481   \n",
              "576     8.0             11.0                385.0              482   \n",
              "\n",
              "     Second_Umpire_Id   City_Name Host_Country  \n",
              "0                 477   Bangalore        India  \n",
              "1                 487  Chandigarh        India  \n",
              "2                 512       Delhi        India  \n",
              "3                 476      Mumbai        India  \n",
              "4                 486     Kolkata        India  \n",
              "..                ...         ...          ...  \n",
              "572               497      Raipur        India  \n",
              "573               482   Bangalore        India  \n",
              "574               499       Delhi        India  \n",
              "575               498       Delhi        India  \n",
              "576               497   Bangalore        India  \n",
              "\n",
              "[577 rows x 19 columns]"
            ],
            "text/html": [
              "\n",
              "  <div id=\"df-ba1f8b09-7cff-4e16-8698-f46f4de1e62a\" class=\"colab-df-container\">\n",
              "    <div>\n",
              "<style scoped>\n",
              "    .dataframe tbody tr th:only-of-type {\n",
              "        vertical-align: middle;\n",
              "    }\n",
              "\n",
              "    .dataframe tbody tr th {\n",
              "        vertical-align: top;\n",
              "    }\n",
              "\n",
              "    .dataframe thead th {\n",
              "        text-align: right;\n",
              "    }\n",
              "</style>\n",
              "<table border=\"1\" class=\"dataframe\">\n",
              "  <thead>\n",
              "    <tr style=\"text-align: right;\">\n",
              "      <th></th>\n",
              "      <th>Match_Id</th>\n",
              "      <th>Match_Date</th>\n",
              "      <th>Team_Name_Id</th>\n",
              "      <th>Opponent_Team_Id</th>\n",
              "      <th>Season_Id</th>\n",
              "      <th>Venue_Name</th>\n",
              "      <th>Toss_Winner_Id</th>\n",
              "      <th>Toss_Decision</th>\n",
              "      <th>IS_Superover</th>\n",
              "      <th>IS_Result</th>\n",
              "      <th>Is_DuckWorthLewis</th>\n",
              "      <th>Win_Type</th>\n",
              "      <th>Won_By</th>\n",
              "      <th>Match_Winner_Id</th>\n",
              "      <th>Man_Of_The_Match_Id</th>\n",
              "      <th>First_Umpire_Id</th>\n",
              "      <th>Second_Umpire_Id</th>\n",
              "      <th>City_Name</th>\n",
              "      <th>Host_Country</th>\n",
              "    </tr>\n",
              "  </thead>\n",
              "  <tbody>\n",
              "    <tr>\n",
              "      <th>0</th>\n",
              "      <td>335987</td>\n",
              "      <td>18-Apr-08</td>\n",
              "      <td>2</td>\n",
              "      <td>1</td>\n",
              "      <td>1</td>\n",
              "      <td>M Chinnaswamy Stadium</td>\n",
              "      <td>2</td>\n",
              "      <td>field</td>\n",
              "      <td>0</td>\n",
              "      <td>1</td>\n",
              "      <td>0</td>\n",
              "      <td>by runs</td>\n",
              "      <td>140.0</td>\n",
              "      <td>1.0</td>\n",
              "      <td>2.0</td>\n",
              "      <td>470</td>\n",
              "      <td>477</td>\n",
              "      <td>Bangalore</td>\n",
              "      <td>India</td>\n",
              "    </tr>\n",
              "    <tr>\n",
              "      <th>1</th>\n",
              "      <td>335988</td>\n",
              "      <td>19-Apr-08</td>\n",
              "      <td>4</td>\n",
              "      <td>3</td>\n",
              "      <td>1</td>\n",
              "      <td>Punjab Cricket Association Stadium, Mohali</td>\n",
              "      <td>3</td>\n",
              "      <td>bat</td>\n",
              "      <td>0</td>\n",
              "      <td>1</td>\n",
              "      <td>0</td>\n",
              "      <td>by runs</td>\n",
              "      <td>33.0</td>\n",
              "      <td>3.0</td>\n",
              "      <td>19.0</td>\n",
              "      <td>471</td>\n",
              "      <td>487</td>\n",
              "      <td>Chandigarh</td>\n",
              "      <td>India</td>\n",
              "    </tr>\n",
              "    <tr>\n",
              "      <th>2</th>\n",
              "      <td>335989</td>\n",
              "      <td>19-Apr-08</td>\n",
              "      <td>6</td>\n",
              "      <td>5</td>\n",
              "      <td>1</td>\n",
              "      <td>Feroz Shah Kotla</td>\n",
              "      <td>5</td>\n",
              "      <td>bat</td>\n",
              "      <td>0</td>\n",
              "      <td>1</td>\n",
              "      <td>0</td>\n",
              "      <td>by wickets</td>\n",
              "      <td>9.0</td>\n",
              "      <td>6.0</td>\n",
              "      <td>90.0</td>\n",
              "      <td>472</td>\n",
              "      <td>512</td>\n",
              "      <td>Delhi</td>\n",
              "      <td>India</td>\n",
              "    </tr>\n",
              "    <tr>\n",
              "      <th>3</th>\n",
              "      <td>335990</td>\n",
              "      <td>20-Apr-08</td>\n",
              "      <td>7</td>\n",
              "      <td>2</td>\n",
              "      <td>1</td>\n",
              "      <td>Wankhede Stadium</td>\n",
              "      <td>7</td>\n",
              "      <td>bat</td>\n",
              "      <td>0</td>\n",
              "      <td>1</td>\n",
              "      <td>0</td>\n",
              "      <td>by wickets</td>\n",
              "      <td>5.0</td>\n",
              "      <td>2.0</td>\n",
              "      <td>11.0</td>\n",
              "      <td>473</td>\n",
              "      <td>476</td>\n",
              "      <td>Mumbai</td>\n",
              "      <td>India</td>\n",
              "    </tr>\n",
              "    <tr>\n",
              "      <th>4</th>\n",
              "      <td>335991</td>\n",
              "      <td>20-Apr-08</td>\n",
              "      <td>1</td>\n",
              "      <td>8</td>\n",
              "      <td>1</td>\n",
              "      <td>Eden Gardens</td>\n",
              "      <td>8</td>\n",
              "      <td>bat</td>\n",
              "      <td>0</td>\n",
              "      <td>1</td>\n",
              "      <td>0</td>\n",
              "      <td>by wickets</td>\n",
              "      <td>5.0</td>\n",
              "      <td>1.0</td>\n",
              "      <td>4.0</td>\n",
              "      <td>474</td>\n",
              "      <td>486</td>\n",
              "      <td>Kolkata</td>\n",
              "      <td>India</td>\n",
              "    </tr>\n",
              "    <tr>\n",
              "      <th>...</th>\n",
              "      <td>...</td>\n",
              "      <td>...</td>\n",
              "      <td>...</td>\n",
              "      <td>...</td>\n",
              "      <td>...</td>\n",
              "      <td>...</td>\n",
              "      <td>...</td>\n",
              "      <td>...</td>\n",
              "      <td>...</td>\n",
              "      <td>...</td>\n",
              "      <td>...</td>\n",
              "      <td>...</td>\n",
              "      <td>...</td>\n",
              "      <td>...</td>\n",
              "      <td>...</td>\n",
              "      <td>...</td>\n",
              "      <td>...</td>\n",
              "      <td>...</td>\n",
              "      <td>...</td>\n",
              "    </tr>\n",
              "    <tr>\n",
              "      <th>572</th>\n",
              "      <td>981016</td>\n",
              "      <td>22-May-16</td>\n",
              "      <td>6</td>\n",
              "      <td>2</td>\n",
              "      <td>9</td>\n",
              "      <td>Shaheed Veer Narayan Singh International Stadium</td>\n",
              "      <td>2</td>\n",
              "      <td>field</td>\n",
              "      <td>0</td>\n",
              "      <td>1</td>\n",
              "      <td>0</td>\n",
              "      <td>by wickets</td>\n",
              "      <td>6.0</td>\n",
              "      <td>2.0</td>\n",
              "      <td>8.0</td>\n",
              "      <td>511</td>\n",
              "      <td>497</td>\n",
              "      <td>Raipur</td>\n",
              "      <td>India</td>\n",
              "    </tr>\n",
              "    <tr>\n",
              "      <th>573</th>\n",
              "      <td>981018</td>\n",
              "      <td>24-May-16</td>\n",
              "      <td>13</td>\n",
              "      <td>2</td>\n",
              "      <td>9</td>\n",
              "      <td>M Chinnaswamy Stadium</td>\n",
              "      <td>2</td>\n",
              "      <td>field</td>\n",
              "      <td>0</td>\n",
              "      <td>1</td>\n",
              "      <td>0</td>\n",
              "      <td>by wickets</td>\n",
              "      <td>4.0</td>\n",
              "      <td>2.0</td>\n",
              "      <td>110.0</td>\n",
              "      <td>495</td>\n",
              "      <td>482</td>\n",
              "      <td>Bangalore</td>\n",
              "      <td>India</td>\n",
              "    </tr>\n",
              "    <tr>\n",
              "      <th>574</th>\n",
              "      <td>981020</td>\n",
              "      <td>25-May-16</td>\n",
              "      <td>11</td>\n",
              "      <td>1</td>\n",
              "      <td>9</td>\n",
              "      <td>Feroz Shah Kotla</td>\n",
              "      <td>1</td>\n",
              "      <td>field</td>\n",
              "      <td>0</td>\n",
              "      <td>1</td>\n",
              "      <td>0</td>\n",
              "      <td>by runs</td>\n",
              "      <td>22.0</td>\n",
              "      <td>11.0</td>\n",
              "      <td>163.0</td>\n",
              "      <td>481</td>\n",
              "      <td>499</td>\n",
              "      <td>Delhi</td>\n",
              "      <td>India</td>\n",
              "    </tr>\n",
              "    <tr>\n",
              "      <th>575</th>\n",
              "      <td>981022</td>\n",
              "      <td>27-May-16</td>\n",
              "      <td>13</td>\n",
              "      <td>11</td>\n",
              "      <td>9</td>\n",
              "      <td>Feroz Shah Kotla</td>\n",
              "      <td>11</td>\n",
              "      <td>field</td>\n",
              "      <td>0</td>\n",
              "      <td>1</td>\n",
              "      <td>0</td>\n",
              "      <td>by wickets</td>\n",
              "      <td>4.0</td>\n",
              "      <td>11.0</td>\n",
              "      <td>187.0</td>\n",
              "      <td>481</td>\n",
              "      <td>498</td>\n",
              "      <td>Delhi</td>\n",
              "      <td>India</td>\n",
              "    </tr>\n",
              "    <tr>\n",
              "      <th>576</th>\n",
              "      <td>981024</td>\n",
              "      <td>29-May-16</td>\n",
              "      <td>2</td>\n",
              "      <td>11</td>\n",
              "      <td>9</td>\n",
              "      <td>M Chinnaswamy Stadium</td>\n",
              "      <td>11</td>\n",
              "      <td>bat</td>\n",
              "      <td>0</td>\n",
              "      <td>1</td>\n",
              "      <td>0</td>\n",
              "      <td>by runs</td>\n",
              "      <td>8.0</td>\n",
              "      <td>11.0</td>\n",
              "      <td>385.0</td>\n",
              "      <td>482</td>\n",
              "      <td>497</td>\n",
              "      <td>Bangalore</td>\n",
              "      <td>India</td>\n",
              "    </tr>\n",
              "  </tbody>\n",
              "</table>\n",
              "<p>577 rows × 19 columns</p>\n",
              "</div>\n",
              "    <div class=\"colab-df-buttons\">\n",
              "\n",
              "  <div class=\"colab-df-container\">\n",
              "    <button class=\"colab-df-convert\" onclick=\"convertToInteractive('df-ba1f8b09-7cff-4e16-8698-f46f4de1e62a')\"\n",
              "            title=\"Convert this dataframe to an interactive table.\"\n",
              "            style=\"display:none;\">\n",
              "\n",
              "  <svg xmlns=\"http://www.w3.org/2000/svg\" height=\"24px\" viewBox=\"0 -960 960 960\">\n",
              "    <path d=\"M120-120v-720h720v720H120Zm60-500h600v-160H180v160Zm220 220h160v-160H400v160Zm0 220h160v-160H400v160ZM180-400h160v-160H180v160Zm440 0h160v-160H620v160ZM180-180h160v-160H180v160Zm440 0h160v-160H620v160Z\"/>\n",
              "  </svg>\n",
              "    </button>\n",
              "\n",
              "  <style>\n",
              "    .colab-df-container {\n",
              "      display:flex;\n",
              "      gap: 12px;\n",
              "    }\n",
              "\n",
              "    .colab-df-convert {\n",
              "      background-color: #E8F0FE;\n",
              "      border: none;\n",
              "      border-radius: 50%;\n",
              "      cursor: pointer;\n",
              "      display: none;\n",
              "      fill: #1967D2;\n",
              "      height: 32px;\n",
              "      padding: 0 0 0 0;\n",
              "      width: 32px;\n",
              "    }\n",
              "\n",
              "    .colab-df-convert:hover {\n",
              "      background-color: #E2EBFA;\n",
              "      box-shadow: 0px 1px 2px rgba(60, 64, 67, 0.3), 0px 1px 3px 1px rgba(60, 64, 67, 0.15);\n",
              "      fill: #174EA6;\n",
              "    }\n",
              "\n",
              "    .colab-df-buttons div {\n",
              "      margin-bottom: 4px;\n",
              "    }\n",
              "\n",
              "    [theme=dark] .colab-df-convert {\n",
              "      background-color: #3B4455;\n",
              "      fill: #D2E3FC;\n",
              "    }\n",
              "\n",
              "    [theme=dark] .colab-df-convert:hover {\n",
              "      background-color: #434B5C;\n",
              "      box-shadow: 0px 1px 3px 1px rgba(0, 0, 0, 0.15);\n",
              "      filter: drop-shadow(0px 1px 2px rgba(0, 0, 0, 0.3));\n",
              "      fill: #FFFFFF;\n",
              "    }\n",
              "  </style>\n",
              "\n",
              "    <script>\n",
              "      const buttonEl =\n",
              "        document.querySelector('#df-ba1f8b09-7cff-4e16-8698-f46f4de1e62a button.colab-df-convert');\n",
              "      buttonEl.style.display =\n",
              "        google.colab.kernel.accessAllowed ? 'block' : 'none';\n",
              "\n",
              "      async function convertToInteractive(key) {\n",
              "        const element = document.querySelector('#df-ba1f8b09-7cff-4e16-8698-f46f4de1e62a');\n",
              "        const dataTable =\n",
              "          await google.colab.kernel.invokeFunction('convertToInteractive',\n",
              "                                                    [key], {});\n",
              "        if (!dataTable) return;\n",
              "\n",
              "        const docLinkHtml = 'Like what you see? Visit the ' +\n",
              "          '<a target=\"_blank\" href=https://colab.research.google.com/notebooks/data_table.ipynb>data table notebook</a>'\n",
              "          + ' to learn more about interactive tables.';\n",
              "        element.innerHTML = '';\n",
              "        dataTable['output_type'] = 'display_data';\n",
              "        await google.colab.output.renderOutput(dataTable, element);\n",
              "        const docLink = document.createElement('div');\n",
              "        docLink.innerHTML = docLinkHtml;\n",
              "        element.appendChild(docLink);\n",
              "      }\n",
              "    </script>\n",
              "  </div>\n",
              "\n",
              "\n",
              "<div id=\"df-05a5a6fd-7344-4b82-8df0-422f3899ed92\">\n",
              "  <button class=\"colab-df-quickchart\" onclick=\"quickchart('df-05a5a6fd-7344-4b82-8df0-422f3899ed92')\"\n",
              "            title=\"Suggest charts.\"\n",
              "            style=\"display:none;\">\n",
              "\n",
              "<svg xmlns=\"http://www.w3.org/2000/svg\" height=\"24px\"viewBox=\"0 0 24 24\"\n",
              "     width=\"24px\">\n",
              "    <g>\n",
              "        <path d=\"M19 3H5c-1.1 0-2 .9-2 2v14c0 1.1.9 2 2 2h14c1.1 0 2-.9 2-2V5c0-1.1-.9-2-2-2zM9 17H7v-7h2v7zm4 0h-2V7h2v10zm4 0h-2v-4h2v4z\"/>\n",
              "    </g>\n",
              "</svg>\n",
              "  </button>\n",
              "\n",
              "<style>\n",
              "  .colab-df-quickchart {\n",
              "      --bg-color: #E8F0FE;\n",
              "      --fill-color: #1967D2;\n",
              "      --hover-bg-color: #E2EBFA;\n",
              "      --hover-fill-color: #174EA6;\n",
              "      --disabled-fill-color: #AAA;\n",
              "      --disabled-bg-color: #DDD;\n",
              "  }\n",
              "\n",
              "  [theme=dark] .colab-df-quickchart {\n",
              "      --bg-color: #3B4455;\n",
              "      --fill-color: #D2E3FC;\n",
              "      --hover-bg-color: #434B5C;\n",
              "      --hover-fill-color: #FFFFFF;\n",
              "      --disabled-bg-color: #3B4455;\n",
              "      --disabled-fill-color: #666;\n",
              "  }\n",
              "\n",
              "  .colab-df-quickchart {\n",
              "    background-color: var(--bg-color);\n",
              "    border: none;\n",
              "    border-radius: 50%;\n",
              "    cursor: pointer;\n",
              "    display: none;\n",
              "    fill: var(--fill-color);\n",
              "    height: 32px;\n",
              "    padding: 0;\n",
              "    width: 32px;\n",
              "  }\n",
              "\n",
              "  .colab-df-quickchart:hover {\n",
              "    background-color: var(--hover-bg-color);\n",
              "    box-shadow: 0 1px 2px rgba(60, 64, 67, 0.3), 0 1px 3px 1px rgba(60, 64, 67, 0.15);\n",
              "    fill: var(--button-hover-fill-color);\n",
              "  }\n",
              "\n",
              "  .colab-df-quickchart-complete:disabled,\n",
              "  .colab-df-quickchart-complete:disabled:hover {\n",
              "    background-color: var(--disabled-bg-color);\n",
              "    fill: var(--disabled-fill-color);\n",
              "    box-shadow: none;\n",
              "  }\n",
              "\n",
              "  .colab-df-spinner {\n",
              "    border: 2px solid var(--fill-color);\n",
              "    border-color: transparent;\n",
              "    border-bottom-color: var(--fill-color);\n",
              "    animation:\n",
              "      spin 1s steps(1) infinite;\n",
              "  }\n",
              "\n",
              "  @keyframes spin {\n",
              "    0% {\n",
              "      border-color: transparent;\n",
              "      border-bottom-color: var(--fill-color);\n",
              "      border-left-color: var(--fill-color);\n",
              "    }\n",
              "    20% {\n",
              "      border-color: transparent;\n",
              "      border-left-color: var(--fill-color);\n",
              "      border-top-color: var(--fill-color);\n",
              "    }\n",
              "    30% {\n",
              "      border-color: transparent;\n",
              "      border-left-color: var(--fill-color);\n",
              "      border-top-color: var(--fill-color);\n",
              "      border-right-color: var(--fill-color);\n",
              "    }\n",
              "    40% {\n",
              "      border-color: transparent;\n",
              "      border-right-color: var(--fill-color);\n",
              "      border-top-color: var(--fill-color);\n",
              "    }\n",
              "    60% {\n",
              "      border-color: transparent;\n",
              "      border-right-color: var(--fill-color);\n",
              "    }\n",
              "    80% {\n",
              "      border-color: transparent;\n",
              "      border-right-color: var(--fill-color);\n",
              "      border-bottom-color: var(--fill-color);\n",
              "    }\n",
              "    90% {\n",
              "      border-color: transparent;\n",
              "      border-bottom-color: var(--fill-color);\n",
              "    }\n",
              "  }\n",
              "</style>\n",
              "\n",
              "  <script>\n",
              "    async function quickchart(key) {\n",
              "      const quickchartButtonEl =\n",
              "        document.querySelector('#' + key + ' button');\n",
              "      quickchartButtonEl.disabled = true;  // To prevent multiple clicks.\n",
              "      quickchartButtonEl.classList.add('colab-df-spinner');\n",
              "      try {\n",
              "        const charts = await google.colab.kernel.invokeFunction(\n",
              "            'suggestCharts', [key], {});\n",
              "      } catch (error) {\n",
              "        console.error('Error during call to suggestCharts:', error);\n",
              "      }\n",
              "      quickchartButtonEl.classList.remove('colab-df-spinner');\n",
              "      quickchartButtonEl.classList.add('colab-df-quickchart-complete');\n",
              "    }\n",
              "    (() => {\n",
              "      let quickchartButtonEl =\n",
              "        document.querySelector('#df-05a5a6fd-7344-4b82-8df0-422f3899ed92 button');\n",
              "      quickchartButtonEl.style.display =\n",
              "        google.colab.kernel.accessAllowed ? 'block' : 'none';\n",
              "    })();\n",
              "  </script>\n",
              "</div>\n",
              "    </div>\n",
              "  </div>\n"
            ]
          },
          "metadata": {},
          "execution_count": 13
        }
      ],
      "source": [
        "# YOUR CODE HERE\n",
        "data=pd.read_csv('Match.csv')\n",
        "df=pd.DataFrame(data)\n",
        "data"
      ]
    },
    {
      "cell_type": "markdown",
      "metadata": {
        "id": "a_cFHCpsVkAi"
      },
      "source": [
        "2. Display first five rows"
      ]
    },
    {
      "cell_type": "code",
      "execution_count": 12,
      "metadata": {
        "colab": {
          "base_uri": "https://localhost:8080/",
          "height": 382
        },
        "id": "aEzVTgrYVkAi",
        "outputId": "44965703-9b3f-4b02-f411-34b0fb59890a"
      },
      "outputs": [
        {
          "output_type": "execute_result",
          "data": {
            "text/plain": [
              "   Match_Id Match_Date  Team_Name_Id  Opponent_Team_Id  Season_Id  \\\n",
              "0    335987  18-Apr-08             2                 1          1   \n",
              "1    335988  19-Apr-08             4                 3          1   \n",
              "2    335989  19-Apr-08             6                 5          1   \n",
              "3    335990  20-Apr-08             7                 2          1   \n",
              "4    335991  20-Apr-08             1                 8          1   \n",
              "\n",
              "                                   Venue_Name  Toss_Winner_Id Toss_Decision  \\\n",
              "0                       M Chinnaswamy Stadium               2         field   \n",
              "1  Punjab Cricket Association Stadium, Mohali               3           bat   \n",
              "2                            Feroz Shah Kotla               5           bat   \n",
              "3                            Wankhede Stadium               7           bat   \n",
              "4                                Eden Gardens               8           bat   \n",
              "\n",
              "   IS_Superover  IS_Result  Is_DuckWorthLewis    Win_Type  Won_By  \\\n",
              "0             0          1                  0     by runs   140.0   \n",
              "1             0          1                  0     by runs    33.0   \n",
              "2             0          1                  0  by wickets     9.0   \n",
              "3             0          1                  0  by wickets     5.0   \n",
              "4             0          1                  0  by wickets     5.0   \n",
              "\n",
              "   Match_Winner_Id  Man_Of_The_Match_Id  First_Umpire_Id  Second_Umpire_Id  \\\n",
              "0              1.0                  2.0              470               477   \n",
              "1              3.0                 19.0              471               487   \n",
              "2              6.0                 90.0              472               512   \n",
              "3              2.0                 11.0              473               476   \n",
              "4              1.0                  4.0              474               486   \n",
              "\n",
              "    City_Name Host_Country  \n",
              "0   Bangalore        India  \n",
              "1  Chandigarh        India  \n",
              "2       Delhi        India  \n",
              "3      Mumbai        India  \n",
              "4     Kolkata        India  "
            ],
            "text/html": [
              "\n",
              "  <div id=\"df-c8c3c919-42ce-4bcf-b489-f8f091b3eedc\" class=\"colab-df-container\">\n",
              "    <div>\n",
              "<style scoped>\n",
              "    .dataframe tbody tr th:only-of-type {\n",
              "        vertical-align: middle;\n",
              "    }\n",
              "\n",
              "    .dataframe tbody tr th {\n",
              "        vertical-align: top;\n",
              "    }\n",
              "\n",
              "    .dataframe thead th {\n",
              "        text-align: right;\n",
              "    }\n",
              "</style>\n",
              "<table border=\"1\" class=\"dataframe\">\n",
              "  <thead>\n",
              "    <tr style=\"text-align: right;\">\n",
              "      <th></th>\n",
              "      <th>Match_Id</th>\n",
              "      <th>Match_Date</th>\n",
              "      <th>Team_Name_Id</th>\n",
              "      <th>Opponent_Team_Id</th>\n",
              "      <th>Season_Id</th>\n",
              "      <th>Venue_Name</th>\n",
              "      <th>Toss_Winner_Id</th>\n",
              "      <th>Toss_Decision</th>\n",
              "      <th>IS_Superover</th>\n",
              "      <th>IS_Result</th>\n",
              "      <th>Is_DuckWorthLewis</th>\n",
              "      <th>Win_Type</th>\n",
              "      <th>Won_By</th>\n",
              "      <th>Match_Winner_Id</th>\n",
              "      <th>Man_Of_The_Match_Id</th>\n",
              "      <th>First_Umpire_Id</th>\n",
              "      <th>Second_Umpire_Id</th>\n",
              "      <th>City_Name</th>\n",
              "      <th>Host_Country</th>\n",
              "    </tr>\n",
              "  </thead>\n",
              "  <tbody>\n",
              "    <tr>\n",
              "      <th>0</th>\n",
              "      <td>335987</td>\n",
              "      <td>18-Apr-08</td>\n",
              "      <td>2</td>\n",
              "      <td>1</td>\n",
              "      <td>1</td>\n",
              "      <td>M Chinnaswamy Stadium</td>\n",
              "      <td>2</td>\n",
              "      <td>field</td>\n",
              "      <td>0</td>\n",
              "      <td>1</td>\n",
              "      <td>0</td>\n",
              "      <td>by runs</td>\n",
              "      <td>140.0</td>\n",
              "      <td>1.0</td>\n",
              "      <td>2.0</td>\n",
              "      <td>470</td>\n",
              "      <td>477</td>\n",
              "      <td>Bangalore</td>\n",
              "      <td>India</td>\n",
              "    </tr>\n",
              "    <tr>\n",
              "      <th>1</th>\n",
              "      <td>335988</td>\n",
              "      <td>19-Apr-08</td>\n",
              "      <td>4</td>\n",
              "      <td>3</td>\n",
              "      <td>1</td>\n",
              "      <td>Punjab Cricket Association Stadium, Mohali</td>\n",
              "      <td>3</td>\n",
              "      <td>bat</td>\n",
              "      <td>0</td>\n",
              "      <td>1</td>\n",
              "      <td>0</td>\n",
              "      <td>by runs</td>\n",
              "      <td>33.0</td>\n",
              "      <td>3.0</td>\n",
              "      <td>19.0</td>\n",
              "      <td>471</td>\n",
              "      <td>487</td>\n",
              "      <td>Chandigarh</td>\n",
              "      <td>India</td>\n",
              "    </tr>\n",
              "    <tr>\n",
              "      <th>2</th>\n",
              "      <td>335989</td>\n",
              "      <td>19-Apr-08</td>\n",
              "      <td>6</td>\n",
              "      <td>5</td>\n",
              "      <td>1</td>\n",
              "      <td>Feroz Shah Kotla</td>\n",
              "      <td>5</td>\n",
              "      <td>bat</td>\n",
              "      <td>0</td>\n",
              "      <td>1</td>\n",
              "      <td>0</td>\n",
              "      <td>by wickets</td>\n",
              "      <td>9.0</td>\n",
              "      <td>6.0</td>\n",
              "      <td>90.0</td>\n",
              "      <td>472</td>\n",
              "      <td>512</td>\n",
              "      <td>Delhi</td>\n",
              "      <td>India</td>\n",
              "    </tr>\n",
              "    <tr>\n",
              "      <th>3</th>\n",
              "      <td>335990</td>\n",
              "      <td>20-Apr-08</td>\n",
              "      <td>7</td>\n",
              "      <td>2</td>\n",
              "      <td>1</td>\n",
              "      <td>Wankhede Stadium</td>\n",
              "      <td>7</td>\n",
              "      <td>bat</td>\n",
              "      <td>0</td>\n",
              "      <td>1</td>\n",
              "      <td>0</td>\n",
              "      <td>by wickets</td>\n",
              "      <td>5.0</td>\n",
              "      <td>2.0</td>\n",
              "      <td>11.0</td>\n",
              "      <td>473</td>\n",
              "      <td>476</td>\n",
              "      <td>Mumbai</td>\n",
              "      <td>India</td>\n",
              "    </tr>\n",
              "    <tr>\n",
              "      <th>4</th>\n",
              "      <td>335991</td>\n",
              "      <td>20-Apr-08</td>\n",
              "      <td>1</td>\n",
              "      <td>8</td>\n",
              "      <td>1</td>\n",
              "      <td>Eden Gardens</td>\n",
              "      <td>8</td>\n",
              "      <td>bat</td>\n",
              "      <td>0</td>\n",
              "      <td>1</td>\n",
              "      <td>0</td>\n",
              "      <td>by wickets</td>\n",
              "      <td>5.0</td>\n",
              "      <td>1.0</td>\n",
              "      <td>4.0</td>\n",
              "      <td>474</td>\n",
              "      <td>486</td>\n",
              "      <td>Kolkata</td>\n",
              "      <td>India</td>\n",
              "    </tr>\n",
              "  </tbody>\n",
              "</table>\n",
              "</div>\n",
              "    <div class=\"colab-df-buttons\">\n",
              "\n",
              "  <div class=\"colab-df-container\">\n",
              "    <button class=\"colab-df-convert\" onclick=\"convertToInteractive('df-c8c3c919-42ce-4bcf-b489-f8f091b3eedc')\"\n",
              "            title=\"Convert this dataframe to an interactive table.\"\n",
              "            style=\"display:none;\">\n",
              "\n",
              "  <svg xmlns=\"http://www.w3.org/2000/svg\" height=\"24px\" viewBox=\"0 -960 960 960\">\n",
              "    <path d=\"M120-120v-720h720v720H120Zm60-500h600v-160H180v160Zm220 220h160v-160H400v160Zm0 220h160v-160H400v160ZM180-400h160v-160H180v160Zm440 0h160v-160H620v160ZM180-180h160v-160H180v160Zm440 0h160v-160H620v160Z\"/>\n",
              "  </svg>\n",
              "    </button>\n",
              "\n",
              "  <style>\n",
              "    .colab-df-container {\n",
              "      display:flex;\n",
              "      gap: 12px;\n",
              "    }\n",
              "\n",
              "    .colab-df-convert {\n",
              "      background-color: #E8F0FE;\n",
              "      border: none;\n",
              "      border-radius: 50%;\n",
              "      cursor: pointer;\n",
              "      display: none;\n",
              "      fill: #1967D2;\n",
              "      height: 32px;\n",
              "      padding: 0 0 0 0;\n",
              "      width: 32px;\n",
              "    }\n",
              "\n",
              "    .colab-df-convert:hover {\n",
              "      background-color: #E2EBFA;\n",
              "      box-shadow: 0px 1px 2px rgba(60, 64, 67, 0.3), 0px 1px 3px 1px rgba(60, 64, 67, 0.15);\n",
              "      fill: #174EA6;\n",
              "    }\n",
              "\n",
              "    .colab-df-buttons div {\n",
              "      margin-bottom: 4px;\n",
              "    }\n",
              "\n",
              "    [theme=dark] .colab-df-convert {\n",
              "      background-color: #3B4455;\n",
              "      fill: #D2E3FC;\n",
              "    }\n",
              "\n",
              "    [theme=dark] .colab-df-convert:hover {\n",
              "      background-color: #434B5C;\n",
              "      box-shadow: 0px 1px 3px 1px rgba(0, 0, 0, 0.15);\n",
              "      filter: drop-shadow(0px 1px 2px rgba(0, 0, 0, 0.3));\n",
              "      fill: #FFFFFF;\n",
              "    }\n",
              "  </style>\n",
              "\n",
              "    <script>\n",
              "      const buttonEl =\n",
              "        document.querySelector('#df-c8c3c919-42ce-4bcf-b489-f8f091b3eedc button.colab-df-convert');\n",
              "      buttonEl.style.display =\n",
              "        google.colab.kernel.accessAllowed ? 'block' : 'none';\n",
              "\n",
              "      async function convertToInteractive(key) {\n",
              "        const element = document.querySelector('#df-c8c3c919-42ce-4bcf-b489-f8f091b3eedc');\n",
              "        const dataTable =\n",
              "          await google.colab.kernel.invokeFunction('convertToInteractive',\n",
              "                                                    [key], {});\n",
              "        if (!dataTable) return;\n",
              "\n",
              "        const docLinkHtml = 'Like what you see? Visit the ' +\n",
              "          '<a target=\"_blank\" href=https://colab.research.google.com/notebooks/data_table.ipynb>data table notebook</a>'\n",
              "          + ' to learn more about interactive tables.';\n",
              "        element.innerHTML = '';\n",
              "        dataTable['output_type'] = 'display_data';\n",
              "        await google.colab.output.renderOutput(dataTable, element);\n",
              "        const docLink = document.createElement('div');\n",
              "        docLink.innerHTML = docLinkHtml;\n",
              "        element.appendChild(docLink);\n",
              "      }\n",
              "    </script>\n",
              "  </div>\n",
              "\n",
              "\n",
              "<div id=\"df-8db7ef3f-d303-4d0a-a8a2-d47d68dce715\">\n",
              "  <button class=\"colab-df-quickchart\" onclick=\"quickchart('df-8db7ef3f-d303-4d0a-a8a2-d47d68dce715')\"\n",
              "            title=\"Suggest charts.\"\n",
              "            style=\"display:none;\">\n",
              "\n",
              "<svg xmlns=\"http://www.w3.org/2000/svg\" height=\"24px\"viewBox=\"0 0 24 24\"\n",
              "     width=\"24px\">\n",
              "    <g>\n",
              "        <path d=\"M19 3H5c-1.1 0-2 .9-2 2v14c0 1.1.9 2 2 2h14c1.1 0 2-.9 2-2V5c0-1.1-.9-2-2-2zM9 17H7v-7h2v7zm4 0h-2V7h2v10zm4 0h-2v-4h2v4z\"/>\n",
              "    </g>\n",
              "</svg>\n",
              "  </button>\n",
              "\n",
              "<style>\n",
              "  .colab-df-quickchart {\n",
              "      --bg-color: #E8F0FE;\n",
              "      --fill-color: #1967D2;\n",
              "      --hover-bg-color: #E2EBFA;\n",
              "      --hover-fill-color: #174EA6;\n",
              "      --disabled-fill-color: #AAA;\n",
              "      --disabled-bg-color: #DDD;\n",
              "  }\n",
              "\n",
              "  [theme=dark] .colab-df-quickchart {\n",
              "      --bg-color: #3B4455;\n",
              "      --fill-color: #D2E3FC;\n",
              "      --hover-bg-color: #434B5C;\n",
              "      --hover-fill-color: #FFFFFF;\n",
              "      --disabled-bg-color: #3B4455;\n",
              "      --disabled-fill-color: #666;\n",
              "  }\n",
              "\n",
              "  .colab-df-quickchart {\n",
              "    background-color: var(--bg-color);\n",
              "    border: none;\n",
              "    border-radius: 50%;\n",
              "    cursor: pointer;\n",
              "    display: none;\n",
              "    fill: var(--fill-color);\n",
              "    height: 32px;\n",
              "    padding: 0;\n",
              "    width: 32px;\n",
              "  }\n",
              "\n",
              "  .colab-df-quickchart:hover {\n",
              "    background-color: var(--hover-bg-color);\n",
              "    box-shadow: 0 1px 2px rgba(60, 64, 67, 0.3), 0 1px 3px 1px rgba(60, 64, 67, 0.15);\n",
              "    fill: var(--button-hover-fill-color);\n",
              "  }\n",
              "\n",
              "  .colab-df-quickchart-complete:disabled,\n",
              "  .colab-df-quickchart-complete:disabled:hover {\n",
              "    background-color: var(--disabled-bg-color);\n",
              "    fill: var(--disabled-fill-color);\n",
              "    box-shadow: none;\n",
              "  }\n",
              "\n",
              "  .colab-df-spinner {\n",
              "    border: 2px solid var(--fill-color);\n",
              "    border-color: transparent;\n",
              "    border-bottom-color: var(--fill-color);\n",
              "    animation:\n",
              "      spin 1s steps(1) infinite;\n",
              "  }\n",
              "\n",
              "  @keyframes spin {\n",
              "    0% {\n",
              "      border-color: transparent;\n",
              "      border-bottom-color: var(--fill-color);\n",
              "      border-left-color: var(--fill-color);\n",
              "    }\n",
              "    20% {\n",
              "      border-color: transparent;\n",
              "      border-left-color: var(--fill-color);\n",
              "      border-top-color: var(--fill-color);\n",
              "    }\n",
              "    30% {\n",
              "      border-color: transparent;\n",
              "      border-left-color: var(--fill-color);\n",
              "      border-top-color: var(--fill-color);\n",
              "      border-right-color: var(--fill-color);\n",
              "    }\n",
              "    40% {\n",
              "      border-color: transparent;\n",
              "      border-right-color: var(--fill-color);\n",
              "      border-top-color: var(--fill-color);\n",
              "    }\n",
              "    60% {\n",
              "      border-color: transparent;\n",
              "      border-right-color: var(--fill-color);\n",
              "    }\n",
              "    80% {\n",
              "      border-color: transparent;\n",
              "      border-right-color: var(--fill-color);\n",
              "      border-bottom-color: var(--fill-color);\n",
              "    }\n",
              "    90% {\n",
              "      border-color: transparent;\n",
              "      border-bottom-color: var(--fill-color);\n",
              "    }\n",
              "  }\n",
              "</style>\n",
              "\n",
              "  <script>\n",
              "    async function quickchart(key) {\n",
              "      const quickchartButtonEl =\n",
              "        document.querySelector('#' + key + ' button');\n",
              "      quickchartButtonEl.disabled = true;  // To prevent multiple clicks.\n",
              "      quickchartButtonEl.classList.add('colab-df-spinner');\n",
              "      try {\n",
              "        const charts = await google.colab.kernel.invokeFunction(\n",
              "            'suggestCharts', [key], {});\n",
              "      } catch (error) {\n",
              "        console.error('Error during call to suggestCharts:', error);\n",
              "      }\n",
              "      quickchartButtonEl.classList.remove('colab-df-spinner');\n",
              "      quickchartButtonEl.classList.add('colab-df-quickchart-complete');\n",
              "    }\n",
              "    (() => {\n",
              "      let quickchartButtonEl =\n",
              "        document.querySelector('#df-8db7ef3f-d303-4d0a-a8a2-d47d68dce715 button');\n",
              "      quickchartButtonEl.style.display =\n",
              "        google.colab.kernel.accessAllowed ? 'block' : 'none';\n",
              "    })();\n",
              "  </script>\n",
              "</div>\n",
              "    </div>\n",
              "  </div>\n"
            ]
          },
          "metadata": {},
          "execution_count": 12
        }
      ],
      "source": [
        "# YOUR CODE HERE\n",
        "df.head()"
      ]
    },
    {
      "cell_type": "markdown",
      "metadata": {
        "id": "it48gS0AVkAi"
      },
      "source": [
        "3. Display the following columns with middle 10 rows\n",
        "\n",
        "Match_Id, Team_Name_Id, Vanue_Name, Match_Winner_Id"
      ]
    },
    {
      "cell_type": "code",
      "execution_count": 26,
      "metadata": {
        "colab": {
          "base_uri": "https://localhost:8080/"
        },
        "id": "kLTN_6xNVkAi",
        "outputId": "c3e53784-96b6-4fa5-c6ef-576009e08e87"
      },
      "outputs": [
        {
          "output_type": "stream",
          "name": "stdout",
          "text": [
            "     Match_Id  Team_Name_Id                       Venue_Name  Match_Winner_Id\n",
            "284    548349             1                     Eden Gardens              1.0\n",
            "285    548350             6                 Feroz Shah Kotla              6.0\n",
            "286    548351             7                 Wankhede Stadium              7.0\n",
            "287    548352             3  MA Chidambaram Stadium, Chepauk              1.0\n",
            "288    548353             8                 Barabati Stadium              8.0\n",
            "289    548354             5           Sawai Mansingh Stadium              6.0\n",
            "290    548355             2            M Chinnaswamy Stadium              4.0\n",
            "291    548356            10       Subrata Roy Sahara Stadium              7.0\n",
            "292    548357             3  MA Chidambaram Stadium, Chepauk              3.0\n",
            "293    548358             1                     Eden Gardens              1.0\n"
          ]
        }
      ],
      "source": [
        "# YOUR CODE HERE\n",
        "rows=(df.shape[0])\n",
        "rows=rows/2\n",
        "extracted=['Match_Id','Team_Name_Id','Venue_Name','Match_Winner_Id']\n",
        "print(df.loc[rows-5:rows+5,extracted])"
      ]
    },
    {
      "cell_type": "markdown",
      "metadata": {
        "id": "FwFWFkMSVkAi"
      },
      "source": [
        "4. How many vanues are there in dataset?"
      ]
    },
    {
      "cell_type": "code",
      "execution_count": 38,
      "metadata": {
        "colab": {
          "base_uri": "https://localhost:8080/"
        },
        "id": "SSEJVvC6VkAi",
        "outputId": "1f3fb980-2725-41e4-a051-f0885f97fff2"
      },
      "outputs": [
        {
          "output_type": "stream",
          "name": "stdout",
          "text": [
            "35\n"
          ]
        }
      ],
      "source": [
        "# YOUR CODE HERE\n",
        "venues=df['Venue_Name']\n",
        "venues=pd.DataFrame(venues)\n",
        "venues=(np.unique(np.array(venues)))\n",
        "print(len(venues))"
      ]
    },
    {
      "cell_type": "markdown",
      "metadata": {
        "id": "BFgGm0sMVkAj"
      },
      "source": [
        "6. Print the name of all the columns present in your dataset"
      ]
    },
    {
      "cell_type": "code",
      "execution_count": 25,
      "metadata": {
        "colab": {
          "base_uri": "https://localhost:8080/"
        },
        "id": "HjiNjWmIVkAj",
        "outputId": "c7c10ef2-0061-461b-b3ce-35ae83098209"
      },
      "outputs": [
        {
          "output_type": "stream",
          "name": "stdout",
          "text": [
            "['Match_Id', 'Match_Date', 'Team_Name_Id', 'Opponent_Team_Id', 'Season_Id', 'Venue_Name', 'Toss_Winner_Id', 'Toss_Decision', 'IS_Superover', 'IS_Result', 'Is_DuckWorthLewis', 'Win_Type', 'Won_By', 'Match_Winner_Id', 'Man_Of_The_Match_Id', 'First_Umpire_Id', 'Second_Umpire_Id', 'City_Name', 'Host_Country']\n"
          ]
        }
      ],
      "source": [
        "# YOUR CODE HERE\n",
        "col=list(df.columns.values)\n",
        "print(col)"
      ]
    },
    {
      "cell_type": "markdown",
      "metadata": {
        "id": "sIsiVL2IVkAj"
      },
      "source": [
        "7. Enlist winner team for each match"
      ]
    },
    {
      "cell_type": "code",
      "execution_count": 45,
      "metadata": {
        "colab": {
          "base_uri": "https://localhost:8080/"
        },
        "id": "2gdKhwz_VkAj",
        "outputId": "722ba7d0-ee68-4100-9fc6-33504f947078"
      },
      "outputs": [
        {
          "output_type": "stream",
          "name": "stdout",
          "text": [
            "     Match_Id  Match_Winner_Id\n",
            "0      335987              1.0\n",
            "1      335988              3.0\n",
            "2      335989              6.0\n",
            "3      335990              2.0\n",
            "4      335991              1.0\n",
            "..        ...              ...\n",
            "572    981016              2.0\n",
            "573    981018              2.0\n",
            "574    981020             11.0\n",
            "575    981022             11.0\n",
            "576    981024             11.0\n",
            "\n",
            "[577 rows x 2 columns]\n"
          ]
        }
      ],
      "source": [
        "# YOUR CODE HERE\n",
        "winner= df[['Match_Id','Match_Winner_Id']]\n",
        "print(winner)\n",
        "\n"
      ]
    },
    {
      "cell_type": "markdown",
      "metadata": {
        "id": "O5ZtGbJFVkAj"
      },
      "source": [
        "8. How many matches that are played in dehli are won by runs"
      ]
    },
    {
      "cell_type": "code",
      "execution_count": 61,
      "metadata": {
        "colab": {
          "base_uri": "https://localhost:8080/"
        },
        "id": "kfSO95GwVkAj",
        "outputId": "9aef2ea7-7e85-49d1-da7a-57dffd4e44a4"
      },
      "outputs": [
        {
          "output_type": "stream",
          "name": "stdout",
          "text": [
            "24\n"
          ]
        }
      ],
      "source": [
        "# YOUR CODE HERE\n",
        "win=df[df['City_Name']=='Delhi'].groupby('Win_Type').size()\n",
        "count=win.get('by runs',0)\n",
        "print(count)\n",
        "\n"
      ]
    },
    {
      "cell_type": "markdown",
      "metadata": {
        "id": "ZfxnElpHVkAj"
      },
      "source": [
        "9. Enlist all teams who have win the toss and won the match"
      ]
    },
    {
      "cell_type": "code",
      "execution_count": 75,
      "metadata": {
        "colab": {
          "base_uri": "https://localhost:8080/"
        },
        "id": "YkUUuQSkVkAj",
        "outputId": "bfb92707-cbed-4b47-8528-ebd56a8987ab"
      },
      "outputs": [
        {
          "output_type": "stream",
          "name": "stdout",
          "text": [
            "<pandas.core.groupby.generic.SeriesGroupBy object at 0x7c207190fe50>\n",
            "     Match_Id Match_Date  Team_Name_Id  Opponent_Team_Id  Season_Id  \\\n",
            "1      335988  19-Apr-08             4                 3          1   \n",
            "8      335995  24-Apr-08             8                 5          1   \n",
            "10     335997  26-Apr-08             2                 5          1   \n",
            "12     335999  27-Apr-08             7                 8          1   \n",
            "14     336001  28-Apr-08             2                 3          1   \n",
            "..        ...        ...           ...               ...        ...   \n",
            "570    981012  21-May-16            13                 7          9   \n",
            "572    981016  22-May-16             6                 2          9   \n",
            "573    981018  24-May-16            13                 2          9   \n",
            "575    981022  27-May-16            13                11          9   \n",
            "576    981024  29-May-16             2                11          9   \n",
            "\n",
            "                                           Venue_Name  Toss_Winner_Id  \\\n",
            "1          Punjab Cricket Association Stadium, Mohali               3   \n",
            "8           Rajiv Gandhi International Stadium, Uppal               5   \n",
            "10                              M Chinnaswamy Stadium               5   \n",
            "12                         Dr DY Patil Sports Academy               8   \n",
            "14                              M Chinnaswamy Stadium               3   \n",
            "..                                                ...             ...   \n",
            "570                                        Green Park              13   \n",
            "572  Shaheed Veer Narayan Singh International Stadium               2   \n",
            "573                             M Chinnaswamy Stadium               2   \n",
            "575                                  Feroz Shah Kotla              11   \n",
            "576                             M Chinnaswamy Stadium              11   \n",
            "\n",
            "    Toss_Decision  IS_Superover  IS_Result  Is_DuckWorthLewis    Win_Type  \\\n",
            "1             bat             0          1                  0     by runs   \n",
            "8           field             0          1                  0  by wickets   \n",
            "10          field             0          1                  0  by wickets   \n",
            "12          field             0          1                  0  by wickets   \n",
            "14            bat             0          1                  0     by runs   \n",
            "..            ...           ...        ...                ...         ...   \n",
            "570         field             0          1                  0  by wickets   \n",
            "572         field             0          1                  0  by wickets   \n",
            "573         field             0          1                  0  by wickets   \n",
            "575         field             0          1                  0  by wickets   \n",
            "576           bat             0          1                  0     by runs   \n",
            "\n",
            "     Won_By  Match_Winner_Id  Man_Of_The_Match_Id  First_Umpire_Id  \\\n",
            "1      33.0              3.0                 19.0              471   \n",
            "8       3.0              5.0                 31.0              470   \n",
            "10      7.0              5.0                 32.0              471   \n",
            "12     10.0              8.0                 53.0              470   \n",
            "14     13.0              3.0                 20.0              478   \n",
            "..      ...              ...                  ...              ...   \n",
            "570     6.0             13.0                 21.0              495   \n",
            "572     6.0              2.0                  8.0              511   \n",
            "573     4.0              2.0                110.0              495   \n",
            "575     4.0             11.0                187.0              481   \n",
            "576     8.0             11.0                385.0              482   \n",
            "\n",
            "     Second_Umpire_Id   City_Name Host_Country  \n",
            "1                 487  Chandigarh        India  \n",
            "8                 471   Hyderabad        India  \n",
            "10                475   Bangalore        India  \n",
            "12                487      Mumbai        India  \n",
            "14                513   Bangalore        India  \n",
            "..                ...         ...          ...  \n",
            "570               498      Kanpur        India  \n",
            "572               497      Raipur        India  \n",
            "573               482   Bangalore        India  \n",
            "575               498       Delhi        India  \n",
            "576               497   Bangalore        India  \n",
            "\n",
            "[291 rows x 19 columns]\n"
          ]
        }
      ],
      "source": [
        "# YOUR CODE HERE\n",
        "toss=df.groupby(df['Match_Winner_Id'])['Toss_Winner_Id']\n",
        "print(toss)\n",
        "print(df[df['Match_Winner_Id']==df['Toss_Winner_Id']])\n"
      ]
    },
    {
      "cell_type": "markdown",
      "metadata": {
        "id": "sJfaaVzBVkAj"
      },
      "source": [
        "10. What are the chances of a team to win if they are playing in dehli and lost the toss?"
      ]
    },
    {
      "cell_type": "code",
      "execution_count": 76,
      "metadata": {
        "colab": {
          "base_uri": "https://localhost:8080/",
          "height": 140
        },
        "id": "w-r1hZ0fVkAk",
        "outputId": "af9238b0-d98f-4b3e-cc3b-e47c6979285f"
      },
      "outputs": [
        {
          "output_type": "error",
          "ename": "SyntaxError",
          "evalue": "ignored",
          "traceback": [
            "\u001b[0;36m  File \u001b[0;32m\"<ipython-input-76-60eb91674b91>\"\u001b[0;36m, line \u001b[0;32m5\u001b[0m\n\u001b[0;31m    if(name[0]=='Delhi' and name[1]=='by runs'):\u001b[0m\n\u001b[0m                                                ^\u001b[0m\n\u001b[0;31mSyntaxError\u001b[0m\u001b[0;31m:\u001b[0m incomplete input\n"
          ]
        }
      ],
      "source": [
        "# YOUR CODE HERE\n",
        "Lost=df.groupby(['City_Name','Win_Type'])\n",
        "count=0\n",
        "runs=0\n",
        "wickets=0\n",
        "for name,gp in Lost:\n",
        "  if(name[0]=='Delhi' and name[1]=='by runs'):\n",
        "    runs=gp.count()[0]\n",
        "  if(name[0]=='Delhi' and name[1]=='by wickets'):\n",
        "    wickets=gp.count()[0]\n",
        "  count=count+1\n"
      ]
    },
    {
      "cell_type": "markdown",
      "metadata": {
        "id": "dUHHXZuNfbUk"
      },
      "source": [
        "<center><h2 style=\"font-family: 'Vladimir Script', serif;\">Happy Coding</h2></center>"
      ]
    }
  ],
  "metadata": {
    "colab": {
      "collapsed_sections": [
        "toC3ZHaML1yw",
        "KhbZNdL7L9Tv",
        "JHGZ4MomNNMf",
        "6OvPA9P1OcOv",
        "N9nKY6tuQr7m",
        "BU9X_Xr8RK_W",
        "yHDDKsFZRZaX"
      ],
      "provenance": []
    },
    "kernelspec": {
      "display_name": "Python 3 (ipykernel)",
      "language": "python",
      "name": "python3"
    },
    "language_info": {
      "codemirror_mode": {
        "name": "ipython",
        "version": 3
      },
      "file_extension": ".py",
      "mimetype": "text/x-python",
      "name": "python",
      "nbconvert_exporter": "python",
      "pygments_lexer": "ipython3",
      "version": "3.8.13"
    }
  },
  "nbformat": 4,
  "nbformat_minor": 0
}