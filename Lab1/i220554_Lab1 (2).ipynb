{
 "cells": [
  {
   "cell_type": "code",
   "execution_count": 6,
   "id": "84f05f28",
   "metadata": {},
   "outputs": [
    {
     "name": "stdout",
     "output_type": "stream",
     "text": [
      "Enter Name : ali has\n",
      "Entre id : 353\n",
      "ali has 353\n"
     ]
    }
   ],
   "source": [
    "name=input(\"Enter Name : \")\n",
    "id1 = input(\"Entre id : \")\n",
    "print(name + \" \" +str(id1))"
   ]
  },
  {
   "cell_type": "code",
   "execution_count": 14,
   "id": "533492ad",
   "metadata": {},
   "outputs": [
    {
     "name": "stdout",
     "output_type": "stream",
     "text": [
      "enter your marks : 0\n",
      "Congrats you got F grade\n"
     ]
    }
   ],
   "source": [
    "numbers =int(input(\"enter your marks : \")) \n",
    "if numbers>90 and numbers<100:\n",
    "    print(\"Congrats you got A grade\")\n",
    "elif numbers>80 and numbers<100:\n",
    "    print(\"Congrats you got B grade\")\n",
    "elif numbers>70 and numbers<100:\n",
    "    print(\"Congrats you got C grade\")\n",
    "elif numbers>60 and numbers<100:\n",
    "    print(\"Congrats you got D grade\")\n",
    "elif numbers>60 and numbers<100:\n",
    "    print(\"Congrats you got E grade\")\n",
    "elif numbers<50 and numbers<100:\n",
    "    print(\"Congrats you got F grade\")\n",
    "else:\n",
    "    print(\"Invalid Input\")\n",
    "    "
   ]
  },
  {
   "cell_type": "code",
   "execution_count": 22,
   "id": "8a1c303d",
   "metadata": {},
   "outputs": [
    {
     "name": "stdout",
     "output_type": "stream",
     "text": [
      "a\n",
      "e\n",
      "i\n",
      "o\n",
      "u\n",
      "total count of non vowels are :21\n"
     ]
    }
   ],
   "source": [
    "count=0\n",
    "for x in \"abcdefghijklmnopqrstuvwxyz\":\n",
    "        if x=='a'or x=='e'or x== 'i'or x=='o'or x== 'u':\n",
    "            print(x)\n",
    "        else:\n",
    "            count = count + 1\n",
    "print(\"total count of non vowels are :\" + str(count))        \n",
    "        \n",
    "        "
   ]
  },
  {
   "cell_type": "code",
   "execution_count": 69,
   "id": "468606d3",
   "metadata": {},
   "outputs": [
    {
     "name": "stdout",
     "output_type": "stream",
     "text": [
      "['A', 'C+', 'C', 'D+', 'C+', 'C']\n",
      "D+\n",
      "['C', 'D+', 'C+']\n",
      "['A', 'C+', 'C', 'D+', 'C+', 'C', 'A-']\n",
      "['A', 'C+', 'C', 'D+', 'C+', 'C', 'A-']\n",
      "['A', 'C+', 'C', 'D+', 'C+', 'C', 'A-', 'B']\n",
      "2\n",
      "['A', 'C+', 'C-', 'C', 'D+', 'C+', 'C', 'A-', 'B']\n",
      "B\n",
      "D+\n",
      "['A', 'C+', 'C-', 'C', 'C+', 'C', 'A-']\n",
      "['A', 'C+', 'C-', 'C+', 'C', 'A-']\n",
      "['A-', 'C', 'C+', 'C-', 'C+', 'A']\n",
      "['A', 'A-', 'C', 'C+', 'C+', 'C-']\n",
      "C-\n",
      "A\n"
     ]
    }
   ],
   "source": [
    "    my_list = ['A','C+','C','D+','C+','C']\n",
    "\n",
    "    print(my_list)\n",
    "    print(my_list[3])\n",
    "    print(my_list[2:5])\n",
    "    my_list.append('A-')\n",
    "    print(my_list)\n",
    "    print(my_list.copy())\n",
    "    my_list.extend('B')\n",
    "    print(my_list)\n",
    "    print(my_list.index('C'))\n",
    "    my_list.insert(2,'C-')\n",
    "    print(my_list)\n",
    "    print(my_list.pop())\n",
    "    print(my_list.pop(4))\n",
    "    print(my_list)\n",
    "    my_list.remove('C')\n",
    "    print(my_list)\n",
    "    my_list.reverse()\n",
    "    print(my_list)\n",
    "    my_list.sort()\n",
    "    print(my_list)\n",
    "    print(max(my_list))\n",
    "    print(min(my_list))\n",
    "    \n",
    "#     print(my_list.clear())"
   ]
  },
  {
   "cell_type": "code",
   "execution_count": 75,
   "id": "15a5be66",
   "metadata": {},
   "outputs": [
    {
     "name": "stdout",
     "output_type": "stream",
     "text": [
      "(-3, 216)\n"
     ]
    }
   ],
   "source": [
    "def myFun(first,second=5):\n",
    "    if first>0:\n",
    "        return first**2\n",
    "    else:\n",
    "        return first,second**3\n",
    "    \n",
    "print(myFun(-3,6))"
   ]
  },
  {
   "cell_type": "code",
   "execution_count": null,
   "id": "fc45345f",
   "metadata": {},
   "outputs": [],
   "source": []
  }
 ],
 "metadata": {
  "kernelspec": {
   "display_name": "Python 3 (ipykernel)",
   "language": "python",
   "name": "python3"
  },
  "language_info": {
   "codemirror_mode": {
    "name": "ipython",
    "version": 3
   },
   "file_extension": ".py",
   "mimetype": "text/x-python",
   "name": "python",
   "nbconvert_exporter": "python",
   "pygments_lexer": "ipython3",
   "version": "3.9.13"
  }
 },
 "nbformat": 4,
 "nbformat_minor": 5
}
